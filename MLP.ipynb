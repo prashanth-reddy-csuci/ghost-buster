{
 "cells": [
  {
   "cell_type": "code",
   "execution_count": 1,
   "id": "848969dd",
   "metadata": {},
   "outputs": [],
   "source": [
    "import pandas as pd\n",
    "import numpy as np\n",
    "import os\n",
    "import dill as pickle\n",
    "from sklearn.model_selection import train_test_split\n",
    "from sklearn.linear_model import LogisticRegression\n",
    "from sklearn.model_selection import GridSearchCV\n",
    "from sklearn.model_selection import cross_val_score\n",
    "from sklearn.metrics import f1_score, accuracy_score, roc_auc_score\n",
    "from scipy.stats import loguniform\n",
    "from sklearn.model_selection import RepeatedStratifiedKFold\n",
    "from sklearn.model_selection import RandomizedSearchCV\n",
    "from sklearn.neural_network import MLPClassifier"
   ]
  },
  {
   "cell_type": "code",
   "execution_count": 2,
   "id": "faf4697a",
   "metadata": {},
   "outputs": [],
   "source": [
    "def load_sentence_embeddings(model='DistilBERT', features_path='features/', filename='sentence_embeddings'):\n",
    "    if model == 'DistilBERT':\n",
    "        tst_df = pd.concat([pickle.load(open(os.path.join(features_path, file), 'rb')) for file in os.listdir(features_path) if filename in file])\n",
    "        return tst_df"
   ]
  },
  {
   "cell_type": "code",
   "execution_count": 3,
   "id": "d5f2c305",
   "metadata": {},
   "outputs": [],
   "source": [
    "tst_df = load_sentence_embeddings()"
   ]
  },
  {
   "cell_type": "code",
   "execution_count": 4,
   "id": "a8631e59",
   "metadata": {},
   "outputs": [
    {
     "data": {
      "text/plain": [
       "(22332, 2)"
      ]
     },
     "execution_count": 4,
     "metadata": {},
     "output_type": "execute_result"
    }
   ],
   "source": [
    "tst_df.shape"
   ]
  },
  {
   "cell_type": "code",
   "execution_count": 5,
   "id": "9f8765a2",
   "metadata": {},
   "outputs": [
    {
     "data": {
      "text/html": [
       "<div>\n",
       "<style scoped>\n",
       "    .dataframe tbody tr th:only-of-type {\n",
       "        vertical-align: middle;\n",
       "    }\n",
       "\n",
       "    .dataframe tbody tr th {\n",
       "        vertical-align: top;\n",
       "    }\n",
       "\n",
       "    .dataframe thead th {\n",
       "        text-align: right;\n",
       "    }\n",
       "</style>\n",
       "<table border=\"1\" class=\"dataframe\">\n",
       "  <thead>\n",
       "    <tr style=\"text-align: right;\">\n",
       "      <th></th>\n",
       "      <th>sentence_embeddings</th>\n",
       "      <th>label</th>\n",
       "    </tr>\n",
       "  </thead>\n",
       "  <tbody>\n",
       "    <tr>\n",
       "      <th>0</th>\n",
       "      <td>[-0.21086546778678894, -0.005486507900059223, ...</td>\n",
       "      <td>0</td>\n",
       "    </tr>\n",
       "    <tr>\n",
       "      <th>1</th>\n",
       "      <td>[-0.3340323865413666, 0.1280461549758911, -0.6...</td>\n",
       "      <td>0</td>\n",
       "    </tr>\n",
       "    <tr>\n",
       "      <th>2</th>\n",
       "      <td>[-0.4694300889968872, -0.14065003395080566, -0...</td>\n",
       "      <td>0</td>\n",
       "    </tr>\n",
       "    <tr>\n",
       "      <th>3</th>\n",
       "      <td>[-0.19011789560317993, 0.16007745265960693, -0...</td>\n",
       "      <td>0</td>\n",
       "    </tr>\n",
       "    <tr>\n",
       "      <th>4</th>\n",
       "      <td>[-0.5151359438896179, -0.09672432392835617, -0...</td>\n",
       "      <td>0</td>\n",
       "    </tr>\n",
       "  </tbody>\n",
       "</table>\n",
       "</div>"
      ],
      "text/plain": [
       "                                 sentence_embeddings  label\n",
       "0  [-0.21086546778678894, -0.005486507900059223, ...      0\n",
       "1  [-0.3340323865413666, 0.1280461549758911, -0.6...      0\n",
       "2  [-0.4694300889968872, -0.14065003395080566, -0...      0\n",
       "3  [-0.19011789560317993, 0.16007745265960693, -0...      0\n",
       "4  [-0.5151359438896179, -0.09672432392835617, -0...      0"
      ]
     },
     "execution_count": 5,
     "metadata": {},
     "output_type": "execute_result"
    }
   ],
   "source": [
    "tst_df.head()"
   ]
  },
  {
   "cell_type": "code",
   "execution_count": 6,
   "id": "78faca62",
   "metadata": {},
   "outputs": [
    {
     "data": {
      "text/plain": [
       "0    14888\n",
       "1     7444\n",
       "Name: label, dtype: int64"
      ]
     },
     "execution_count": 6,
     "metadata": {},
     "output_type": "execute_result"
    }
   ],
   "source": [
    "tst_df.label.value_counts()"
   ]
  },
  {
   "cell_type": "code",
   "execution_count": 7,
   "id": "ab8b34bf",
   "metadata": {},
   "outputs": [],
   "source": [
    "features = np.array(tst_df.sentence_embeddings.tolist())"
   ]
  },
  {
   "cell_type": "code",
   "execution_count": 8,
   "id": "30449365",
   "metadata": {},
   "outputs": [],
   "source": [
    "labels = tst_df['label']"
   ]
  },
  {
   "cell_type": "code",
   "execution_count": 9,
   "id": "102674d9",
   "metadata": {},
   "outputs": [],
   "source": [
    "train_features, test_features, train_labels, test_labels = train_test_split(features, labels)"
   ]
  },
  {
   "cell_type": "code",
   "execution_count": null,
   "id": "e7697029",
   "metadata": {},
   "outputs": [],
   "source": []
  },
  {
   "cell_type": "code",
   "execution_count": 17,
   "id": "85cea206",
   "metadata": {},
   "outputs": [],
   "source": [
    "clf1 = MLPClassifier(random_state=1, max_iter=300).fit(train_features, train_labels)"
   ]
  },
  {
   "cell_type": "code",
   "execution_count": 18,
   "id": "2a6c55ea",
   "metadata": {},
   "outputs": [],
   "source": [
    "predictions = clf1.predict(test_features)\n",
    "probs = clf1.predict_proba(test_features)[:, 1]"
   ]
  },
  {
   "cell_type": "code",
   "execution_count": 19,
   "id": "a3e78215",
   "metadata": {},
   "outputs": [
    {
     "data": {
      "text/plain": [
       "0.9860290166577109"
      ]
     },
     "execution_count": 19,
     "metadata": {},
     "output_type": "execute_result"
    }
   ],
   "source": [
    "clf1.score(test_features, test_labels)"
   ]
  },
  {
   "cell_type": "code",
   "execution_count": 20,
   "id": "e5def6be",
   "metadata": {},
   "outputs": [],
   "source": [
    "result_table = [[\"Classifier\", \"F1\", \"Accuracy\", \"AUC\"]]"
   ]
  },
  {
   "cell_type": "code",
   "execution_count": 21,
   "id": "30e5ab00",
   "metadata": {},
   "outputs": [],
   "source": [
    "result_table.append([\n",
    "    \"MLPClassifier(random_state=1, max_iter=300)\",\n",
    "    round(f1_score(test_labels, predictions), 3),\n",
    "    round(accuracy_score(test_labels, predictions), 3),\n",
    "    round(roc_auc_score(test_labels, probs), 3),\n",
    "])"
   ]
  },
  {
   "cell_type": "code",
   "execution_count": 22,
   "id": "90ef1116",
   "metadata": {},
   "outputs": [
    {
     "data": {
      "text/plain": [
       "[['Classifier', 'F1', 'Accuracy', 'AUC'],\n",
       " ['MLPClassifier(random_state=1, max_iter=300)', 0.979, 0.986, 0.999]]"
      ]
     },
     "execution_count": 22,
     "metadata": {},
     "output_type": "execute_result"
    }
   ],
   "source": [
    "result_table"
   ]
  },
  {
   "cell_type": "code",
   "execution_count": null,
   "id": "3ddb69c2",
   "metadata": {},
   "outputs": [],
   "source": []
  },
  {
   "cell_type": "code",
   "execution_count": null,
   "id": "4d9c5e79",
   "metadata": {},
   "outputs": [],
   "source": []
  },
  {
   "cell_type": "markdown",
   "id": "f92aa894",
   "metadata": {},
   "source": [
    "# increased layers"
   ]
  },
  {
   "cell_type": "code",
   "execution_count": 11,
   "id": "b4e80ff4",
   "metadata": {},
   "outputs": [],
   "source": [
    "clf = MLPClassifier(hidden_layer_sizes=(100, 75, 50, 25), activation='logistic', learning_rate='adaptive', \n",
    "                    shuffle=True, early_stopping=True, random_state=1, max_iter=500).fit(train_features, train_labels)"
   ]
  },
  {
   "cell_type": "code",
   "execution_count": 12,
   "id": "8aebb3aa",
   "metadata": {},
   "outputs": [],
   "source": [
    "predictions = clf.predict(test_features)\n",
    "probs = clf.predict_proba(test_features)[:, 1]"
   ]
  },
  {
   "cell_type": "code",
   "execution_count": 13,
   "id": "12750df5",
   "metadata": {},
   "outputs": [
    {
     "data": {
      "text/plain": [
       "0.9817302525523912"
      ]
     },
     "execution_count": 13,
     "metadata": {},
     "output_type": "execute_result"
    }
   ],
   "source": [
    "clf.score(test_features, test_labels)"
   ]
  },
  {
   "cell_type": "code",
   "execution_count": 14,
   "id": "074281c6",
   "metadata": {},
   "outputs": [],
   "source": [
    "result_table = [[\"Classifier\", \"F1\", \"Accuracy\", \"AUC\"]]"
   ]
  },
  {
   "cell_type": "code",
   "execution_count": 23,
   "id": "4b18e42e",
   "metadata": {},
   "outputs": [],
   "source": [
    "result_table.append([\n",
    "    \"MLPClassifier(hidden_layer_sizes=(100, 75, 50, 25), activation='logistic', learning_rate='adaptive', shuffle=True, early_stopping=True, random_state=1, max_iter=500)\",\n",
    "    round(f1_score(test_labels, predictions), 3),\n",
    "    round(accuracy_score(test_labels, predictions), 3),\n",
    "    round(roc_auc_score(test_labels, probs), 3),\n",
    "])"
   ]
  },
  {
   "cell_type": "code",
   "execution_count": 24,
   "id": "ec3689b7",
   "metadata": {},
   "outputs": [
    {
     "data": {
      "text/plain": [
       "[['Classifier', 'F1', 'Accuracy', 'AUC'],\n",
       " ['MLPClassifier(random_state=1, max_iter=300)', 0.979, 0.986, 0.999],\n",
       " [\"MLPClassifier(hidden_layer_sizes=(100, 75, 50, 25), activation='logistic', learning_rate='adaptive', shuffle=True, early_stopping=True, random_state=1, max_iter=500)\",\n",
       "  0.979,\n",
       "  0.986,\n",
       "  0.999]]"
      ]
     },
     "execution_count": 24,
     "metadata": {},
     "output_type": "execute_result"
    }
   ],
   "source": [
    "result_table"
   ]
  },
  {
   "cell_type": "code",
   "execution_count": null,
   "id": "2076af07",
   "metadata": {},
   "outputs": [],
   "source": []
  },
  {
   "cell_type": "code",
   "execution_count": null,
   "id": "efc8e5c8",
   "metadata": {},
   "outputs": [],
   "source": []
  },
  {
   "cell_type": "code",
   "execution_count": 26,
   "id": "35b67457",
   "metadata": {},
   "outputs": [
    {
     "name": "stdout",
     "output_type": "stream",
     "text": [
      "0.9817302525523912\n"
     ]
    },
    {
     "data": {
      "text/plain": [
       "[['Classifier', 'F1', 'Accuracy', 'AUC'],\n",
       " ['MLPClassifier(random_state=1, max_iter=300)', 0.979, 0.986, 0.999],\n",
       " [\"MLPClassifier(hidden_layer_sizes=(100, 75, 50, 25), activation='logistic', learning_rate='adaptive', shuffle=True, early_stopping=True, random_state=1, max_iter=500)\",\n",
       "  0.979,\n",
       "  0.986,\n",
       "  0.999],\n",
       " [\"MLPClassifier(hidden_layer_sizes=(100, 75, 50, 25), activation='logistic', learning_rate='constant', shuffle=True, early_stopping=True, random_state=1, max_iter=500)\",\n",
       "  0.973,\n",
       "  0.982,\n",
       "  0.998]]"
      ]
     },
     "execution_count": 26,
     "metadata": {},
     "output_type": "execute_result"
    }
   ],
   "source": [
    "clf2 = MLPClassifier(hidden_layer_sizes=(100, 75, 50, 25), activation='logistic', learning_rate='constant', \n",
    "                    shuffle=True, early_stopping=True, random_state=1, max_iter=500).fit(train_features, train_labels)\n",
    "\n",
    "predictions = clf2.predict(test_features)\n",
    "probs = clf2.predict_proba(test_features)[:, 1]\n",
    "\n",
    "print(clf2.score(test_features, test_labels))\n",
    "\n",
    "result_table.append([\n",
    "    \"MLPClassifier(hidden_layer_sizes=(100, 75, 50, 25), activation='logistic', learning_rate='constant', shuffle=True, early_stopping=True, random_state=1, max_iter=500)\",\n",
    "    round(f1_score(test_labels, predictions), 3),\n",
    "    round(accuracy_score(test_labels, predictions), 3),\n",
    "    round(roc_auc_score(test_labels, probs), 3),\n",
    "])\n",
    "\n",
    "result_table"
   ]
  },
  {
   "cell_type": "code",
   "execution_count": null,
   "id": "6f64eb3b",
   "metadata": {},
   "outputs": [],
   "source": []
  },
  {
   "cell_type": "code",
   "execution_count": null,
   "id": "c5e51299",
   "metadata": {},
   "outputs": [],
   "source": []
  },
  {
   "cell_type": "code",
   "execution_count": 28,
   "id": "0bf1559d",
   "metadata": {},
   "outputs": [
    {
     "name": "stdout",
     "output_type": "stream",
     "text": [
      "0.9815511373813361\n"
     ]
    },
    {
     "data": {
      "text/plain": [
       "[['Classifier', 'F1', 'Accuracy', 'AUC'],\n",
       " ['MLPClassifier(random_state=1, max_iter=300)', 0.979, 0.986, 0.999],\n",
       " [\"MLPClassifier(hidden_layer_sizes=(100, 75, 50, 25), activation='logistic', learning_rate='adaptive', shuffle=True, early_stopping=True, random_state=1, max_iter=500)\",\n",
       "  0.979,\n",
       "  0.986,\n",
       "  0.999],\n",
       " [\"MLPClassifier(hidden_layer_sizes=(100, 75, 50, 25), activation='logistic', learning_rate='constant', shuffle=True, early_stopping=True, random_state=1, max_iter=500)\",\n",
       "  0.973,\n",
       "  0.982,\n",
       "  0.998],\n",
       " [\"MLPClassifier(hidden_layer_sizes=(100, 75, 50, 25), activation='relu', learning_rate='constant', shuffle=True, early_stopping=True, random_state=1, max_iter=500)\",\n",
       "  0.973,\n",
       "  0.982,\n",
       "  0.998]]"
      ]
     },
     "execution_count": 28,
     "metadata": {},
     "output_type": "execute_result"
    }
   ],
   "source": [
    "clf3 = MLPClassifier(hidden_layer_sizes=(100, 75, 50, 25), activation='relu', learning_rate='constant', \n",
    "                    shuffle=True, early_stopping=True, random_state=1, max_iter=500).fit(train_features, train_labels)\n",
    "\n",
    "predictions = clf3.predict(test_features)\n",
    "probs = clf3.predict_proba(test_features)[:, 1]\n",
    "\n",
    "print(clf3.score(test_features, test_labels))\n",
    "\n",
    "result_table.append([\n",
    "    \"MLPClassifier(hidden_layer_sizes=(100, 75, 50, 25), activation='relu', learning_rate='constant', shuffle=True, early_stopping=True, random_state=1, max_iter=500)\",\n",
    "    round(f1_score(test_labels, predictions), 3),\n",
    "    round(accuracy_score(test_labels, predictions), 3),\n",
    "    round(roc_auc_score(test_labels, probs), 3),\n",
    "])\n",
    "\n",
    "result_table"
   ]
  },
  {
   "cell_type": "code",
   "execution_count": null,
   "id": "0ce529ff",
   "metadata": {},
   "outputs": [],
   "source": []
  },
  {
   "cell_type": "code",
   "execution_count": null,
   "id": "057acfad",
   "metadata": {},
   "outputs": [],
   "source": []
  },
  {
   "cell_type": "code",
   "execution_count": 29,
   "id": "a483d07d",
   "metadata": {},
   "outputs": [
    {
     "name": "stdout",
     "output_type": "stream",
     "text": [
      "0.9815511373813361\n"
     ]
    },
    {
     "data": {
      "text/plain": [
       "[['Classifier', 'F1', 'Accuracy', 'AUC'],\n",
       " ['MLPClassifier(random_state=1, max_iter=300)', 0.979, 0.986, 0.999],\n",
       " [\"MLPClassifier(hidden_layer_sizes=(100, 75, 50, 25), activation='logistic', learning_rate='adaptive', shuffle=True, early_stopping=True, random_state=1, max_iter=500)\",\n",
       "  0.979,\n",
       "  0.986,\n",
       "  0.999],\n",
       " [\"MLPClassifier(hidden_layer_sizes=(100, 75, 50, 25), activation='logistic', learning_rate='constant', shuffle=True, early_stopping=True, random_state=1, max_iter=500)\",\n",
       "  0.973,\n",
       "  0.982,\n",
       "  0.998],\n",
       " [\"MLPClassifier(hidden_layer_sizes=(100, 75, 50, 25), activation='relu', learning_rate='constant', shuffle=True, early_stopping=True, random_state=1, max_iter=500)\",\n",
       "  0.973,\n",
       "  0.982,\n",
       "  0.998],\n",
       " [\"MLPClassifier(hidden_layer_sizes=(100, 75, 50, 25), activation='relu', learning_rate='adaptive', shuffle=True, early_stopping=True, random_state=1, max_iter=500)\",\n",
       "  0.973,\n",
       "  0.982,\n",
       "  0.998]]"
      ]
     },
     "execution_count": 29,
     "metadata": {},
     "output_type": "execute_result"
    }
   ],
   "source": [
    "clf4 = MLPClassifier(hidden_layer_sizes=(100, 75, 50, 25), activation='relu', learning_rate='adaptive', \n",
    "                    shuffle=True, early_stopping=True, random_state=1, max_iter=500).fit(train_features, train_labels)\n",
    "\n",
    "predictions = clf4.predict(test_features)\n",
    "probs = clf4.predict_proba(test_features)[:, 1]\n",
    "\n",
    "print(clf4.score(test_features, test_labels))\n",
    "\n",
    "result_table.append([\n",
    "    \"MLPClassifier(hidden_layer_sizes=(100, 75, 50, 25), activation='relu', learning_rate='adaptive', shuffle=True, early_stopping=True, random_state=1, max_iter=500)\",\n",
    "    round(f1_score(test_labels, predictions), 3),\n",
    "    round(accuracy_score(test_labels, predictions), 3),\n",
    "    round(roc_auc_score(test_labels, probs), 3),\n",
    "])\n",
    "\n",
    "result_table"
   ]
  },
  {
   "cell_type": "code",
   "execution_count": 30,
   "id": "589c656a",
   "metadata": {},
   "outputs": [
    {
     "data": {
      "text/html": [
       "<div>\n",
       "<style scoped>\n",
       "    .dataframe tbody tr th:only-of-type {\n",
       "        vertical-align: middle;\n",
       "    }\n",
       "\n",
       "    .dataframe tbody tr th {\n",
       "        vertical-align: top;\n",
       "    }\n",
       "\n",
       "    .dataframe thead th {\n",
       "        text-align: right;\n",
       "    }\n",
       "</style>\n",
       "<table border=\"1\" class=\"dataframe\">\n",
       "  <thead>\n",
       "    <tr style=\"text-align: right;\">\n",
       "      <th></th>\n",
       "      <th>0</th>\n",
       "      <th>1</th>\n",
       "      <th>2</th>\n",
       "      <th>3</th>\n",
       "    </tr>\n",
       "  </thead>\n",
       "  <tbody>\n",
       "    <tr>\n",
       "      <th>0</th>\n",
       "      <td>Classifier</td>\n",
       "      <td>F1</td>\n",
       "      <td>Accuracy</td>\n",
       "      <td>AUC</td>\n",
       "    </tr>\n",
       "    <tr>\n",
       "      <th>1</th>\n",
       "      <td>MLPClassifier(random_state=1, max_iter=300)</td>\n",
       "      <td>0.979</td>\n",
       "      <td>0.986</td>\n",
       "      <td>0.999</td>\n",
       "    </tr>\n",
       "    <tr>\n",
       "      <th>2</th>\n",
       "      <td>MLPClassifier(hidden_layer_sizes=(100, 75, 50,...</td>\n",
       "      <td>0.979</td>\n",
       "      <td>0.986</td>\n",
       "      <td>0.999</td>\n",
       "    </tr>\n",
       "    <tr>\n",
       "      <th>3</th>\n",
       "      <td>MLPClassifier(hidden_layer_sizes=(100, 75, 50,...</td>\n",
       "      <td>0.973</td>\n",
       "      <td>0.982</td>\n",
       "      <td>0.998</td>\n",
       "    </tr>\n",
       "    <tr>\n",
       "      <th>4</th>\n",
       "      <td>MLPClassifier(hidden_layer_sizes=(100, 75, 50,...</td>\n",
       "      <td>0.973</td>\n",
       "      <td>0.982</td>\n",
       "      <td>0.998</td>\n",
       "    </tr>\n",
       "    <tr>\n",
       "      <th>5</th>\n",
       "      <td>MLPClassifier(hidden_layer_sizes=(100, 75, 50,...</td>\n",
       "      <td>0.973</td>\n",
       "      <td>0.982</td>\n",
       "      <td>0.998</td>\n",
       "    </tr>\n",
       "  </tbody>\n",
       "</table>\n",
       "</div>"
      ],
      "text/plain": [
       "                                                   0      1         2      3\n",
       "0                                         Classifier     F1  Accuracy    AUC\n",
       "1        MLPClassifier(random_state=1, max_iter=300)  0.979     0.986  0.999\n",
       "2  MLPClassifier(hidden_layer_sizes=(100, 75, 50,...  0.979     0.986  0.999\n",
       "3  MLPClassifier(hidden_layer_sizes=(100, 75, 50,...  0.973     0.982  0.998\n",
       "4  MLPClassifier(hidden_layer_sizes=(100, 75, 50,...  0.973     0.982  0.998\n",
       "5  MLPClassifier(hidden_layer_sizes=(100, 75, 50,...  0.973     0.982  0.998"
      ]
     },
     "execution_count": 30,
     "metadata": {},
     "output_type": "execute_result"
    }
   ],
   "source": [
    "pd.DataFrame(result_table)"
   ]
  },
  {
   "cell_type": "code",
   "execution_count": null,
   "id": "99476c0a",
   "metadata": {},
   "outputs": [],
   "source": []
  },
  {
   "cell_type": "code",
   "execution_count": 33,
   "id": "09dde011",
   "metadata": {},
   "outputs": [
    {
     "name": "stdout",
     "output_type": "stream",
     "text": [
      "0.985312555973491\n"
     ]
    },
    {
     "data": {
      "text/plain": [
       "[['Classifier', 'F1', 'Accuracy', 'AUC'],\n",
       " ['MLPClassifier(random_state=1, max_iter=300)', 0.979, 0.986, 0.999],\n",
       " [\"MLPClassifier(hidden_layer_sizes=(100, 75, 50, 25), activation='logistic', learning_rate='adaptive', shuffle=True, early_stopping=True, random_state=1, max_iter=500)\",\n",
       "  0.979,\n",
       "  0.986,\n",
       "  0.999],\n",
       " [\"MLPClassifier(hidden_layer_sizes=(100, 75, 50, 25), activation='logistic', learning_rate='constant', shuffle=True, early_stopping=True, random_state=1, max_iter=500)\",\n",
       "  0.973,\n",
       "  0.982,\n",
       "  0.998],\n",
       " [\"MLPClassifier(hidden_layer_sizes=(100, 75, 50, 25), activation='relu', learning_rate='constant', shuffle=True, early_stopping=True, random_state=1, max_iter=500)\",\n",
       "  0.973,\n",
       "  0.982,\n",
       "  0.998],\n",
       " [\"MLPClassifier(hidden_layer_sizes=(100, 75, 50, 25), activation='relu', learning_rate='adaptive', shuffle=True, early_stopping=True, random_state=1, max_iter=500)\",\n",
       "  0.973,\n",
       "  0.982,\n",
       "  0.998],\n",
       " [\"MLPClassifier(hidden_layer_sizes=(100, 50, 75), activation='relu', learning_rate='adaptive', shuffle=True, early_stopping=True, random_state=1, max_iter=500)\",\n",
       "  0.978,\n",
       "  0.985,\n",
       "  0.998]]"
      ]
     },
     "execution_count": 33,
     "metadata": {},
     "output_type": "execute_result"
    }
   ],
   "source": [
    "clf5 = MLPClassifier(hidden_layer_sizes=(100, 50, 75), activation='relu', learning_rate='adaptive', \n",
    "                    shuffle=True, early_stopping=True, random_state=1, max_iter=500).fit(train_features, train_labels)\n",
    "\n",
    "predictions = clf5.predict(test_features)\n",
    "probs = clf5.predict_proba(test_features)[:, 1]\n",
    "\n",
    "print(clf5.score(test_features, test_labels))\n",
    "\n",
    "result_table.append([\n",
    "    \"MLPClassifier(hidden_layer_sizes=(100, 50, 75), activation='relu', learning_rate='adaptive', shuffle=True, early_stopping=True, random_state=1, max_iter=500)\",\n",
    "    round(f1_score(test_labels, predictions), 3),\n",
    "    round(accuracy_score(test_labels, predictions), 3),\n",
    "    round(roc_auc_score(test_labels, probs), 3),\n",
    "])\n",
    "\n",
    "result_table"
   ]
  },
  {
   "cell_type": "code",
   "execution_count": 34,
   "id": "589bf045",
   "metadata": {
    "collapsed": true
   },
   "outputs": [
    {
     "name": "stdout",
     "output_type": "stream",
     "text": [
      "0.985312555973491\n"
     ]
    },
    {
     "data": {
      "text/plain": [
       "[['Classifier', 'F1', 'Accuracy', 'AUC'],\n",
       " ['MLPClassifier(random_state=1, max_iter=300)', 0.979, 0.986, 0.999],\n",
       " [\"MLPClassifier(hidden_layer_sizes=(100, 75, 50, 25), activation='logistic', learning_rate='adaptive', shuffle=True, early_stopping=True, random_state=1, max_iter=500)\",\n",
       "  0.979,\n",
       "  0.986,\n",
       "  0.999],\n",
       " [\"MLPClassifier(hidden_layer_sizes=(100, 75, 50, 25), activation='logistic', learning_rate='constant', shuffle=True, early_stopping=True, random_state=1, max_iter=500)\",\n",
       "  0.973,\n",
       "  0.982,\n",
       "  0.998],\n",
       " [\"MLPClassifier(hidden_layer_sizes=(100, 75, 50, 25), activation='relu', learning_rate='constant', shuffle=True, early_stopping=True, random_state=1, max_iter=500)\",\n",
       "  0.973,\n",
       "  0.982,\n",
       "  0.998],\n",
       " [\"MLPClassifier(hidden_layer_sizes=(100, 75, 50, 25), activation='relu', learning_rate='adaptive', shuffle=True, early_stopping=True, random_state=1, max_iter=500)\",\n",
       "  0.973,\n",
       "  0.982,\n",
       "  0.998],\n",
       " [\"MLPClassifier(hidden_layer_sizes=(100, 50, 75), activation='relu', learning_rate='adaptive', shuffle=True, early_stopping=True, random_state=1, max_iter=500)\",\n",
       "  0.978,\n",
       "  0.985,\n",
       "  0.998],\n",
       " [\"MLPClassifier(hidden_layer_sizes=(100, 50, 75), activation='relu', learning_rate='adaptive', shuffle=True, early_stopping=True, random_state=1, max_iter=500)\",\n",
       "  0.978,\n",
       "  0.985,\n",
       "  0.998]]"
      ]
     },
     "execution_count": 34,
     "metadata": {},
     "output_type": "execute_result"
    }
   ],
   "source": [
    "clf6 = MLPClassifier(hidden_layer_sizes=(100, 50, 75), activation='relu', learning_rate='constant', \n",
    "                    shuffle=True, early_stopping=True, random_state=1, max_iter=500).fit(train_features, train_labels)\n",
    "\n",
    "predictions = clf6.predict(test_features)\n",
    "probs = clf6.predict_proba(test_features)[:, 1]\n",
    "\n",
    "print(clf6.score(test_features, test_labels))\n",
    "\n",
    "result_table.append([\n",
    "    \"MLPClassifier(hidden_layer_sizes=(100, 50, 75), activation='relu', learning_rate='adaptive', shuffle=True, early_stopping=True, random_state=1, max_iter=500)\",\n",
    "    round(f1_score(test_labels, predictions), 3),\n",
    "    round(accuracy_score(test_labels, predictions), 3),\n",
    "    round(roc_auc_score(test_labels, probs), 3),\n",
    "])\n",
    "\n",
    "result_table"
   ]
  },
  {
   "cell_type": "code",
   "execution_count": 35,
   "id": "91ee732a",
   "metadata": {},
   "outputs": [
    {
     "name": "stdout",
     "output_type": "stream",
     "text": [
      "0.9781479491312914\n"
     ]
    },
    {
     "data": {
      "text/plain": [
       "[['Classifier', 'F1', 'Accuracy', 'AUC'],\n",
       " ['MLPClassifier(random_state=1, max_iter=300)', 0.979, 0.986, 0.999],\n",
       " [\"MLPClassifier(hidden_layer_sizes=(100, 75, 50, 25), activation='logistic', learning_rate='adaptive', shuffle=True, early_stopping=True, random_state=1, max_iter=500)\",\n",
       "  0.979,\n",
       "  0.986,\n",
       "  0.999],\n",
       " [\"MLPClassifier(hidden_layer_sizes=(100, 75, 50, 25), activation='logistic', learning_rate='constant', shuffle=True, early_stopping=True, random_state=1, max_iter=500)\",\n",
       "  0.973,\n",
       "  0.982,\n",
       "  0.998],\n",
       " [\"MLPClassifier(hidden_layer_sizes=(100, 75, 50, 25), activation='relu', learning_rate='constant', shuffle=True, early_stopping=True, random_state=1, max_iter=500)\",\n",
       "  0.973,\n",
       "  0.982,\n",
       "  0.998],\n",
       " [\"MLPClassifier(hidden_layer_sizes=(100, 75, 50, 25), activation='relu', learning_rate='adaptive', shuffle=True, early_stopping=True, random_state=1, max_iter=500)\",\n",
       "  0.973,\n",
       "  0.982,\n",
       "  0.998],\n",
       " [\"MLPClassifier(hidden_layer_sizes=(100, 50, 75), activation='relu', learning_rate='adaptive', shuffle=True, early_stopping=True, random_state=1, max_iter=500)\",\n",
       "  0.978,\n",
       "  0.985,\n",
       "  0.998],\n",
       " [\"MLPClassifier(hidden_layer_sizes=(100, 50, 75), activation='relu', learning_rate='adaptive', shuffle=True, early_stopping=True, random_state=1, max_iter=500)\",\n",
       "  0.978,\n",
       "  0.985,\n",
       "  0.998],\n",
       " [\"MLPClassifier(hidden_layer_sizes=(100, 50, 75), activation='logistic', learning_rate='adaptive', shuffle=True, early_stopping=True, random_state=1, max_iter=500)\",\n",
       "  0.968,\n",
       "  0.978,\n",
       "  0.996]]"
      ]
     },
     "execution_count": 35,
     "metadata": {},
     "output_type": "execute_result"
    }
   ],
   "source": [
    "clf7 = MLPClassifier(hidden_layer_sizes=(100, 50, 75), activation='logistic', learning_rate='constant', \n",
    "                    shuffle=True, early_stopping=True, random_state=1, max_iter=500).fit(train_features, train_labels)\n",
    "\n",
    "predictions = clf7.predict(test_features)\n",
    "probs = clf7.predict_proba(test_features)[:, 1]\n",
    "\n",
    "print(clf7.score(test_features, test_labels))\n",
    "\n",
    "result_table.append([\n",
    "    \"MLPClassifier(hidden_layer_sizes=(100, 50, 75), activation='logistic', learning_rate='adaptive', shuffle=True, early_stopping=True, random_state=1, max_iter=500)\",\n",
    "    round(f1_score(test_labels, predictions), 3),\n",
    "    round(accuracy_score(test_labels, predictions), 3),\n",
    "    round(roc_auc_score(test_labels, probs), 3),\n",
    "])\n",
    "\n",
    "result_table"
   ]
  },
  {
   "cell_type": "code",
   "execution_count": 36,
   "id": "8f08ef64",
   "metadata": {},
   "outputs": [
    {
     "data": {
      "text/html": [
       "<div>\n",
       "<style scoped>\n",
       "    .dataframe tbody tr th:only-of-type {\n",
       "        vertical-align: middle;\n",
       "    }\n",
       "\n",
       "    .dataframe tbody tr th {\n",
       "        vertical-align: top;\n",
       "    }\n",
       "\n",
       "    .dataframe thead th {\n",
       "        text-align: right;\n",
       "    }\n",
       "</style>\n",
       "<table border=\"1\" class=\"dataframe\">\n",
       "  <thead>\n",
       "    <tr style=\"text-align: right;\">\n",
       "      <th></th>\n",
       "      <th>0</th>\n",
       "      <th>1</th>\n",
       "      <th>2</th>\n",
       "      <th>3</th>\n",
       "    </tr>\n",
       "  </thead>\n",
       "  <tbody>\n",
       "    <tr>\n",
       "      <th>0</th>\n",
       "      <td>Classifier</td>\n",
       "      <td>F1</td>\n",
       "      <td>Accuracy</td>\n",
       "      <td>AUC</td>\n",
       "    </tr>\n",
       "    <tr>\n",
       "      <th>1</th>\n",
       "      <td>MLPClassifier(random_state=1, max_iter=300)</td>\n",
       "      <td>0.979</td>\n",
       "      <td>0.986</td>\n",
       "      <td>0.999</td>\n",
       "    </tr>\n",
       "    <tr>\n",
       "      <th>2</th>\n",
       "      <td>MLPClassifier(hidden_layer_sizes=(100, 75, 50,...</td>\n",
       "      <td>0.979</td>\n",
       "      <td>0.986</td>\n",
       "      <td>0.999</td>\n",
       "    </tr>\n",
       "    <tr>\n",
       "      <th>3</th>\n",
       "      <td>MLPClassifier(hidden_layer_sizes=(100, 75, 50,...</td>\n",
       "      <td>0.973</td>\n",
       "      <td>0.982</td>\n",
       "      <td>0.998</td>\n",
       "    </tr>\n",
       "    <tr>\n",
       "      <th>4</th>\n",
       "      <td>MLPClassifier(hidden_layer_sizes=(100, 75, 50,...</td>\n",
       "      <td>0.973</td>\n",
       "      <td>0.982</td>\n",
       "      <td>0.998</td>\n",
       "    </tr>\n",
       "    <tr>\n",
       "      <th>5</th>\n",
       "      <td>MLPClassifier(hidden_layer_sizes=(100, 75, 50,...</td>\n",
       "      <td>0.973</td>\n",
       "      <td>0.982</td>\n",
       "      <td>0.998</td>\n",
       "    </tr>\n",
       "    <tr>\n",
       "      <th>6</th>\n",
       "      <td>MLPClassifier(hidden_layer_sizes=(100, 50, 75)...</td>\n",
       "      <td>0.978</td>\n",
       "      <td>0.985</td>\n",
       "      <td>0.998</td>\n",
       "    </tr>\n",
       "    <tr>\n",
       "      <th>7</th>\n",
       "      <td>MLPClassifier(hidden_layer_sizes=(100, 50, 75)...</td>\n",
       "      <td>0.978</td>\n",
       "      <td>0.985</td>\n",
       "      <td>0.998</td>\n",
       "    </tr>\n",
       "    <tr>\n",
       "      <th>8</th>\n",
       "      <td>MLPClassifier(hidden_layer_sizes=(100, 50, 75)...</td>\n",
       "      <td>0.968</td>\n",
       "      <td>0.978</td>\n",
       "      <td>0.996</td>\n",
       "    </tr>\n",
       "  </tbody>\n",
       "</table>\n",
       "</div>"
      ],
      "text/plain": [
       "                                                   0      1         2      3\n",
       "0                                         Classifier     F1  Accuracy    AUC\n",
       "1        MLPClassifier(random_state=1, max_iter=300)  0.979     0.986  0.999\n",
       "2  MLPClassifier(hidden_layer_sizes=(100, 75, 50,...  0.979     0.986  0.999\n",
       "3  MLPClassifier(hidden_layer_sizes=(100, 75, 50,...  0.973     0.982  0.998\n",
       "4  MLPClassifier(hidden_layer_sizes=(100, 75, 50,...  0.973     0.982  0.998\n",
       "5  MLPClassifier(hidden_layer_sizes=(100, 75, 50,...  0.973     0.982  0.998\n",
       "6  MLPClassifier(hidden_layer_sizes=(100, 50, 75)...  0.978     0.985  0.998\n",
       "7  MLPClassifier(hidden_layer_sizes=(100, 50, 75)...  0.978     0.985  0.998\n",
       "8  MLPClassifier(hidden_layer_sizes=(100, 50, 75)...  0.968     0.978  0.996"
      ]
     },
     "execution_count": 36,
     "metadata": {},
     "output_type": "execute_result"
    }
   ],
   "source": [
    "pd.DataFrame(result_table)"
   ]
  },
  {
   "cell_type": "code",
   "execution_count": 72,
   "id": "950a608a",
   "metadata": {},
   "outputs": [
    {
     "data": {
      "image/png": "[encoded data removed]",
      "text/plain": [
       "<Figure size 640x480 with 1 Axes>"
      ]
     },
     "metadata": {},
     "output_type": "display_data"
    }
   ],
   "source": [
    "import matplotlib.pyplot as plt\n",
    "plt.plot([i[1] for i in result_table[1:]], 'go--', label='F1')\n",
    "plt.plot([i[2] for i in result_table[1:]], 'bx-', label='Accuracy')\n",
    "plt.plot([i[3] for i in result_table[1:]], 'mo-', label='AUC')\n",
    "plt.legend()\n",
    "plt.savefig('MLP Comparisons.jpg')\n",
    "plt.show()"
   ]
  },
  {
   "cell_type": "code",
   "execution_count": 71,
   "id": "3be062ed",
   "metadata": {},
   "outputs": [
    {
     "data": {
      "text/plain": [
       "<Figure size 640x480 with 0 Axes>"
      ]
     },
     "metadata": {},
     "output_type": "display_data"
    }
   ],
   "source": [
    "plt.savefig('MLP Comparisons.jpg')"
   ]
  },
  {
   "cell_type": "code",
   "execution_count": null,
   "id": "c8385bfa",
   "metadata": {},
   "outputs": [],
   "source": []
  }
 ],
 "metadata": {
  "kernelspec": {
   "display_name": "Python 3 (ipykernel)",
   "language": "python",
   "name": "python3"
  },
  "language_info": {
   "codemirror_mode": {
    "name": "ipython",
    "version": 3
   },
   "file_extension": ".py",
   "mimetype": "text/x-python",
   "name": "python",
   "nbconvert_exporter": "python",
   "pygments_lexer": "ipython3",
   "version": "3.10.9"
  }
 },
 "nbformat": 4,
 "nbformat_minor": 5
}
