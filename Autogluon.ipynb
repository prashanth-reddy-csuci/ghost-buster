{
 "cells": [
  {
   "cell_type": "code",
   "execution_count": null,
   "id": "fa0f2c90",
   "metadata": {},
   "outputs": [],
   "source": [
    "!pip install -U -q pandas pyarrow fastparquet"
   ]
  },
  {
   "cell_type": "code",
   "execution_count": 1,
   "id": "28ef5b33",
   "metadata": {},
   "outputs": [],
   "source": [
    "%load_ext autoreload\n",
    "%autoreload 2\n",
    "\n",
    "import pandas as pd"
   ]
  },
  {
   "cell_type": "code",
   "execution_count": null,
   "id": "ab3d456d",
   "metadata": {},
   "outputs": [],
   "source": [
    "import os\n",
    "\n",
    "path = \"C:/users/prashanthkumarreddy/Downloads/\"\n",
    "[i for i in os.listdir(path) if 'parquet' in i]"
   ]
  },
  {
   "cell_type": "code",
   "execution_count": null,
   "id": "c03025a6",
   "metadata": {},
   "outputs": [],
   "source": []
  },
  {
   "cell_type": "code",
   "execution_count": null,
   "id": "df5cb143",
   "metadata": {},
   "outputs": [],
   "source": []
  },
  {
   "cell_type": "code",
   "execution_count": null,
   "id": "3e3ad994",
   "metadata": {},
   "outputs": [],
   "source": []
  },
  {
   "cell_type": "code",
   "execution_count": null,
   "id": "ebc7b5a6",
   "metadata": {},
   "outputs": [],
   "source": [
    "df = pd.read_parquet(path + 'dev.parquet')\n",
    "df.shape"
   ]
  },
  {
   "cell_type": "code",
   "execution_count": null,
   "id": "782f1d57",
   "metadata": {},
   "outputs": [],
   "source": [
    "df.head()"
   ]
  },
  {
   "cell_type": "code",
   "execution_count": null,
   "id": "a1ac82cc",
   "metadata": {},
   "outputs": [],
   "source": []
  },
  {
   "cell_type": "code",
   "execution_count": null,
   "id": "d0d58905",
   "metadata": {},
   "outputs": [],
   "source": []
  },
  {
   "cell_type": "code",
   "execution_count": null,
   "id": "ac7ab7b4",
   "metadata": {},
   "outputs": [],
   "source": []
  },
  {
   "cell_type": "code",
   "execution_count": null,
   "id": "abeb46e0",
   "metadata": {},
   "outputs": [],
   "source": [
    "df = pd.read_csv('final_logprobs.csv')\n",
    "df.shape"
   ]
  },
  {
   "cell_type": "code",
   "execution_count": null,
   "id": "e74de2f9",
   "metadata": {},
   "outputs": [],
   "source": [
    "df.head()"
   ]
  },
  {
   "cell_type": "code",
   "execution_count": null,
   "id": "6cc20bf1",
   "metadata": {},
   "outputs": [],
   "source": [
    "human_df = df[df['filename'].apply(lambda x: 'human' in x)]\n",
    "human_df.shape"
   ]
  },
  {
   "cell_type": "code",
   "execution_count": null,
   "id": "2808ccbd",
   "metadata": {},
   "outputs": [],
   "source": [
    "human_train_df = df[df['filename'].apply(lambda x: 'train' in x)]\n",
    "human_train_df.shape"
   ]
  },
  {
   "cell_type": "code",
   "execution_count": null,
   "id": "efa239ad",
   "metadata": {},
   "outputs": [],
   "source": [
    "human_df.shape"
   ]
  },
  {
   "cell_type": "code",
   "execution_count": null,
   "id": "31eff535",
   "metadata": {},
   "outputs": [],
   "source": [
    "tst = human_df.filename.str.replace('essay/data/human/logprobs/', '')[:150]"
   ]
  },
  {
   "cell_type": "code",
   "execution_count": null,
   "id": "31d6813c",
   "metadata": {},
   "outputs": [],
   "source": [
    "human_df.shape"
   ]
  },
  {
   "cell_type": "code",
   "execution_count": null,
   "id": "7cf5de05",
   "metadata": {},
   "outputs": [],
   "source": [
    "df[df['filename'].apply(lambda x: 'ada' not in x and 'davinci' not in x)]"
   ]
  },
  {
   "cell_type": "code",
   "execution_count": null,
   "id": "40797df8",
   "metadata": {},
   "outputs": [],
   "source": [
    "df[df['filename'].apply(lambda x: 'ada' not in x and 'davinci' not in x)].shape"
   ]
  },
  {
   "cell_type": "code",
   "execution_count": null,
   "id": "d2e97a6e",
   "metadata": {},
   "outputs": [],
   "source": []
  },
  {
   "cell_type": "code",
   "execution_count": null,
   "id": "bcef69a0",
   "metadata": {},
   "outputs": [],
   "source": []
  },
  {
   "cell_type": "code",
   "execution_count": null,
   "id": "5218dbb6",
   "metadata": {},
   "outputs": [],
   "source": [
    "pd.DataFrame([{\n",
    "    \"text\": \"asdf\",\n",
    "    \"label\": 1\n",
    "}, {\n",
    "    \"text\": \"asdf\",\n",
    "    \"label\": 0\n",
    "},{\n",
    "    \"text\": \"asasddf\",\n",
    "    \"label\": 1\n",
    "},{\n",
    "    \"text\": \"asqwdf\",\n",
    "    \"label\": 1\n",
    "},{\n",
    "    \"text\": \"asewdf\",\n",
    "    \"label\": 1\n",
    "}\n",
    "])"
   ]
  },
  {
   "cell_type": "code",
   "execution_count": null,
   "id": "5a87049c",
   "metadata": {},
   "outputs": [],
   "source": [
    "os.listdir('reuter/data/')"
   ]
  },
  {
   "cell_type": "code",
   "execution_count": null,
   "id": "400f0b79",
   "metadata": {},
   "outputs": [],
   "source": [
    "for i in os.listdir('reuter/data/human/train/'):\n",
    "    print(i)"
   ]
  },
  {
   "cell_type": "code",
   "execution_count": null,
   "id": "e859d784",
   "metadata": {},
   "outputs": [],
   "source": [
    "from collections import *\n",
    "\n",
    "d = defaultdict(int)\n",
    "for i in ['claude', 'gpt', 'human']:\n",
    "    path = f'reuter/data/{i}/'\n",
    "    for split in ['test', 'train']:\n",
    "        sp = os.path.join(path, split)\n",
    "        for auth in os.listdir(sp):\n",
    "            au = os.path.join(sp, auth)\n",
    "            for articles in os.listdir(au):\n",
    "                if articles == 'logprobs' or articles=='headlines':\n",
    "                    continue\n",
    "                cnt += 1\n",
    "                d[auth + \"/\" + articles] += 1\n",
    "                \n",
    "#                 print(articles)\n",
    "            \n",
    "#         with open(path + file, encoding='utf8') as f:\n",
    "#             text = f.read()\n",
    "#         label = 1 if 'human' in path else 0\n",
    "        \n",
    "#         lst.append({\n",
    "#             \"name\": path + file,\n",
    "#             \"text\": text,\n",
    "#             \"label\": label\n",
    "#         })\n",
    "d"
   ]
  },
  {
   "cell_type": "code",
   "execution_count": null,
   "id": "d60a32df",
   "metadata": {},
   "outputs": [],
   "source": [
    "[(k, v) for k, v in d.items() if v != 4]"
   ]
  },
  {
   "cell_type": "code",
   "execution_count": null,
   "id": "2e3f7056",
   "metadata": {},
   "outputs": [],
   "source": [
    "lst[0]"
   ]
  },
  {
   "cell_type": "code",
   "execution_count": null,
   "id": "cd0066e3",
   "metadata": {},
   "outputs": [],
   "source": []
  },
  {
   "cell_type": "code",
   "execution_count": null,
   "id": "365377fe",
   "metadata": {},
   "outputs": [],
   "source": [
    "df = pd.DataFrame(lst)\n",
    "df.shape"
   ]
  },
  {
   "cell_type": "code",
   "execution_count": null,
   "id": "b9b19e48",
   "metadata": {},
   "outputs": [],
   "source": [
    "df.head()"
   ]
  },
  {
   "cell_type": "code",
   "execution_count": null,
   "id": "22efaecc",
   "metadata": {},
   "outputs": [],
   "source": [
    "df[df['label'] == 1].shape"
   ]
  },
  {
   "cell_type": "code",
   "execution_count": null,
   "id": "60249694",
   "metadata": {},
   "outputs": [],
   "source": [
    "1444*3"
   ]
  },
  {
   "cell_type": "code",
   "execution_count": null,
   "id": "c4a7f2c7",
   "metadata": {},
   "outputs": [],
   "source": [
    "df = df.drop('name', axis=1)\n",
    "df.shape"
   ]
  },
  {
   "cell_type": "code",
   "execution_count": null,
   "id": "80f6cdd3",
   "metadata": {},
   "outputs": [],
   "source": [
    "df.to_csv('prompts_text_labels.csv', index=False, )"
   ]
  },
  {
   "cell_type": "code",
   "execution_count": 2,
   "id": "02ca644f",
   "metadata": {},
   "outputs": [],
   "source": [
    "df = pd.read_csv('prompts_text_labels.csv')"
   ]
  },
  {
   "cell_type": "code",
   "execution_count": null,
   "id": "c073f302",
   "metadata": {},
   "outputs": [],
   "source": [
    "DF.head(1)"
   ]
  },
  {
   "cell_type": "code",
   "execution_count": null,
   "id": "cba60ee4",
   "metadata": {},
   "outputs": [],
   "source": [
    "import tqdm\n",
    "authors = sorted(os.listdir(\"reuter/data/human/train\"))\n",
    "to_skip = {\"logprobs\", \"headlines\"}\n",
    "verbose = True\n",
    "authors = tqdm.tqdm(authors) if verbose else authors\n"
   ]
  },
  {
   "cell_type": "code",
   "execution_count": null,
   "id": "837bae55",
   "metadata": {},
   "outputs": [],
   "source": [
    "lst = []\n",
    "for tst in ['human', 'gpt', 'claude']:\n",
    "    for split in ['test', 'train']:\n",
    "        for author in authors:\n",
    "            for n, article in enumerate(sorted(os.listdir(f\"reuter/data/{tst}/{split}/{author}\"))):\n",
    "                if  article in to_skip:\n",
    "                    continue\n",
    "\n",
    "                with open(f\"reuter/data/{tst}/{split}/{author}/{article}\", encoding='utf8') as f:\n",
    "                    doc = f.read()\n",
    "                \n",
    "                lst.append({\n",
    "                    'name': f'{tst}/{split}/{author}/{article}',\n",
    "                    'text': doc,\n",
    "                    'label': 1 if tst == 'human' else 0\n",
    "                })"
   ]
  },
  {
   "cell_type": "code",
   "execution_count": null,
   "id": "fb2b898a",
   "metadata": {},
   "outputs": [],
   "source": [
    "len(lst)"
   ]
  },
  {
   "cell_type": "code",
   "execution_count": null,
   "id": "8e88bfd8",
   "metadata": {},
   "outputs": [],
   "source": [
    "lst[0]"
   ]
  },
  {
   "cell_type": "code",
   "execution_count": null,
   "id": "8870378c",
   "metadata": {},
   "outputs": [],
   "source": [
    "df = pd.DataFrame(lst)\n",
    "df.shape"
   ]
  },
  {
   "cell_type": "code",
   "execution_count": null,
   "id": "9991d4cb",
   "metadata": {},
   "outputs": [],
   "source": [
    "df.head()"
   ]
  },
  {
   "cell_type": "code",
   "execution_count": null,
   "id": "8057ee7f",
   "metadata": {},
   "outputs": [],
   "source": [
    "df[df['label'] == 1].shape"
   ]
  },
  {
   "cell_type": "code",
   "execution_count": null,
   "id": "ef5a78bd",
   "metadata": {},
   "outputs": [],
   "source": [
    "df = df.drop('name', axis=1)\n",
    "df.shape"
   ]
  },
  {
   "cell_type": "code",
   "execution_count": null,
   "id": "012df696",
   "metadata": {},
   "outputs": [],
   "source": [
    "df.to_csv('writing_text_labels.csv', index=False)"
   ]
  },
  {
   "cell_type": "code",
   "execution_count": 3,
   "id": "81fb9151",
   "metadata": {},
   "outputs": [],
   "source": [
    "df2 = pd.read_csv('writing_text_labels.csv')"
   ]
  },
  {
   "cell_type": "code",
   "execution_count": 5,
   "id": "d6857366",
   "metadata": {},
   "outputs": [
    {
     "data": {
      "text/plain": [
       "(3000, 2)"
      ]
     },
     "execution_count": 5,
     "metadata": {},
     "output_type": "execute_result"
    }
   ],
   "source": [
    "df.shape"
   ]
  },
  {
   "cell_type": "code",
   "execution_count": 6,
   "id": "6453aec9",
   "metadata": {},
   "outputs": [
    {
     "data": {
      "text/plain": [
       "(15000, 2)"
      ]
     },
     "execution_count": 6,
     "metadata": {},
     "output_type": "execute_result"
    }
   ],
   "source": [
    "df2.shape"
   ]
  },
  {
   "cell_type": "code",
   "execution_count": 7,
   "id": "6214b7cc",
   "metadata": {},
   "outputs": [],
   "source": [
    "df3 = pd.read_csv('essay_text_labels.csv')"
   ]
  },
  {
   "cell_type": "code",
   "execution_count": 8,
   "id": "ebf44853",
   "metadata": {},
   "outputs": [
    {
     "data": {
      "text/plain": [
       "(4332, 2)"
      ]
     },
     "execution_count": 8,
     "metadata": {},
     "output_type": "execute_result"
    }
   ],
   "source": [
    "df3.shape"
   ]
  },
  {
   "cell_type": "code",
   "execution_count": 9,
   "id": "846410e7",
   "metadata": {},
   "outputs": [],
   "source": [
    "final_df = pd.concat([df, df2, df3])"
   ]
  },
  {
   "cell_type": "code",
   "execution_count": 10,
   "id": "e8e31c10",
   "metadata": {},
   "outputs": [
    {
     "data": {
      "text/plain": [
       "(22332, 2)"
      ]
     },
     "execution_count": 10,
     "metadata": {},
     "output_type": "execute_result"
    }
   ],
   "source": [
    "final_df.shape"
   ]
  },
  {
   "cell_type": "code",
   "execution_count": 11,
   "id": "db78a748",
   "metadata": {},
   "outputs": [
    {
     "data": {
      "text/plain": [
       "(7444, 2)"
      ]
     },
     "execution_count": 11,
     "metadata": {},
     "output_type": "execute_result"
    }
   ],
   "source": [
    "final_df[final_df['label'] == 1].shape"
   ]
  },
  {
   "cell_type": "code",
   "execution_count": null,
   "id": "cefe9d56",
   "metadata": {},
   "outputs": [],
   "source": [
    "22332 - 7444"
   ]
  },
  {
   "cell_type": "code",
   "execution_count": null,
   "id": "49f9b0ad",
   "metadata": {},
   "outputs": [],
   "source": [
    "22332/7444"
   ]
  },
  {
   "cell_type": "code",
   "execution_count": 12,
   "id": "f72fe067",
   "metadata": {},
   "outputs": [],
   "source": [
    "final_df.to_csv('final_text_labels.csv', index=False)"
   ]
  },
  {
   "cell_type": "code",
   "execution_count": null,
   "id": "ca9e27ef",
   "metadata": {},
   "outputs": [],
   "source": [
    "final_df.shape"
   ]
  },
  {
   "cell_type": "code",
   "execution_count": null,
   "id": "6ab5b8a2",
   "metadata": {},
   "outputs": [],
   "source": [
    "import dill as pickle"
   ]
  },
  {
   "cell_type": "code",
   "execution_count": null,
   "id": "57b85723",
   "metadata": {},
   "outputs": [],
   "source": [
    "pickle.dump(final_df, open('text_labels', 'wb'))"
   ]
  },
  {
   "cell_type": "code",
   "execution_count": null,
   "id": "26d85d3a",
   "metadata": {},
   "outputs": [],
   "source": [
    "%load_ext autoreload\n"
   ]
  },
  {
   "cell_type": "code",
   "execution_count": 14,
   "id": "b38aeb92",
   "metadata": {},
   "outputs": [
    {
     "data": {
      "text/plain": [
       "(22332, 2)"
      ]
     },
     "execution_count": 14,
     "metadata": {},
     "output_type": "execute_result"
    }
   ],
   "source": [
    "pd.read_csv('final_text_labels.csv').shape"
   ]
  },
  {
   "cell_type": "code",
   "execution_count": null,
   "id": "041c1233",
   "metadata": {},
   "outputs": [],
   "source": []
  },
  {
   "cell_type": "code",
   "execution_count": null,
   "id": "aa4ced67",
   "metadata": {
    "scrolled": true
   },
   "outputs": [],
   "source": [
    "pip install autogluon"
   ]
  },
  {
   "cell_type": "code",
   "execution_count": null,
   "id": "d8252418",
   "metadata": {},
   "outputs": [],
   "source": [
    "%load_ext autoreload\n",
    "from autogluon.tabular import TabularPredictor, TabularDataset"
   ]
  },
  {
   "cell_type": "code",
   "execution_count": null,
   "id": "be04d993",
   "metadata": {},
   "outputs": [],
   "source": [
    "from sklearn.model_selection import train_test_split"
   ]
  },
  {
   "cell_type": "code",
   "execution_count": null,
   "id": "4efe5461",
   "metadata": {},
   "outputs": [],
   "source": [
    "train_test_split(final_df, train_size=.8)"
   ]
  },
  {
   "cell_type": "code",
   "execution_count": null,
   "id": "5712465c",
   "metadata": {},
   "outputs": [],
   "source": []
  }
 ],
 "metadata": {
  "kernelspec": {
   "display_name": "Python 3 (ipykernel)",
   "language": "python",
   "name": "python3"
  },
  "language_info": {
   "codemirror_mode": {
    "name": "ipython",
    "version": 3
   },
   "file_extension": ".py",
   "mimetype": "text/x-python",
   "name": "python",
   "nbconvert_exporter": "python",
   "pygments_lexer": "ipython3",
   "version": "3.10.9"
  }
 },
 "nbformat": 4,
 "nbformat_minor": 5
}
