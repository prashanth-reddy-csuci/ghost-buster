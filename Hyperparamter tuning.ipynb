{
 "cells": [
  {
   "cell_type": "code",
   "execution_count": 1,
   "id": "3d34e348",
   "metadata": {},
   "outputs": [],
   "source": [
    "import pandas as pd\n",
    "import numpy as np\n",
    "import os\n",
    "import dill as pickle\n",
    "from sklearn.model_selection import train_test_split\n",
    "from sklearn.linear_model import LogisticRegression\n",
    "from sklearn.model_selection import GridSearchCV\n",
    "from sklearn.model_selection import cross_val_score\n",
    "from sklearn.metrics import f1_score, accuracy_score, roc_auc_score\n",
    "from scipy.stats import loguniform\n",
    "from sklearn.model_selection import RepeatedStratifiedKFold\n",
    "from sklearn.model_selection import RandomizedSearchCV"
   ]
  },
  {
   "cell_type": "code",
   "execution_count": 2,
   "id": "1fce7998",
   "metadata": {},
   "outputs": [],
   "source": [
    "def load_sentence_embeddings(model='DistilBERT', features_path='features/', filename='sentence_embeddings'):\n",
    "    if model == 'DistilBERT':\n",
    "        tst_df = pd.concat([pickle.load(open(os.path.join(features_path, file), 'rb')) for file in os.listdir(features_path) if filename in file])\n",
    "        return tst_df"
   ]
  },
  {
   "cell_type": "code",
   "execution_count": 3,
   "id": "d5f2c305",
   "metadata": {},
   "outputs": [],
   "source": [
    "tst_df = load_sentence_embeddings()"
   ]
  },
  {
   "cell_type": "code",
   "execution_count": 4,
   "id": "a8631e59",
   "metadata": {},
   "outputs": [
    {
     "data": {
      "text/plain": [
       "(22332, 2)"
      ]
     },
     "execution_count": 4,
     "metadata": {},
     "output_type": "execute_result"
    }
   ],
   "source": [
    "tst_df.shape"
   ]
  },
  {
   "cell_type": "code",
   "execution_count": 5,
   "id": "9f8765a2",
   "metadata": {},
   "outputs": [
    {
     "data": {
      "text/html": [
       "<div>\n",
       "<style scoped>\n",
       "    .dataframe tbody tr th:only-of-type {\n",
       "        vertical-align: middle;\n",
       "    }\n",
       "\n",
       "    .dataframe tbody tr th {\n",
       "        vertical-align: top;\n",
       "    }\n",
       "\n",
       "    .dataframe thead th {\n",
       "        text-align: right;\n",
       "    }\n",
       "</style>\n",
       "<table border=\"1\" class=\"dataframe\">\n",
       "  <thead>\n",
       "    <tr style=\"text-align: right;\">\n",
       "      <th></th>\n",
       "      <th>sentence_embeddings</th>\n",
       "      <th>label</th>\n",
       "    </tr>\n",
       "  </thead>\n",
       "  <tbody>\n",
       "    <tr>\n",
       "      <th>0</th>\n",
       "      <td>[-0.21086546778678894, -0.005486507900059223, ...</td>\n",
       "      <td>0</td>\n",
       "    </tr>\n",
       "    <tr>\n",
       "      <th>1</th>\n",
       "      <td>[-0.3340323865413666, 0.1280461549758911, -0.6...</td>\n",
       "      <td>0</td>\n",
       "    </tr>\n",
       "    <tr>\n",
       "      <th>2</th>\n",
       "      <td>[-0.4694300889968872, -0.14065003395080566, -0...</td>\n",
       "      <td>0</td>\n",
       "    </tr>\n",
       "    <tr>\n",
       "      <th>3</th>\n",
       "      <td>[-0.19011789560317993, 0.16007745265960693, -0...</td>\n",
       "      <td>0</td>\n",
       "    </tr>\n",
       "    <tr>\n",
       "      <th>4</th>\n",
       "      <td>[-0.5151359438896179, -0.09672432392835617, -0...</td>\n",
       "      <td>0</td>\n",
       "    </tr>\n",
       "  </tbody>\n",
       "</table>\n",
       "</div>"
      ],
      "text/plain": [
       "                                 sentence_embeddings  label\n",
       "0  [-0.21086546778678894, -0.005486507900059223, ...      0\n",
       "1  [-0.3340323865413666, 0.1280461549758911, -0.6...      0\n",
       "2  [-0.4694300889968872, -0.14065003395080566, -0...      0\n",
       "3  [-0.19011789560317993, 0.16007745265960693, -0...      0\n",
       "4  [-0.5151359438896179, -0.09672432392835617, -0...      0"
      ]
     },
     "execution_count": 5,
     "metadata": {},
     "output_type": "execute_result"
    }
   ],
   "source": [
    "tst_df.head()"
   ]
  },
  {
   "cell_type": "code",
   "execution_count": 6,
   "id": "78faca62",
   "metadata": {},
   "outputs": [
    {
     "data": {
      "text/plain": [
       "0    14888\n",
       "1     7444\n",
       "Name: label, dtype: int64"
      ]
     },
     "execution_count": 6,
     "metadata": {},
     "output_type": "execute_result"
    }
   ],
   "source": [
    "tst_df.label.value_counts()"
   ]
  },
  {
   "cell_type": "code",
   "execution_count": 7,
   "id": "ab8b34bf",
   "metadata": {},
   "outputs": [],
   "source": [
    "features = np.array(tst_df.sentence_embeddings.tolist())"
   ]
  },
  {
   "cell_type": "code",
   "execution_count": 8,
   "id": "30449365",
   "metadata": {},
   "outputs": [],
   "source": [
    "labels = tst_df['label']"
   ]
  },
  {
   "cell_type": "code",
   "execution_count": null,
   "id": "4aa5f852",
   "metadata": {},
   "outputs": [],
   "source": []
  },
  {
   "cell_type": "code",
   "execution_count": 9,
   "id": "f23dca95",
   "metadata": {},
   "outputs": [],
   "source": [
    "model = LogisticRegression()\n",
    "cv = RepeatedStratifiedKFold(n_splits=10, n_repeats=3, random_state=42)"
   ]
  },
  {
   "cell_type": "code",
   "execution_count": 10,
   "id": "3ee54cc5",
   "metadata": {},
   "outputs": [],
   "source": [
    "space = dict()\n",
    "space['solver'] = ['newton-cg', 'lbfgs', 'liblinear']\n",
    "space['penalty'] = ['none', 'l1', 'l2', 'elasticnet']\n",
    "space['C'] = loguniform(1e-5, 100)"
   ]
  },
  {
   "cell_type": "code",
   "execution_count": 11,
   "id": "690cb95d",
   "metadata": {},
   "outputs": [],
   "source": [
    "search = RandomizedSearchCV(model, space, n_iter=500, scoring='accuracy', n_jobs=-1, cv=cv, random_state=1)"
   ]
  },
  {
   "cell_type": "code",
   "execution_count": null,
   "id": "2e0f2633",
   "metadata": {},
   "outputs": [],
   "source": []
  },
  {
   "cell_type": "code",
   "execution_count": 12,
   "id": "2b5c3b09",
   "metadata": {},
   "outputs": [
    {
     "name": "stderr",
     "output_type": "stream",
     "text": [
      "C:\\ProgramData\\Anaconda3\\lib\\site-packages\\sklearn\\model_selection\\_validation.py:378: FitFailedWarning: \n",
      "7080 fits failed out of a total of 15000.\n",
      "The score on these train-test partitions for these parameters will be set to nan.\n",
      "If these failures are not expected, you can try to debug them by setting error_score='raise'.\n",
      "\n",
      "Below are more details about the failures:\n",
      "--------------------------------------------------------------------------------\n",
      "1590 fits failed with the following error:\n",
      "Traceback (most recent call last):\n",
      "  File \"C:\\ProgramData\\Anaconda3\\lib\\site-packages\\sklearn\\model_selection\\_validation.py\", line 686, in _fit_and_score\n",
      "    estimator.fit(X_train, y_train, **fit_params)\n",
      "  File \"C:\\ProgramData\\Anaconda3\\lib\\site-packages\\sklearn\\linear_model\\_logistic.py\", line 1162, in fit\n",
      "    solver = _check_solver(self.solver, self.penalty, self.dual)\n",
      "  File \"C:\\ProgramData\\Anaconda3\\lib\\site-packages\\sklearn\\linear_model\\_logistic.py\", line 54, in _check_solver\n",
      "    raise ValueError(\n",
      "ValueError: Solver lbfgs supports only 'l2' or 'none' penalties, got elasticnet penalty.\n",
      "\n",
      "--------------------------------------------------------------------------------\n",
      "1140 fits failed with the following error:\n",
      "Traceback (most recent call last):\n",
      "  File \"C:\\ProgramData\\Anaconda3\\lib\\site-packages\\sklearn\\model_selection\\_validation.py\", line 686, in _fit_and_score\n",
      "    estimator.fit(X_train, y_train, **fit_params)\n",
      "  File \"C:\\ProgramData\\Anaconda3\\lib\\site-packages\\sklearn\\linear_model\\_logistic.py\", line 1162, in fit\n",
      "    solver = _check_solver(self.solver, self.penalty, self.dual)\n",
      "  File \"C:\\ProgramData\\Anaconda3\\lib\\site-packages\\sklearn\\linear_model\\_logistic.py\", line 54, in _check_solver\n",
      "    raise ValueError(\n",
      "ValueError: Solver newton-cg supports only 'l2' or 'none' penalties, got l1 penalty.\n",
      "\n",
      "--------------------------------------------------------------------------------\n",
      "960 fits failed with the following error:\n",
      "Traceback (most recent call last):\n",
      "  File \"C:\\ProgramData\\Anaconda3\\lib\\site-packages\\sklearn\\model_selection\\_validation.py\", line 686, in _fit_and_score\n",
      "    estimator.fit(X_train, y_train, **fit_params)\n",
      "  File \"C:\\ProgramData\\Anaconda3\\lib\\site-packages\\sklearn\\linear_model\\_logistic.py\", line 1162, in fit\n",
      "    solver = _check_solver(self.solver, self.penalty, self.dual)\n",
      "  File \"C:\\ProgramData\\Anaconda3\\lib\\site-packages\\sklearn\\linear_model\\_logistic.py\", line 54, in _check_solver\n",
      "    raise ValueError(\n",
      "ValueError: Solver lbfgs supports only 'l2' or 'none' penalties, got l1 penalty.\n",
      "\n",
      "--------------------------------------------------------------------------------\n",
      "1230 fits failed with the following error:\n",
      "Traceback (most recent call last):\n",
      "  File \"C:\\ProgramData\\Anaconda3\\lib\\site-packages\\sklearn\\model_selection\\_validation.py\", line 686, in _fit_and_score\n",
      "    estimator.fit(X_train, y_train, **fit_params)\n",
      "  File \"C:\\ProgramData\\Anaconda3\\lib\\site-packages\\sklearn\\linear_model\\_logistic.py\", line 1162, in fit\n",
      "    solver = _check_solver(self.solver, self.penalty, self.dual)\n",
      "  File \"C:\\ProgramData\\Anaconda3\\lib\\site-packages\\sklearn\\linear_model\\_logistic.py\", line 71, in _check_solver\n",
      "    raise ValueError(\"penalty='none' is not supported for the liblinear solver\")\n",
      "ValueError: penalty='none' is not supported for the liblinear solver\n",
      "\n",
      "--------------------------------------------------------------------------------\n",
      "1110 fits failed with the following error:\n",
      "Traceback (most recent call last):\n",
      "  File \"C:\\ProgramData\\Anaconda3\\lib\\site-packages\\sklearn\\model_selection\\_validation.py\", line 686, in _fit_and_score\n",
      "    estimator.fit(X_train, y_train, **fit_params)\n",
      "  File \"C:\\ProgramData\\Anaconda3\\lib\\site-packages\\sklearn\\linear_model\\_logistic.py\", line 1162, in fit\n",
      "    solver = _check_solver(self.solver, self.penalty, self.dual)\n",
      "  File \"C:\\ProgramData\\Anaconda3\\lib\\site-packages\\sklearn\\linear_model\\_logistic.py\", line 64, in _check_solver\n",
      "    raise ValueError(\n",
      "ValueError: Only 'saga' solver supports elasticnet penalty, got solver=liblinear.\n",
      "\n",
      "--------------------------------------------------------------------------------\n",
      "1050 fits failed with the following error:\n",
      "Traceback (most recent call last):\n",
      "  File \"C:\\ProgramData\\Anaconda3\\lib\\site-packages\\sklearn\\model_selection\\_validation.py\", line 686, in _fit_and_score\n",
      "    estimator.fit(X_train, y_train, **fit_params)\n",
      "  File \"C:\\ProgramData\\Anaconda3\\lib\\site-packages\\sklearn\\linear_model\\_logistic.py\", line 1162, in fit\n",
      "    solver = _check_solver(self.solver, self.penalty, self.dual)\n",
      "  File \"C:\\ProgramData\\Anaconda3\\lib\\site-packages\\sklearn\\linear_model\\_logistic.py\", line 54, in _check_solver\n",
      "    raise ValueError(\n",
      "ValueError: Solver newton-cg supports only 'l2' or 'none' penalties, got elasticnet penalty.\n",
      "\n",
      "  warnings.warn(some_fits_failed_message, FitFailedWarning)\n",
      "C:\\ProgramData\\Anaconda3\\lib\\site-packages\\sklearn\\model_selection\\_search.py:952: UserWarning: One or more of the test scores are non-finite: [0.94457609        nan 0.98131244        nan 0.94902703 0.95422138\n",
      " 0.84122937 0.66666668        nan        nan        nan        nan\n",
      " 0.94457609        nan 0.98329758        nan        nan 0.98131244\n",
      " 0.66666668        nan 0.98228259 0.92595074 0.98131244 0.66666668\n",
      " 0.98183482        nan 0.94457609        nan 0.94457609 0.98311847\n",
      " 0.68645898        nan 0.94457609        nan 0.94457609 0.9833573\n",
      "        nan 0.94457609 0.80974989        nan 0.96672945 0.98329759\n",
      " 0.8052271  0.94489239        nan 0.71758028        nan        nan\n",
      "        nan        nan        nan 0.94457609        nan 0.98131244\n",
      "        nan 0.98131244        nan        nan        nan        nan\n",
      " 0.98089449        nan 0.98277518 0.95556472        nan 0.94151904\n",
      "        nan 0.98368563 0.94457609 0.66666668        nan        nan\n",
      "        nan        nan 0.94457609 0.98314832        nan 0.9597739\n",
      " 0.6668458  0.94457609        nan 0.98208857 0.66666668        nan\n",
      " 0.66666668        nan 0.94457609 0.929981          nan        nan\n",
      " 0.87661973        nan        nan 0.97986448        nan        nan\n",
      "        nan        nan 0.67880176        nan        nan        nan\n",
      "        nan 0.93610082 0.97598365        nan 0.97256555        nan\n",
      " 0.66666668 0.95668412        nan        nan 0.97641651        nan\n",
      " 0.98131244 0.97683457 0.98131244        nan        nan 0.94457609\n",
      " 0.98114822 0.98226763 0.98131244        nan 0.66666668 0.67330887\n",
      "        nan        nan 0.93569781        nan 0.66666668 0.98186466\n",
      " 0.9833125  0.66666668 0.66666668 0.98131244        nan 0.98047656\n",
      " 0.98344686        nan 0.95599749        nan 0.98184977        nan\n",
      " 0.86012618 0.94457609 0.98131244 0.94457609 0.7303572         nan\n",
      " 0.98131244 0.83175108 0.7265659  0.94457609        nan        nan\n",
      "        nan        nan 0.98340208 0.66666668 0.98190942        nan\n",
      "        nan        nan        nan 0.96872948        nan        nan\n",
      " 0.98131244 0.98110345 0.97255063        nan        nan 0.98208854\n",
      " 0.94225042        nan        nan 0.84033378        nan 0.98131244\n",
      " 0.98195419        nan 0.66666668        nan 0.94457609 0.66666668\n",
      " 0.98149151        nan        nan        nan 0.98131244 0.90953195\n",
      " 0.98071528 0.97753598 0.98131244 0.94066825        nan        nan\n",
      " 0.98131244        nan        nan 0.66666668 0.98131244 0.66666668\n",
      "        nan        nan        nan 0.98207361 0.98183479 0.98267069\n",
      "        nan 0.98322295 0.98131244        nan        nan 0.98131244\n",
      " 0.94268324        nan        nan        nan 0.66666668        nan\n",
      " 0.98131244        nan        nan        nan 0.94323554 0.94457609\n",
      " 0.97986446        nan 0.66666668 0.9044868         nan        nan\n",
      " 0.95017636 0.66666668 0.94457609 0.94457609        nan        nan\n",
      "        nan 0.98252142 0.94457609        nan 0.98089449        nan\n",
      " 0.98114812 0.66666668        nan        nan        nan 0.94457609\n",
      " 0.96104262        nan        nan 0.66666668        nan 0.88979938\n",
      "        nan 0.94457609        nan 0.66666668 0.66671146 0.97871511\n",
      " 0.98340207        nan 0.96187833 0.66666668        nan 0.95565428\n",
      " 0.98131244        nan 0.74498501        nan        nan 0.98131244\n",
      "        nan        nan 0.96940118 0.96317701 0.97380447        nan\n",
      " 0.98131244        nan 0.98131244 0.98193929        nan 0.85057331\n",
      "        nan        nan 0.82086988 0.73361088        nan        nan\n",
      "        nan 0.98131244        nan 0.96817725 0.9396682         nan\n",
      "        nan 0.97507316        nan        nan        nan 0.66666668\n",
      " 0.98131244        nan 0.98161087 0.98131244        nan 0.66666668\n",
      "        nan 0.97043109        nan 0.98310355 0.94457609 0.98237214\n",
      "        nan        nan 0.98311849 0.98131244        nan 0.92983174\n",
      "        nan 0.97720759 0.66666668 0.98131244 0.98243184 0.95907235\n",
      "        nan 0.67002513        nan 0.98131244 0.94457609 0.94457609\n",
      " 0.98131244 0.98192433 0.98131244        nan        nan 0.66666668\n",
      " 0.98167063        nan        nan        nan 0.98299907        nan\n",
      " 0.97793895        nan        nan        nan 0.67717483 0.71841612\n",
      " 0.94457609 0.98207361        nan 0.78921137 0.77044915 0.98349164\n",
      "        nan        nan 0.66666668 0.94886285 0.94457609 0.66666668\n",
      "        nan 0.96081861 0.93189157 0.98131244        nan 0.95902757\n",
      " 0.98131244 0.91699499 0.97214762        nan 0.98225271        nan\n",
      "        nan        nan        nan        nan        nan 0.95402727\n",
      "        nan 0.91468146        nan        nan 0.98335728        nan\n",
      "        nan        nan        nan 0.9804915         nan 0.94457609\n",
      " 0.98035703 0.92263722 0.94457609        nan        nan 0.94457609\n",
      " 0.66666668 0.66666668 0.9795212  0.80876465        nan        nan\n",
      " 0.66666668 0.66666668 0.86970868        nan        nan        nan\n",
      "        nan 0.66666668 0.97353572        nan 0.66666668 0.78853971\n",
      "        nan        nan 0.98379011        nan 0.84576702        nan\n",
      "        nan 0.97061019        nan        nan        nan        nan\n",
      " 0.66666668        nan        nan        nan        nan        nan\n",
      "        nan 0.94457609 0.90705415 0.92842869        nan 0.97844656\n",
      " 0.66666668 0.94457609        nan 0.94457609 0.90051659        nan\n",
      "        nan 0.94457609 0.86772368        nan        nan 0.91300981\n",
      "        nan        nan 0.9817602         nan 0.94457609        nan\n",
      "        nan 0.98131244        nan        nan        nan 0.98313339\n",
      " 0.94457609 0.98131244        nan        nan        nan        nan\n",
      "        nan 0.96010225 0.95296755        nan 0.94219072        nan\n",
      " 0.94457609        nan        nan 0.97895401        nan        nan\n",
      "        nan        nan 0.98352144        nan 0.94457609 0.98131244\n",
      " 0.96940117        nan 0.94498188        nan 0.98302891        nan\n",
      " 0.94457609        nan]\n",
      "  warnings.warn(\n"
     ]
    }
   ],
   "source": [
    "# execute search\n",
    "result = search.fit(features, labels)"
   ]
  },
  {
   "cell_type": "code",
   "execution_count": 14,
   "id": "71741ce1",
   "metadata": {},
   "outputs": [
    {
     "name": "stdout",
     "output_type": "stream",
     "text": [
      "Best Score: 0.9837901085732407\n",
      "Best Hyperparameters: {'C': 2.7687341029930432, 'penalty': 'l1', 'solver': 'liblinear'}\n"
     ]
    }
   ],
   "source": [
    "# summarize result\n",
    "print('Best Score: %s' % result.best_score_)\n",
    "print('Best Hyperparameters: %s' % result.best_params_)"
   ]
  },
  {
   "cell_type": "code",
   "execution_count": 12,
   "id": "1c631266",
   "metadata": {},
   "outputs": [
    {
     "name": "stderr",
     "output_type": "stream",
     "text": [
      "C:\\ProgramData\\Anaconda3\\lib\\site-packages\\sklearn\\model_selection\\_validation.py:378: FitFailedWarning: \n",
      "7080 fits failed out of a total of 15000.\n",
      "The score on these train-test partitions for these parameters will be set to nan.\n",
      "If these failures are not expected, you can try to debug them by setting error_score='raise'.\n",
      "\n",
      "Below are more details about the failures:\n",
      "--------------------------------------------------------------------------------\n",
      "1590 fits failed with the following error:\n",
      "Traceback (most recent call last):\n",
      "  File \"C:\\ProgramData\\Anaconda3\\lib\\site-packages\\sklearn\\model_selection\\_validation.py\", line 686, in _fit_and_score\n",
      "    estimator.fit(X_train, y_train, **fit_params)\n",
      "  File \"C:\\ProgramData\\Anaconda3\\lib\\site-packages\\sklearn\\linear_model\\_logistic.py\", line 1162, in fit\n",
      "    solver = _check_solver(self.solver, self.penalty, self.dual)\n",
      "  File \"C:\\ProgramData\\Anaconda3\\lib\\site-packages\\sklearn\\linear_model\\_logistic.py\", line 54, in _check_solver\n",
      "    raise ValueError(\n",
      "ValueError: Solver lbfgs supports only 'l2' or 'none' penalties, got elasticnet penalty.\n",
      "\n",
      "--------------------------------------------------------------------------------\n",
      "1140 fits failed with the following error:\n",
      "Traceback (most recent call last):\n",
      "  File \"C:\\ProgramData\\Anaconda3\\lib\\site-packages\\sklearn\\model_selection\\_validation.py\", line 686, in _fit_and_score\n",
      "    estimator.fit(X_train, y_train, **fit_params)\n",
      "  File \"C:\\ProgramData\\Anaconda3\\lib\\site-packages\\sklearn\\linear_model\\_logistic.py\", line 1162, in fit\n",
      "    solver = _check_solver(self.solver, self.penalty, self.dual)\n",
      "  File \"C:\\ProgramData\\Anaconda3\\lib\\site-packages\\sklearn\\linear_model\\_logistic.py\", line 54, in _check_solver\n",
      "    raise ValueError(\n",
      "ValueError: Solver newton-cg supports only 'l2' or 'none' penalties, got l1 penalty.\n",
      "\n",
      "--------------------------------------------------------------------------------\n",
      "960 fits failed with the following error:\n",
      "Traceback (most recent call last):\n",
      "  File \"C:\\ProgramData\\Anaconda3\\lib\\site-packages\\sklearn\\model_selection\\_validation.py\", line 686, in _fit_and_score\n",
      "    estimator.fit(X_train, y_train, **fit_params)\n",
      "  File \"C:\\ProgramData\\Anaconda3\\lib\\site-packages\\sklearn\\linear_model\\_logistic.py\", line 1162, in fit\n",
      "    solver = _check_solver(self.solver, self.penalty, self.dual)\n",
      "  File \"C:\\ProgramData\\Anaconda3\\lib\\site-packages\\sklearn\\linear_model\\_logistic.py\", line 54, in _check_solver\n",
      "    raise ValueError(\n",
      "ValueError: Solver lbfgs supports only 'l2' or 'none' penalties, got l1 penalty.\n",
      "\n",
      "--------------------------------------------------------------------------------\n",
      "1230 fits failed with the following error:\n",
      "Traceback (most recent call last):\n",
      "  File \"C:\\ProgramData\\Anaconda3\\lib\\site-packages\\sklearn\\model_selection\\_validation.py\", line 686, in _fit_and_score\n",
      "    estimator.fit(X_train, y_train, **fit_params)\n",
      "  File \"C:\\ProgramData\\Anaconda3\\lib\\site-packages\\sklearn\\linear_model\\_logistic.py\", line 1162, in fit\n",
      "    solver = _check_solver(self.solver, self.penalty, self.dual)\n",
      "  File \"C:\\ProgramData\\Anaconda3\\lib\\site-packages\\sklearn\\linear_model\\_logistic.py\", line 71, in _check_solver\n",
      "    raise ValueError(\"penalty='none' is not supported for the liblinear solver\")\n",
      "ValueError: penalty='none' is not supported for the liblinear solver\n",
      "\n",
      "--------------------------------------------------------------------------------\n",
      "1110 fits failed with the following error:\n",
      "Traceback (most recent call last):\n",
      "  File \"C:\\ProgramData\\Anaconda3\\lib\\site-packages\\sklearn\\model_selection\\_validation.py\", line 686, in _fit_and_score\n",
      "    estimator.fit(X_train, y_train, **fit_params)\n",
      "  File \"C:\\ProgramData\\Anaconda3\\lib\\site-packages\\sklearn\\linear_model\\_logistic.py\", line 1162, in fit\n",
      "    solver = _check_solver(self.solver, self.penalty, self.dual)\n",
      "  File \"C:\\ProgramData\\Anaconda3\\lib\\site-packages\\sklearn\\linear_model\\_logistic.py\", line 64, in _check_solver\n",
      "    raise ValueError(\n",
      "ValueError: Only 'saga' solver supports elasticnet penalty, got solver=liblinear.\n",
      "\n",
      "--------------------------------------------------------------------------------\n",
      "1050 fits failed with the following error:\n",
      "Traceback (most recent call last):\n",
      "  File \"C:\\ProgramData\\Anaconda3\\lib\\site-packages\\sklearn\\model_selection\\_validation.py\", line 686, in _fit_and_score\n",
      "    estimator.fit(X_train, y_train, **fit_params)\n",
      "  File \"C:\\ProgramData\\Anaconda3\\lib\\site-packages\\sklearn\\linear_model\\_logistic.py\", line 1162, in fit\n",
      "    solver = _check_solver(self.solver, self.penalty, self.dual)\n",
      "  File \"C:\\ProgramData\\Anaconda3\\lib\\site-packages\\sklearn\\linear_model\\_logistic.py\", line 54, in _check_solver\n",
      "    raise ValueError(\n",
      "ValueError: Solver newton-cg supports only 'l2' or 'none' penalties, got elasticnet penalty.\n",
      "\n",
      "  warnings.warn(some_fits_failed_message, FitFailedWarning)\n",
      "C:\\ProgramData\\Anaconda3\\lib\\site-packages\\sklearn\\model_selection\\_search.py:952: UserWarning: One or more of the test scores are non-finite: [0.94457609        nan 0.98131244        nan 0.94902703 0.95422138\n",
      " 0.84122937 0.66666668        nan        nan        nan        nan\n",
      " 0.94457609        nan 0.98329758        nan        nan 0.98131244\n",
      " 0.66666668        nan 0.98228259 0.92595074 0.98131244 0.66666668\n",
      " 0.98183482        nan 0.94457609        nan 0.94457609 0.98311847\n",
      " 0.68645898        nan 0.94457609        nan 0.94457609 0.9833573\n",
      "        nan 0.94457609 0.80974989        nan 0.96672945 0.98329759\n",
      " 0.8052271  0.94489239        nan 0.71758028        nan        nan\n",
      "        nan        nan        nan 0.94457609        nan 0.98131244\n",
      "        nan 0.98131244        nan        nan        nan        nan\n",
      " 0.98089449        nan 0.98277518 0.95556472        nan 0.94151904\n",
      "        nan 0.98368563 0.94457609 0.66666668        nan        nan\n",
      "        nan        nan 0.94457609 0.98314832        nan 0.9597739\n",
      " 0.6668458  0.94457609        nan 0.98208857 0.66666668        nan\n",
      " 0.66666668        nan 0.94457609 0.929981          nan        nan\n",
      " 0.87661973        nan        nan 0.97986448        nan        nan\n",
      "        nan        nan 0.67880176        nan        nan        nan\n",
      "        nan 0.93610082 0.97598365        nan 0.97256555        nan\n",
      " 0.66666668 0.95668412        nan        nan 0.97641651        nan\n",
      " 0.98131244 0.97683457 0.98131244        nan        nan 0.94457609\n",
      " 0.98114822 0.98226763 0.98131244        nan 0.66666668 0.67330887\n",
      "        nan        nan 0.93569781        nan 0.66666668 0.98186466\n",
      " 0.9833125  0.66666668 0.66666668 0.98131244        nan 0.98047656\n",
      " 0.98344686        nan 0.95599749        nan 0.98184977        nan\n",
      " 0.86012618 0.94457609 0.98131244 0.94457609 0.7303572         nan\n",
      " 0.98131244 0.83175108 0.7265659  0.94457609        nan        nan\n",
      "        nan        nan 0.98340208 0.66666668 0.98190942        nan\n",
      "        nan        nan        nan 0.96872948        nan        nan\n",
      " 0.98131244 0.98110345 0.97255063        nan        nan 0.98208854\n",
      " 0.94225042        nan        nan 0.84033378        nan 0.98131244\n",
      " 0.98195419        nan 0.66666668        nan 0.94457609 0.66666668\n",
      " 0.98149151        nan        nan        nan 0.98131244 0.90953195\n",
      " 0.98071528 0.97753598 0.98131244 0.94066825        nan        nan\n",
      " 0.98131244        nan        nan 0.66666668 0.98131244 0.66666668\n",
      "        nan        nan        nan 0.98207361 0.98183479 0.98267069\n",
      "        nan 0.98322295 0.98131244        nan        nan 0.98131244\n",
      " 0.94268324        nan        nan        nan 0.66666668        nan\n",
      " 0.98131244        nan        nan        nan 0.94323554 0.94457609\n",
      " 0.97986446        nan 0.66666668 0.9044868         nan        nan\n",
      " 0.95017636 0.66666668 0.94457609 0.94457609        nan        nan\n",
      "        nan 0.98252142 0.94457609        nan 0.98089449        nan\n",
      " 0.98114812 0.66666668        nan        nan        nan 0.94457609\n",
      " 0.96104262        nan        nan 0.66666668        nan 0.88979938\n",
      "        nan 0.94457609        nan 0.66666668 0.66671146 0.97871511\n",
      " 0.98340207        nan 0.96187833 0.66666668        nan 0.95565428\n",
      " 0.98131244        nan 0.74498501        nan        nan 0.98131244\n",
      "        nan        nan 0.96940118 0.96317701 0.97380447        nan\n",
      " 0.98131244        nan 0.98131244 0.98193929        nan 0.85057331\n",
      "        nan        nan 0.82086988 0.73361088        nan        nan\n",
      "        nan 0.98131244        nan 0.96817725 0.9396682         nan\n",
      "        nan 0.97507316        nan        nan        nan 0.66666668\n",
      " 0.98131244        nan 0.98161087 0.98131244        nan 0.66666668\n",
      "        nan 0.97043109        nan 0.98310355 0.94457609 0.98237214\n",
      "        nan        nan 0.98311849 0.98131244        nan 0.92983174\n",
      "        nan 0.97720759 0.66666668 0.98131244 0.98243184 0.95907235\n",
      "        nan 0.67002513        nan 0.98131244 0.94457609 0.94457609\n",
      " 0.98131244 0.98192433 0.98131244        nan        nan 0.66666668\n",
      " 0.98167063        nan        nan        nan 0.98299907        nan\n",
      " 0.97793895        nan        nan        nan 0.67717483 0.71841612\n",
      " 0.94457609 0.98207361        nan 0.78921137 0.77044915 0.98349164\n",
      "        nan        nan 0.66666668 0.94886285 0.94457609 0.66666668\n",
      "        nan 0.96081861 0.93189157 0.98131244        nan 0.95902757\n",
      " 0.98131244 0.91699499 0.97214762        nan 0.98225271        nan\n",
      "        nan        nan        nan        nan        nan 0.95402727\n",
      "        nan 0.91468146        nan        nan 0.98335728        nan\n",
      "        nan        nan        nan 0.9804915         nan 0.94457609\n",
      " 0.98035703 0.92263722 0.94457609        nan        nan 0.94457609\n",
      " 0.66666668 0.66666668 0.9795212  0.80876465        nan        nan\n",
      " 0.66666668 0.66666668 0.86970868        nan        nan        nan\n",
      "        nan 0.66666668 0.97353572        nan 0.66666668 0.78853971\n",
      "        nan        nan 0.98379011        nan 0.84576702        nan\n",
      "        nan 0.97061019        nan        nan        nan        nan\n",
      " 0.66666668        nan        nan        nan        nan        nan\n",
      "        nan 0.94457609 0.90705415 0.92842869        nan 0.97844656\n",
      " 0.66666668 0.94457609        nan 0.94457609 0.90051659        nan\n",
      "        nan 0.94457609 0.86772368        nan        nan 0.91300981\n",
      "        nan        nan 0.9817602         nan 0.94457609        nan\n",
      "        nan 0.98131244        nan        nan        nan 0.98313339\n",
      " 0.94457609 0.98131244        nan        nan        nan        nan\n",
      "        nan 0.96010225 0.95296755        nan 0.94219072        nan\n",
      " 0.94457609        nan        nan 0.97895401        nan        nan\n",
      "        nan        nan 0.98352144        nan 0.94457609 0.98131244\n",
      " 0.96940117        nan 0.94498188        nan 0.98302891        nan\n",
      " 0.94457609        nan]\n",
      "  warnings.warn(\n"
     ]
    }
   ],
   "source": [
    "# execute search\n",
    "result = search.fit(features, labels)"
   ]
  },
  {
   "cell_type": "code",
   "execution_count": 14,
   "id": "99e9bb5e",
   "metadata": {},
   "outputs": [
    {
     "name": "stdout",
     "output_type": "stream",
     "text": [
      "Best Score: 0.9837901085732407\n",
      "Best Hyperparameters: {'C': 2.7687341029930432, 'penalty': 'l1', 'solver': 'liblinear'}\n"
     ]
    }
   ],
   "source": [
    "# summarize result\n",
    "print('Best Score: %s' % result.best_score_)\n",
    "print('Best Hyperparameters: %s' % result.best_params_)"
   ]
  },
  {
   "cell_type": "code",
   "execution_count": null,
   "id": "6aded01e",
   "metadata": {},
   "outputs": [],
   "source": []
  },
  {
   "cell_type": "code",
   "execution_count": null,
   "id": "a8cd34db",
   "metadata": {},
   "outputs": [],
   "source": []
  },
  {
   "cell_type": "code",
   "execution_count": null,
   "id": "a95d8466",
   "metadata": {},
   "outputs": [],
   "source": []
  },
  {
   "cell_type": "code",
   "execution_count": 18,
   "id": "cb7a90cd",
   "metadata": {},
   "outputs": [],
   "source": [
    "model1 = LogisticRegression()\n",
    "cv1 = RepeatedStratifiedKFold(n_splits=10, n_repeats=3, random_state=42)"
   ]
  },
  {
   "cell_type": "code",
   "execution_count": 17,
   "id": "3d26e3de",
   "metadata": {},
   "outputs": [],
   "source": [
    "space1 = dict()\n",
    "space1['solver'] = ['liblinear']\n",
    "space1['penalty'] = ['none', 'l2']\n",
    "space1['class_weight'] = [\"balanced\"]\n",
    "space1['C'] = loguniform(1e-5, 100)"
   ]
  },
  {
   "cell_type": "code",
   "execution_count": 19,
   "id": "e12496e5",
   "metadata": {},
   "outputs": [],
   "source": [
    "search1 = RandomizedSearchCV(model1, space1, n_iter=100, scoring='f1', n_jobs=-1, cv=cv1, random_state=1)"
   ]
  },
  {
   "cell_type": "code",
   "execution_count": 20,
   "id": "f18e5c57",
   "metadata": {},
   "outputs": [
    {
     "name": "stderr",
     "output_type": "stream",
     "text": [
      "C:\\ProgramData\\Anaconda3\\lib\\site-packages\\sklearn\\model_selection\\_validation.py:378: FitFailedWarning: \n",
      "1380 fits failed out of a total of 3000.\n",
      "The score on these train-test partitions for these parameters will be set to nan.\n",
      "If these failures are not expected, you can try to debug them by setting error_score='raise'.\n",
      "\n",
      "Below are more details about the failures:\n",
      "--------------------------------------------------------------------------------\n",
      "1380 fits failed with the following error:\n",
      "Traceback (most recent call last):\n",
      "  File \"C:\\ProgramData\\Anaconda3\\lib\\site-packages\\sklearn\\model_selection\\_validation.py\", line 686, in _fit_and_score\n",
      "    estimator.fit(X_train, y_train, **fit_params)\n",
      "  File \"C:\\ProgramData\\Anaconda3\\lib\\site-packages\\sklearn\\linear_model\\_logistic.py\", line 1162, in fit\n",
      "    solver = _check_solver(self.solver, self.penalty, self.dual)\n",
      "  File \"C:\\ProgramData\\Anaconda3\\lib\\site-packages\\sklearn\\linear_model\\_logistic.py\", line 71, in _check_solver\n",
      "    raise ValueError(\"penalty='none' is not supported for the liblinear solver\")\n",
      "ValueError: penalty='none' is not supported for the liblinear solver\n",
      "\n",
      "  warnings.warn(some_fits_failed_message, FitFailedWarning)\n",
      "C:\\ProgramData\\Anaconda3\\lib\\site-packages\\sklearn\\model_selection\\_search.py:952: UserWarning: One or more of the test scores are non-finite: [       nan 0.97239714 0.88684509 0.85683923 0.83196023 0.97000696\n",
      "        nan        nan        nan        nan 0.97000673 0.93800448\n",
      "        nan 0.97442328 0.97157605 0.79301936        nan        nan\n",
      " 0.78238483        nan 0.79508558 0.97002823        nan 0.88197622\n",
      "        nan 0.92491743 0.97408396 0.96944662 0.87825262 0.85041077\n",
      " 0.93507559        nan        nan 0.95184444        nan        nan\n",
      " 0.94616936 0.95876752        nan        nan 0.79663559 0.97189837\n",
      "        nan        nan        nan 0.97456854 0.96182399 0.95437355\n",
      "        nan 0.91393184        nan        nan 0.97415081        nan\n",
      " 0.96599698        nan        nan        nan        nan        nan\n",
      " 0.80081698        nan        nan        nan        nan 0.88649508\n",
      "        nan        nan 0.97350521 0.94148284        nan        nan\n",
      " 0.97148617 0.78712996        nan        nan 0.78636529 0.94922558\n",
      " 0.97268723 0.95079348 0.78135814        nan 0.86317037 0.88160955\n",
      " 0.95637223        nan 0.8776885         nan 0.95791072 0.97479714\n",
      " 0.8552834  0.96475126        nan 0.92935556        nan        nan\n",
      "        nan 0.97446637 0.97268274 0.96892687]\n",
      "  warnings.warn(\n"
     ]
    }
   ],
   "source": [
    "# execute search\n",
    "result1 = search1.fit(features, labels)"
   ]
  },
  {
   "cell_type": "code",
   "execution_count": 22,
   "id": "5360cfa9",
   "metadata": {},
   "outputs": [
    {
     "name": "stdout",
     "output_type": "stream",
     "text": [
      "Best Score: 0.9747971413558439\n",
      "Best Hyperparameters: {'C': 4.908680809441754, 'class_weight': 'balanced', 'penalty': 'l2', 'solver': 'liblinear'}\n"
     ]
    }
   ],
   "source": [
    "# summarize result\n",
    "print('Best Score: %s' % result1.best_score_)\n",
    "print('Best Hyperparameters: %s' % result1.best_params_)"
   ]
  },
  {
   "cell_type": "code",
   "execution_count": null,
   "id": "4e4c1385",
   "metadata": {},
   "outputs": [],
   "source": []
  },
  {
   "cell_type": "code",
   "execution_count": null,
   "id": "c86d1ed3",
   "metadata": {},
   "outputs": [],
   "source": []
  },
  {
   "cell_type": "code",
   "execution_count": 23,
   "id": "a4e318df",
   "metadata": {},
   "outputs": [],
   "source": [
    "train_features, test_features, train_labels, test_labels = train_test_split(features, labels)"
   ]
  },
  {
   "cell_type": "code",
   "execution_count": 26,
   "id": "7bfbc570",
   "metadata": {},
   "outputs": [],
   "source": [
    "best_lr_clf = LogisticRegression(C=4.9, class_weight='balanced', penalty='l2', solver='liblinear')"
   ]
  },
  {
   "cell_type": "code",
   "execution_count": 28,
   "id": "63ca1085",
   "metadata": {},
   "outputs": [
    {
     "data": {
      "text/html": [
       "<style>#sk-container-id-1 {color: black;background-color: white;}#sk-container-id-1 pre{padding: 0;}#sk-container-id-1 div.sk-toggleable {background-color: white;}#sk-container-id-1 label.sk-toggleable__label {cursor: pointer;display: block;width: 100%;margin-bottom: 0;padding: 0.3em;box-sizing: border-box;text-align: center;}#sk-container-id-1 label.sk-toggleable__label-arrow:before {content: \"▸\";float: left;margin-right: 0.25em;color: #696969;}#sk-container-id-1 label.sk-toggleable__label-arrow:hover:before {color: black;}#sk-container-id-1 div.sk-estimator:hover label.sk-toggleable__label-arrow:before {color: black;}#sk-container-id-1 div.sk-toggleable__content {max-height: 0;max-width: 0;overflow: hidden;text-align: left;background-color: #f0f8ff;}#sk-container-id-1 div.sk-toggleable__content pre {margin: 0.2em;color: black;border-radius: 0.25em;background-color: #f0f8ff;}#sk-container-id-1 input.sk-toggleable__control:checked~div.sk-toggleable__content {max-height: 200px;max-width: 100%;overflow: auto;}#sk-container-id-1 input.sk-toggleable__control:checked~label.sk-toggleable__label-arrow:before {content: \"▾\";}#sk-container-id-1 div.sk-estimator input.sk-toggleable__control:checked~label.sk-toggleable__label {background-color: #d4ebff;}#sk-container-id-1 div.sk-label input.sk-toggleable__control:checked~label.sk-toggleable__label {background-color: #d4ebff;}#sk-container-id-1 input.sk-hidden--visually {border: 0;clip: rect(1px 1px 1px 1px);clip: rect(1px, 1px, 1px, 1px);height: 1px;margin: -1px;overflow: hidden;padding: 0;position: absolute;width: 1px;}#sk-container-id-1 div.sk-estimator {font-family: monospace;background-color: #f0f8ff;border: 1px dotted black;border-radius: 0.25em;box-sizing: border-box;margin-bottom: 0.5em;}#sk-container-id-1 div.sk-estimator:hover {background-color: #d4ebff;}#sk-container-id-1 div.sk-parallel-item::after {content: \"\";width: 100%;border-bottom: 1px solid gray;flex-grow: 1;}#sk-container-id-1 div.sk-label:hover label.sk-toggleable__label {background-color: #d4ebff;}#sk-container-id-1 div.sk-serial::before {content: \"\";position: absolute;border-left: 1px solid gray;box-sizing: border-box;top: 0;bottom: 0;left: 50%;z-index: 0;}#sk-container-id-1 div.sk-serial {display: flex;flex-direction: column;align-items: center;background-color: white;padding-right: 0.2em;padding-left: 0.2em;position: relative;}#sk-container-id-1 div.sk-item {position: relative;z-index: 1;}#sk-container-id-1 div.sk-parallel {display: flex;align-items: stretch;justify-content: center;background-color: white;position: relative;}#sk-container-id-1 div.sk-item::before, #sk-container-id-1 div.sk-parallel-item::before {content: \"\";position: absolute;border-left: 1px solid gray;box-sizing: border-box;top: 0;bottom: 0;left: 50%;z-index: -1;}#sk-container-id-1 div.sk-parallel-item {display: flex;flex-direction: column;z-index: 1;position: relative;background-color: white;}#sk-container-id-1 div.sk-parallel-item:first-child::after {align-self: flex-end;width: 50%;}#sk-container-id-1 div.sk-parallel-item:last-child::after {align-self: flex-start;width: 50%;}#sk-container-id-1 div.sk-parallel-item:only-child::after {width: 0;}#sk-container-id-1 div.sk-dashed-wrapped {border: 1px dashed gray;margin: 0 0.4em 0.5em 0.4em;box-sizing: border-box;padding-bottom: 0.4em;background-color: white;}#sk-container-id-1 div.sk-label label {font-family: monospace;font-weight: bold;display: inline-block;line-height: 1.2em;}#sk-container-id-1 div.sk-label-container {text-align: center;}#sk-container-id-1 div.sk-container {/* jupyter's `normalize.less` sets `[hidden] { display: none; }` but bootstrap.min.css set `[hidden] { display: none !important; }` so we also need the `!important` here to be able to override the default hidden behavior on the sphinx rendered scikit-learn.org. See: https://github.com/scikit-learn/scikit-learn/issues/21755 */display: inline-block !important;position: relative;}#sk-container-id-1 div.sk-text-repr-fallback {display: none;}</style><div id=\"sk-container-id-1\" class=\"sk-top-container\"><div class=\"sk-text-repr-fallback\"><pre>LogisticRegression(C=4.9, class_weight=&#x27;balanced&#x27;, solver=&#x27;liblinear&#x27;)</pre><b>In a Jupyter environment, please rerun this cell to show the HTML representation or trust the notebook. <br />On GitHub, the HTML representation is unable to render, please try loading this page with nbviewer.org.</b></div><div class=\"sk-container\" hidden><div class=\"sk-item\"><div class=\"sk-estimator sk-toggleable\"><input class=\"sk-toggleable__control sk-hidden--visually\" id=\"sk-estimator-id-1\" type=\"checkbox\" checked><label for=\"sk-estimator-id-1\" class=\"sk-toggleable__label sk-toggleable__label-arrow\">LogisticRegression</label><div class=\"sk-toggleable__content\"><pre>LogisticRegression(C=4.9, class_weight=&#x27;balanced&#x27;, solver=&#x27;liblinear&#x27;)</pre></div></div></div></div></div>"
      ],
      "text/plain": [
       "LogisticRegression(C=4.9, class_weight='balanced', solver='liblinear')"
      ]
     },
     "execution_count": 28,
     "metadata": {},
     "output_type": "execute_result"
    }
   ],
   "source": [
    "best_lr_clf.fit(train_features, train_labels)"
   ]
  },
  {
   "cell_type": "code",
   "execution_count": 29,
   "id": "c8a94872",
   "metadata": {},
   "outputs": [],
   "source": [
    "predictions = best_lr_clf.predict(test_features)\n",
    "probs = best_lr_clf.predict_proba(test_features)[:, 1]"
   ]
  },
  {
   "cell_type": "code",
   "execution_count": 30,
   "id": "1654b7af",
   "metadata": {},
   "outputs": [],
   "source": [
    "result_table = [[\"F1\", \"Accuracy\", \"AUC\"]]"
   ]
  },
  {
   "cell_type": "code",
   "execution_count": 31,
   "id": "f5abebb7",
   "metadata": {},
   "outputs": [],
   "source": [
    "result_table.append([\n",
    "    round(f1_score(test_labels, predictions), 3),\n",
    "    round(accuracy_score(test_labels, predictions), 3),\n",
    "    round(roc_auc_score(test_labels, probs), 3),\n",
    "])"
   ]
  },
  {
   "cell_type": "code",
   "execution_count": 32,
   "id": "0bad3b9e",
   "metadata": {},
   "outputs": [
    {
     "data": {
      "text/plain": [
       "[['F1', 'Accuracy', 'AUC'], [0.972, 0.981, 0.998]]"
      ]
     },
     "execution_count": 32,
     "metadata": {},
     "output_type": "execute_result"
    }
   ],
   "source": [
    "result_table"
   ]
  },
  {
   "cell_type": "code",
   "execution_count": 33,
   "id": "188d07d9",
   "metadata": {
    "scrolled": false
   },
   "outputs": [
    {
     "name": "stdout",
     "output_type": "stream",
     "text": [
      "+-------+------------+-------+\n",
      "|    F1 |   Accuracy |   AUC |\n",
      "+=======+============+=======+\n",
      "| 0.972 |      0.981 | 0.998 |\n",
      "+-------+------------+-------+\n"
     ]
    }
   ],
   "source": [
    "from tabulate import tabulate\n",
    "print(tabulate(result_table, headers=\"firstrow\", tablefmt=\"grid\"))"
   ]
  },
  {
   "cell_type": "code",
   "execution_count": null,
   "id": "9e61b267",
   "metadata": {},
   "outputs": [],
   "source": []
  },
  {
   "cell_type": "code",
   "execution_count": null,
   "id": "916c28c9",
   "metadata": {},
   "outputs": [],
   "source": []
  },
  {
   "cell_type": "code",
   "execution_count": null,
   "id": "854ec757",
   "metadata": {},
   "outputs": [],
   "source": []
  },
  {
   "cell_type": "markdown",
   "id": "22d09812",
   "metadata": {},
   "source": [
    "# KNN"
   ]
  },
  {
   "cell_type": "code",
   "execution_count": 9,
   "id": "8a95cf1d",
   "metadata": {},
   "outputs": [],
   "source": [
    "from sklearn.neighbors import KNeighborsClassifier"
   ]
  },
  {
   "cell_type": "code",
   "execution_count": 10,
   "id": "029af6ac",
   "metadata": {},
   "outputs": [],
   "source": [
    "knn_model = KNeighborsClassifier(n_jobs=-1)"
   ]
  },
  {
   "cell_type": "code",
   "execution_count": 11,
   "id": "9521046e",
   "metadata": {},
   "outputs": [],
   "source": [
    "knn_cv = RepeatedStratifiedKFold(n_splits=10, n_repeats=3, random_state=42)"
   ]
  },
  {
   "cell_type": "code",
   "execution_count": 12,
   "id": "f713ff9b",
   "metadata": {},
   "outputs": [],
   "source": [
    "knn_space = dict()\n",
    "knn_space['weights'] = ['distance', 'uniform']\n",
    "knn_space['n_neighbors'] = list(range(5, 50, 5))\n",
    "knn_space['algorithm'] = ['auto', 'ball_tree', 'kd_tree']\n",
    "knn_space['p'] = [1, 2]"
   ]
  },
  {
   "cell_type": "code",
   "execution_count": 13,
   "id": "aa5578c2",
   "metadata": {},
   "outputs": [],
   "source": [
    "knn_search = RandomizedSearchCV(knn_model, knn_space, n_iter=100, scoring='f1', n_jobs=-1, cv=knn_cv, random_state=1)"
   ]
  },
  {
   "cell_type": "code",
   "execution_count": 14,
   "id": "f862b316",
   "metadata": {},
   "outputs": [],
   "source": [
    "# execute search\n",
    "knn_result = knn_search.fit(features, labels)"
   ]
  },
  {
   "cell_type": "code",
   "execution_count": 16,
   "id": "c6ce45c1",
   "metadata": {},
   "outputs": [
    {
     "name": "stdout",
     "output_type": "stream",
     "text": [
      "Best Score: 0.9108119417459216\n",
      "Best Hyperparameters: {'weights': 'distance', 'p': 1, 'n_neighbors': 20, 'algorithm': 'ball_tree'}\n"
     ]
    }
   ],
   "source": [
    "# summarize result\n",
    "print('Best Score: %s' % knn_result.best_score_)\n",
    "print('Best Hyperparameters: %s' % knn_result.best_params_)"
   ]
  },
  {
   "cell_type": "code",
   "execution_count": 30,
   "id": "d868793e",
   "metadata": {},
   "outputs": [],
   "source": [
    "train_features, test_features, train_labels, test_labels = train_test_split(features, labels)"
   ]
  },
  {
   "cell_type": "code",
   "execution_count": 31,
   "id": "7b961118",
   "metadata": {},
   "outputs": [],
   "source": [
    "best_knn_clf = KNeighborsClassifier(p=1, weights='distance', n_neighbors=20, algorithm='ball_tree', n_jobs=-1)"
   ]
  },
  {
   "cell_type": "code",
   "execution_count": 32,
   "id": "1e4126ef",
   "metadata": {},
   "outputs": [
    {
     "data": {
      "text/html": [
       "<style>#sk-container-id-1 {color: black;background-color: white;}#sk-container-id-1 pre{padding: 0;}#sk-container-id-1 div.sk-toggleable {background-color: white;}#sk-container-id-1 label.sk-toggleable__label {cursor: pointer;display: block;width: 100%;margin-bottom: 0;padding: 0.3em;box-sizing: border-box;text-align: center;}#sk-container-id-1 label.sk-toggleable__label-arrow:before {content: \"▸\";float: left;margin-right: 0.25em;color: #696969;}#sk-container-id-1 label.sk-toggleable__label-arrow:hover:before {color: black;}#sk-container-id-1 div.sk-estimator:hover label.sk-toggleable__label-arrow:before {color: black;}#sk-container-id-1 div.sk-toggleable__content {max-height: 0;max-width: 0;overflow: hidden;text-align: left;background-color: #f0f8ff;}#sk-container-id-1 div.sk-toggleable__content pre {margin: 0.2em;color: black;border-radius: 0.25em;background-color: #f0f8ff;}#sk-container-id-1 input.sk-toggleable__control:checked~div.sk-toggleable__content {max-height: 200px;max-width: 100%;overflow: auto;}#sk-container-id-1 input.sk-toggleable__control:checked~label.sk-toggleable__label-arrow:before {content: \"▾\";}#sk-container-id-1 div.sk-estimator input.sk-toggleable__control:checked~label.sk-toggleable__label {background-color: #d4ebff;}#sk-container-id-1 div.sk-label input.sk-toggleable__control:checked~label.sk-toggleable__label {background-color: #d4ebff;}#sk-container-id-1 input.sk-hidden--visually {border: 0;clip: rect(1px 1px 1px 1px);clip: rect(1px, 1px, 1px, 1px);height: 1px;margin: -1px;overflow: hidden;padding: 0;position: absolute;width: 1px;}#sk-container-id-1 div.sk-estimator {font-family: monospace;background-color: #f0f8ff;border: 1px dotted black;border-radius: 0.25em;box-sizing: border-box;margin-bottom: 0.5em;}#sk-container-id-1 div.sk-estimator:hover {background-color: #d4ebff;}#sk-container-id-1 div.sk-parallel-item::after {content: \"\";width: 100%;border-bottom: 1px solid gray;flex-grow: 1;}#sk-container-id-1 div.sk-label:hover label.sk-toggleable__label {background-color: #d4ebff;}#sk-container-id-1 div.sk-serial::before {content: \"\";position: absolute;border-left: 1px solid gray;box-sizing: border-box;top: 0;bottom: 0;left: 50%;z-index: 0;}#sk-container-id-1 div.sk-serial {display: flex;flex-direction: column;align-items: center;background-color: white;padding-right: 0.2em;padding-left: 0.2em;position: relative;}#sk-container-id-1 div.sk-item {position: relative;z-index: 1;}#sk-container-id-1 div.sk-parallel {display: flex;align-items: stretch;justify-content: center;background-color: white;position: relative;}#sk-container-id-1 div.sk-item::before, #sk-container-id-1 div.sk-parallel-item::before {content: \"\";position: absolute;border-left: 1px solid gray;box-sizing: border-box;top: 0;bottom: 0;left: 50%;z-index: -1;}#sk-container-id-1 div.sk-parallel-item {display: flex;flex-direction: column;z-index: 1;position: relative;background-color: white;}#sk-container-id-1 div.sk-parallel-item:first-child::after {align-self: flex-end;width: 50%;}#sk-container-id-1 div.sk-parallel-item:last-child::after {align-self: flex-start;width: 50%;}#sk-container-id-1 div.sk-parallel-item:only-child::after {width: 0;}#sk-container-id-1 div.sk-dashed-wrapped {border: 1px dashed gray;margin: 0 0.4em 0.5em 0.4em;box-sizing: border-box;padding-bottom: 0.4em;background-color: white;}#sk-container-id-1 div.sk-label label {font-family: monospace;font-weight: bold;display: inline-block;line-height: 1.2em;}#sk-container-id-1 div.sk-label-container {text-align: center;}#sk-container-id-1 div.sk-container {/* jupyter's `normalize.less` sets `[hidden] { display: none; }` but bootstrap.min.css set `[hidden] { display: none !important; }` so we also need the `!important` here to be able to override the default hidden behavior on the sphinx rendered scikit-learn.org. See: https://github.com/scikit-learn/scikit-learn/issues/21755 */display: inline-block !important;position: relative;}#sk-container-id-1 div.sk-text-repr-fallback {display: none;}</style><div id=\"sk-container-id-1\" class=\"sk-top-container\"><div class=\"sk-text-repr-fallback\"><pre>KNeighborsClassifier(algorithm=&#x27;ball_tree&#x27;, n_neighbors=20, p=1,\n",
       "                     weights=&#x27;distance&#x27;)</pre><b>In a Jupyter environment, please rerun this cell to show the HTML representation or trust the notebook. <br />On GitHub, the HTML representation is unable to render, please try loading this page with nbviewer.org.</b></div><div class=\"sk-container\" hidden><div class=\"sk-item\"><div class=\"sk-estimator sk-toggleable\"><input class=\"sk-toggleable__control sk-hidden--visually\" id=\"sk-estimator-id-1\" type=\"checkbox\" checked><label for=\"sk-estimator-id-1\" class=\"sk-toggleable__label sk-toggleable__label-arrow\">KNeighborsClassifier</label><div class=\"sk-toggleable__content\"><pre>KNeighborsClassifier(algorithm=&#x27;ball_tree&#x27;, n_neighbors=20, p=1,\n",
       "                     weights=&#x27;distance&#x27;)</pre></div></div></div></div></div>"
      ],
      "text/plain": [
       "KNeighborsClassifier(algorithm='ball_tree', n_neighbors=20, p=1,\n",
       "                     weights='distance')"
      ]
     },
     "execution_count": 32,
     "metadata": {},
     "output_type": "execute_result"
    }
   ],
   "source": [
    "best_knn_clf.fit(train_features, train_labels)"
   ]
  },
  {
   "cell_type": "code",
   "execution_count": 33,
   "id": "d0cf5736",
   "metadata": {},
   "outputs": [],
   "source": [
    "predictions = best_knn_clf.predict(test_features)\n",
    "probs = best_knn_clf.predict_proba(test_features)[:, 1]"
   ]
  },
  {
   "cell_type": "code",
   "execution_count": 34,
   "id": "fd242e8d",
   "metadata": {},
   "outputs": [],
   "source": [
    "result_table = [[\"F1\", \"Accuracy\", \"AUC\"]]"
   ]
  },
  {
   "cell_type": "code",
   "execution_count": 35,
   "id": "87689e2b",
   "metadata": {},
   "outputs": [],
   "source": [
    "result_table.append([\n",
    "    round(f1_score(test_labels, predictions), 3),\n",
    "    round(accuracy_score(test_labels, predictions), 3),\n",
    "    round(roc_auc_score(test_labels, probs), 3),\n",
    "])"
   ]
  },
  {
   "cell_type": "code",
   "execution_count": 36,
   "id": "2b5e7cf8",
   "metadata": {},
   "outputs": [
    {
     "data": {
      "text/plain": [
       "[['F1', 'Accuracy', 'AUC'], [0.907, 0.936, 0.981]]"
      ]
     },
     "execution_count": 36,
     "metadata": {},
     "output_type": "execute_result"
    }
   ],
   "source": [
    "result_table"
   ]
  },
  {
   "cell_type": "code",
   "execution_count": 37,
   "id": "eecf146b",
   "metadata": {
    "scrolled": false
   },
   "outputs": [
    {
     "name": "stdout",
     "output_type": "stream",
     "text": [
      "+-------+------------+-------+\n",
      "|    F1 |   Accuracy |   AUC |\n",
      "+=======+============+=======+\n",
      "| 0.907 |      0.936 | 0.981 |\n",
      "+-------+------------+-------+\n"
     ]
    }
   ],
   "source": [
    "from tabulate import tabulate\n",
    "print(tabulate(result_table, headers=\"firstrow\", tablefmt=\"grid\"))"
   ]
  },
  {
   "cell_type": "code",
   "execution_count": null,
   "id": "9d0f34b2",
   "metadata": {},
   "outputs": [],
   "source": []
  },
  {
   "cell_type": "code",
   "execution_count": null,
   "id": "f7a7e7a4",
   "metadata": {},
   "outputs": [],
   "source": []
  },
  {
   "cell_type": "code",
   "execution_count": null,
   "id": "dceeaee0",
   "metadata": {},
   "outputs": [],
   "source": []
  },
  {
   "cell_type": "code",
   "execution_count": null,
   "id": "6268c0dc",
   "metadata": {},
   "outputs": [],
   "source": []
  },
  {
   "cell_type": "code",
   "execution_count": null,
   "id": "a2e00239",
   "metadata": {},
   "outputs": [],
   "source": []
  },
  {
   "cell_type": "code",
   "execution_count": null,
   "id": "b7571274",
   "metadata": {},
   "outputs": [],
   "source": []
  },
  {
   "cell_type": "markdown",
   "id": "8ef86544",
   "metadata": {},
   "source": [
    "# DT"
   ]
  },
  {
   "cell_type": "code",
   "execution_count": 17,
   "id": "272299c3",
   "metadata": {},
   "outputs": [],
   "source": [
    "from sklearn.tree import DecisionTreeClassifier\n",
    "\n",
    "dt_model = DecisionTreeClassifier()\n",
    "dt_cv = RepeatedStratifiedKFold(n_splits=10, n_repeats=3, random_state=42)"
   ]
  },
  {
   "cell_type": "code",
   "execution_count": 24,
   "id": "11615b7d",
   "metadata": {},
   "outputs": [],
   "source": [
    "dt_space = dict()\n",
    "dt_space['random_state'] = [1]\n",
    "dt_space['criterion'] = ['gini', 'entropy']\n",
    "dt_space['max_depth'] = [50, 100, 500, 1000]\n",
    "dt_space['splitter'] = ['best', 'random']\n",
    "dt_space['class_weight'] = [None, 'balanced']\n",
    "dt_space['max_features'] = [None, 'auto', 'sqrt', 'log2']"
   ]
  },
  {
   "cell_type": "code",
   "execution_count": 25,
   "id": "0c8bbde4",
   "metadata": {},
   "outputs": [],
   "source": [
    "dt_search = RandomizedSearchCV(dt_model, dt_space, n_iter=100, scoring='f1', n_jobs=-1, cv=dt_cv, random_state=1)"
   ]
  },
  {
   "cell_type": "code",
   "execution_count": 26,
   "id": "68b199b2",
   "metadata": {},
   "outputs": [],
   "source": [
    "# execute search\n",
    "dt_result = dt_search.fit(features, labels)"
   ]
  },
  {
   "cell_type": "code",
   "execution_count": 27,
   "id": "7bf673d9",
   "metadata": {},
   "outputs": [
    {
     "name": "stdout",
     "output_type": "stream",
     "text": [
      "Best Score: 0.7903791474939794\n",
      "Best Hyperparameters: {'splitter': 'best', 'random_state': 1, 'max_features': None, 'max_depth': 100, 'criterion': 'entropy', 'class_weight': 'balanced'}\n"
     ]
    }
   ],
   "source": [
    "# summarize result\n",
    "print('Best Score: %s' % dt_result.best_score_)\n",
    "print('Best Hyperparameters: %s' % dt_result.best_params_)"
   ]
  },
  {
   "cell_type": "code",
   "execution_count": 38,
   "id": "0513ede6",
   "metadata": {},
   "outputs": [],
   "source": [
    "train_features, test_features, train_labels, test_labels = train_test_split(features, labels)"
   ]
  },
  {
   "cell_type": "code",
   "execution_count": 39,
   "id": "76959c72",
   "metadata": {},
   "outputs": [],
   "source": [
    "best_dt_clf = DecisionTreeClassifier(criterion='entropy', splitter='best', random_state=1,\n",
    "                                     max_features=None, max_depth=100, class_weight='balanced')"
   ]
  },
  {
   "cell_type": "code",
   "execution_count": 40,
   "id": "a6283653",
   "metadata": {},
   "outputs": [
    {
     "data": {
      "text/html": [
       "<style>#sk-container-id-2 {color: black;background-color: white;}#sk-container-id-2 pre{padding: 0;}#sk-container-id-2 div.sk-toggleable {background-color: white;}#sk-container-id-2 label.sk-toggleable__label {cursor: pointer;display: block;width: 100%;margin-bottom: 0;padding: 0.3em;box-sizing: border-box;text-align: center;}#sk-container-id-2 label.sk-toggleable__label-arrow:before {content: \"▸\";float: left;margin-right: 0.25em;color: #696969;}#sk-container-id-2 label.sk-toggleable__label-arrow:hover:before {color: black;}#sk-container-id-2 div.sk-estimator:hover label.sk-toggleable__label-arrow:before {color: black;}#sk-container-id-2 div.sk-toggleable__content {max-height: 0;max-width: 0;overflow: hidden;text-align: left;background-color: #f0f8ff;}#sk-container-id-2 div.sk-toggleable__content pre {margin: 0.2em;color: black;border-radius: 0.25em;background-color: #f0f8ff;}#sk-container-id-2 input.sk-toggleable__control:checked~div.sk-toggleable__content {max-height: 200px;max-width: 100%;overflow: auto;}#sk-container-id-2 input.sk-toggleable__control:checked~label.sk-toggleable__label-arrow:before {content: \"▾\";}#sk-container-id-2 div.sk-estimator input.sk-toggleable__control:checked~label.sk-toggleable__label {background-color: #d4ebff;}#sk-container-id-2 div.sk-label input.sk-toggleable__control:checked~label.sk-toggleable__label {background-color: #d4ebff;}#sk-container-id-2 input.sk-hidden--visually {border: 0;clip: rect(1px 1px 1px 1px);clip: rect(1px, 1px, 1px, 1px);height: 1px;margin: -1px;overflow: hidden;padding: 0;position: absolute;width: 1px;}#sk-container-id-2 div.sk-estimator {font-family: monospace;background-color: #f0f8ff;border: 1px dotted black;border-radius: 0.25em;box-sizing: border-box;margin-bottom: 0.5em;}#sk-container-id-2 div.sk-estimator:hover {background-color: #d4ebff;}#sk-container-id-2 div.sk-parallel-item::after {content: \"\";width: 100%;border-bottom: 1px solid gray;flex-grow: 1;}#sk-container-id-2 div.sk-label:hover label.sk-toggleable__label {background-color: #d4ebff;}#sk-container-id-2 div.sk-serial::before {content: \"\";position: absolute;border-left: 1px solid gray;box-sizing: border-box;top: 0;bottom: 0;left: 50%;z-index: 0;}#sk-container-id-2 div.sk-serial {display: flex;flex-direction: column;align-items: center;background-color: white;padding-right: 0.2em;padding-left: 0.2em;position: relative;}#sk-container-id-2 div.sk-item {position: relative;z-index: 1;}#sk-container-id-2 div.sk-parallel {display: flex;align-items: stretch;justify-content: center;background-color: white;position: relative;}#sk-container-id-2 div.sk-item::before, #sk-container-id-2 div.sk-parallel-item::before {content: \"\";position: absolute;border-left: 1px solid gray;box-sizing: border-box;top: 0;bottom: 0;left: 50%;z-index: -1;}#sk-container-id-2 div.sk-parallel-item {display: flex;flex-direction: column;z-index: 1;position: relative;background-color: white;}#sk-container-id-2 div.sk-parallel-item:first-child::after {align-self: flex-end;width: 50%;}#sk-container-id-2 div.sk-parallel-item:last-child::after {align-self: flex-start;width: 50%;}#sk-container-id-2 div.sk-parallel-item:only-child::after {width: 0;}#sk-container-id-2 div.sk-dashed-wrapped {border: 1px dashed gray;margin: 0 0.4em 0.5em 0.4em;box-sizing: border-box;padding-bottom: 0.4em;background-color: white;}#sk-container-id-2 div.sk-label label {font-family: monospace;font-weight: bold;display: inline-block;line-height: 1.2em;}#sk-container-id-2 div.sk-label-container {text-align: center;}#sk-container-id-2 div.sk-container {/* jupyter's `normalize.less` sets `[hidden] { display: none; }` but bootstrap.min.css set `[hidden] { display: none !important; }` so we also need the `!important` here to be able to override the default hidden behavior on the sphinx rendered scikit-learn.org. See: https://github.com/scikit-learn/scikit-learn/issues/21755 */display: inline-block !important;position: relative;}#sk-container-id-2 div.sk-text-repr-fallback {display: none;}</style><div id=\"sk-container-id-2\" class=\"sk-top-container\"><div class=\"sk-text-repr-fallback\"><pre>DecisionTreeClassifier(class_weight=&#x27;balanced&#x27;, criterion=&#x27;entropy&#x27;,\n",
       "                       max_depth=100, random_state=1)</pre><b>In a Jupyter environment, please rerun this cell to show the HTML representation or trust the notebook. <br />On GitHub, the HTML representation is unable to render, please try loading this page with nbviewer.org.</b></div><div class=\"sk-container\" hidden><div class=\"sk-item\"><div class=\"sk-estimator sk-toggleable\"><input class=\"sk-toggleable__control sk-hidden--visually\" id=\"sk-estimator-id-2\" type=\"checkbox\" checked><label for=\"sk-estimator-id-2\" class=\"sk-toggleable__label sk-toggleable__label-arrow\">DecisionTreeClassifier</label><div class=\"sk-toggleable__content\"><pre>DecisionTreeClassifier(class_weight=&#x27;balanced&#x27;, criterion=&#x27;entropy&#x27;,\n",
       "                       max_depth=100, random_state=1)</pre></div></div></div></div></div>"
      ],
      "text/plain": [
       "DecisionTreeClassifier(class_weight='balanced', criterion='entropy',\n",
       "                       max_depth=100, random_state=1)"
      ]
     },
     "execution_count": 40,
     "metadata": {},
     "output_type": "execute_result"
    }
   ],
   "source": [
    "best_dt_clf.fit(train_features, train_labels)"
   ]
  },
  {
   "cell_type": "code",
   "execution_count": 41,
   "id": "c2a5c77b",
   "metadata": {},
   "outputs": [],
   "source": [
    "predictions = best_dt_clf.predict(test_features)\n",
    "probs = best_dt_clf.predict_proba(test_features)[:, 1]"
   ]
  },
  {
   "cell_type": "code",
   "execution_count": 42,
   "id": "47594d2e",
   "metadata": {},
   "outputs": [],
   "source": [
    "result_table = [[\"F1\", \"Accuracy\", \"AUC\"]]"
   ]
  },
  {
   "cell_type": "code",
   "execution_count": 43,
   "id": "c98f288f",
   "metadata": {},
   "outputs": [],
   "source": [
    "result_table.append([\n",
    "    round(f1_score(test_labels, predictions), 3),\n",
    "    round(accuracy_score(test_labels, predictions), 3),\n",
    "    round(roc_auc_score(test_labels, probs), 3),\n",
    "])"
   ]
  },
  {
   "cell_type": "code",
   "execution_count": 44,
   "id": "d4556107",
   "metadata": {},
   "outputs": [
    {
     "data": {
      "text/plain": [
       "[['F1', 'Accuracy', 'AUC'], [0.783, 0.857, 0.84]]"
      ]
     },
     "execution_count": 44,
     "metadata": {},
     "output_type": "execute_result"
    }
   ],
   "source": [
    "result_table"
   ]
  },
  {
   "cell_type": "code",
   "execution_count": 45,
   "id": "cafbdd1c",
   "metadata": {
    "scrolled": false
   },
   "outputs": [
    {
     "name": "stdout",
     "output_type": "stream",
     "text": [
      "+-------+------------+-------+\n",
      "|    F1 |   Accuracy |   AUC |\n",
      "+=======+============+=======+\n",
      "| 0.783 |      0.857 |  0.84 |\n",
      "+-------+------------+-------+\n"
     ]
    }
   ],
   "source": [
    "from tabulate import tabulate\n",
    "print(tabulate(result_table, headers=\"firstrow\", tablefmt=\"grid\"))"
   ]
  },
  {
   "cell_type": "code",
   "execution_count": null,
   "id": "e53f4174",
   "metadata": {},
   "outputs": [],
   "source": []
  },
  {
   "cell_type": "code",
   "execution_count": null,
   "id": "809ff7ea",
   "metadata": {},
   "outputs": [],
   "source": []
  },
  {
   "cell_type": "code",
   "execution_count": null,
   "id": "94a00cdc",
   "metadata": {},
   "outputs": [],
   "source": []
  },
  {
   "cell_type": "markdown",
   "id": "3e923b42",
   "metadata": {},
   "source": [
    "# more iter on dt"
   ]
  },
  {
   "cell_type": "code",
   "execution_count": 46,
   "id": "e3765b38",
   "metadata": {},
   "outputs": [],
   "source": [
    "from sklearn.tree import DecisionTreeClassifier\n",
    "\n",
    "dt_more_model = DecisionTreeClassifier()\n",
    "dt_more_cv = RepeatedStratifiedKFold(n_splits=10, n_repeats=3, random_state=42)"
   ]
  },
  {
   "cell_type": "code",
   "execution_count": 47,
   "id": "97543a16",
   "metadata": {},
   "outputs": [],
   "source": [
    "dt_more_space = dict()\n",
    "dt_more_space['random_state'] = [1]\n",
    "dt_more_space['criterion'] = ['gini', 'entropy']\n",
    "dt_more_space['max_depth'] = list(range(1, 101))\n",
    "dt_more_space['splitter'] = ['best', 'random']\n",
    "dt_more_space['class_weight'] = [None, 'balanced']\n",
    "dt_more_space['max_features'] = [None, 'auto', 'sqrt', 'log2']"
   ]
  },
  {
   "cell_type": "code",
   "execution_count": 48,
   "id": "66f6fa8a",
   "metadata": {},
   "outputs": [],
   "source": [
    "dt_more_search = RandomizedSearchCV(dt_more_model, dt_more_space, \n",
    "                                    n_iter=500, scoring='f1', n_jobs=-1, cv=dt_more_cv, random_state=1)"
   ]
  },
  {
   "cell_type": "code",
   "execution_count": 49,
   "id": "89107066",
   "metadata": {},
   "outputs": [
    {
     "name": "stderr",
     "output_type": "stream",
     "text": [
      "C:\\ProgramData\\Anaconda3\\lib\\site-packages\\sklearn\\model_selection\\_validation.py:378: FitFailedWarning: \n",
      "270 fits failed out of a total of 15000.\n",
      "The score on these train-test partitions for these parameters will be set to nan.\n",
      "If these failures are not expected, you can try to debug them by setting error_score='raise'.\n",
      "\n",
      "Below are more details about the failures:\n",
      "--------------------------------------------------------------------------------\n",
      "270 fits failed with the following error:\n",
      "Traceback (most recent call last):\n",
      "  File \"C:\\ProgramData\\Anaconda3\\lib\\site-packages\\sklearn\\model_selection\\_validation.py\", line 686, in _fit_and_score\n",
      "    estimator.fit(X_train, y_train, **fit_params)\n",
      "  File \"C:\\ProgramData\\Anaconda3\\lib\\site-packages\\sklearn\\tree\\_classes.py\", line 889, in fit\n",
      "    super().fit(\n",
      "  File \"C:\\ProgramData\\Anaconda3\\lib\\site-packages\\sklearn\\tree\\_classes.py\", line 177, in fit\n",
      "    self._validate_params()\n",
      "  File \"C:\\ProgramData\\Anaconda3\\lib\\site-packages\\sklearn\\base.py\", line 581, in _validate_params\n",
      "    validate_parameter_constraints(\n",
      "  File \"C:\\ProgramData\\Anaconda3\\lib\\site-packages\\sklearn\\utils\\_param_validation.py\", line 97, in validate_parameter_constraints\n",
      "    raise InvalidParameterError(\n",
      "sklearn.utils._param_validation.InvalidParameterError: The 'max_depth' parameter of DecisionTreeClassifier must be an int in the range [1, inf) or None. Got 0 instead.\n",
      "\n",
      "  warnings.warn(some_fits_failed_message, FitFailedWarning)\n",
      "C:\\ProgramData\\Anaconda3\\lib\\site-packages\\sklearn\\model_selection\\_search.py:952: UserWarning: One or more of the test scores are non-finite: [0.70220426 0.53087609 0.79369325 0.78067642 0.69442489 0.78030065\n",
      " 0.77459031 0.65296547 0.74877483 0.50460695 0.64289091 0.76629351\n",
      " 0.69442489 0.64289091 0.69120055 0.70878059 0.70878059 0.69966863\n",
      " 0.7583023  0.70220426 0.74877483 0.7619306  0.7619306  0.63857747\n",
      " 0.70220426 0.69366432 0.65428825 0.73827591 0.75438672 0.70640271\n",
      " 0.64555663 0.75569006 0.         0.69966863 0.77172998 0.79037915\n",
      " 0.71070239 0.76000205 0.75270759        nan 0.76495714 0.70398342\n",
      " 0.74919175 0.74333232 0.64347679 0.77172998 0.76354106 0.76000205\n",
      " 0.69861507 0.69366432 0.69379007 0.76629351 0.69366432 0.76629351\n",
      " 0.64289091 0.78733032 0.70230958 0.75105017 0.65296547 0.74333232\n",
      " 0.70348293 0.69966863 0.75757507 0.78975    0.7857601  0.78086692\n",
      " 0.79037915 0.70220426 0.64347679 0.76000205 0.69966863 0.70239104\n",
      " 0.4813454  0.70220426 0.75270759 0.70220426 0.75270759 0.77922651\n",
      " 0.69483163 0.70220426 0.71893724 0.7619306  0.74333232 0.75270759\n",
      " 0.76000205 0.79202738 0.65296547 0.68098597 0.6947328  0.69989857\n",
      " 0.74333232 0.71070239 0.70128134 0.7619306  0.771766   0.64279234\n",
      " 0.75270759 0.76000205 0.75757507 0.65332718 0.77462993 0.76629351\n",
      " 0.70406369 0.77172998 0.64289091 0.75569006 0.75350347 0.62864794\n",
      " 0.75270759 0.76109155 0.70230958 0.69128894 0.79037915 0.78349184\n",
      " 0.54945613 0.70878059 0.64032343 0.74877483 0.76629351 0.60742596\n",
      " 0.69366432 0.5659086         nan 0.69442489 0.7619306  0.78733032\n",
      " 0.69366432 0.70230958 0.69274151 0.7619306  0.69966863 0.69427555\n",
      " 0.69416226 0.75270759 0.74333232 0.77172998 0.7619306  0.70442489\n",
      " 0.58914711 0.69366432 0.79037915 0.69966863 0.58382249 0.70230958\n",
      " 0.79037915 0.65982486 0.70302132 0.77459031 0.70451323 0.72318204\n",
      " 0.69366432 0.69442489 0.69966863        nan 0.71070239 0.69442489\n",
      " 0.69366432 0.75623992 0.70422827 0.74333232 0.74333232 0.69211924\n",
      " 0.77459031 0.74885228 0.7121553  0.78733032 0.7517475  0.70220426\n",
      " 0.74877483 0.71070239 0.64289091 0.69442489 0.70593337 0.65698005\n",
      " 0.65296547 0.7791731  0.69344802 0.75025554 0.69966863 0.77281423\n",
      " 0.70640271 0.75610852 0.69966863 0.58382249 0.69966863 0.75569006\n",
      " 0.79062215 0.64289091 0.64347679 0.69442489 0.69966863 0.75755424\n",
      " 0.76629351 0.76000205 0.76000205 0.77465825 0.64393785 0.69622696\n",
      " 0.70349111 0.75270759 0.65332718 0.76000205 0.76629351 0.78733032\n",
      " 0.76000205 0.73727052 0.69483163 0.70220426 0.77172998 0.7619306\n",
      " 0.79037915 0.78733032 0.77459031 0.70220426 0.70878059 0.76555623\n",
      "        nan 0.7432749  0.70878059 0.64347679 0.75270759 0.74877483\n",
      " 0.69442489 0.64347679 0.75270759 0.70230958 0.75576796 0.64347679\n",
      " 0.69366432 0.75270759 0.70374547 0.65296547 0.69989857 0.79037915\n",
      " 0.65698005 0.74333232 0.75569006 0.64898656 0.70640271 0.70347302\n",
      " 0.64289091 0.76000205 0.69033222 0.75948632 0.70230958 0.79037915\n",
      " 0.63516255 0.78733032 0.76000205 0.64347679 0.69966863 0.64289091\n",
      " 0.70049384 0.70230958 0.74369591 0.69442489 0.75270759 0.79037915\n",
      " 0.74312027 0.74333232 0.75270759 0.78733032 0.69966863 0.77574729\n",
      " 0.76629351 0.76000205 0.69442489 0.69442489        nan 0.77172998\n",
      " 0.75569006 0.74333232 0.74333232 0.70878059 0.76569979 0.71070239\n",
      " 0.74874871 0.77172998 0.69930539 0.75262782 0.78733032 0.75569006\n",
      " 0.70230958 0.64330567 0.69442489 0.69492842 0.57314717 0.70230958\n",
      "        nan 0.64347679 0.70169274 0.74877483 0.69366432 0.69442489\n",
      " 0.74860194 0.71070239 0.74298343 0.7561826  0.70623576 0.71872715\n",
      " 0.77459031 0.64687832 0.78646691 0.74333232 0.75569006 0.54746283\n",
      " 0.75357969 0.76976188 0.69966863 0.76629351 0.74877483 0.78085901\n",
      " 0.77922232 0.7512642  0.70639671 0.65332718 0.75270759 0.76000205\n",
      " 0.76000205 0.65332718 0.70878059 0.65410304 0.70220426 0.74135664\n",
      " 0.74959832 0.71070239 0.74878497 0.70220426 0.70220426 0.74877483\n",
      " 0.78733032 0.64347679 0.70220426 0.69966863 0.70878059 0.76629351\n",
      " 0.69966863 0.65332718 0.76629351 0.70402463 0.69966863 0.79037915\n",
      " 0.77677191 0.70230958 0.69442489 0.69442489 0.76567129 0.78733032\n",
      " 0.7784269  0.69366432        nan 0.75270759 0.70640271 0.76000205\n",
      " 0.74877483 0.79037915 0.70282285 0.76432263 0.71015954 0.74333232\n",
      " 0.53452068 0.75270759 0.70220426 0.65296547 0.73531785 0.75743117\n",
      " 0.74333232 0.76766638 0.69366432 0.02888482 0.69442489 0.62864794\n",
      " 0.64564682 0.70640271 0.74360715 0.68924278 0.7778845  0.65332718\n",
      " 0.75270759 0.69442489 0.74877483 0.69966863 0.79637365 0.48350916\n",
      " 0.79037915 0.71070239 0.7619306  0.76005278 0.76000205 0.70220426\n",
      " 0.69366432 0.75270759 0.75989334 0.76000205 0.69966863 0.65570751\n",
      " 0.6398277  0.75270759 0.75270759 0.77172998 0.74915301 0.74333232\n",
      " 0.74915301 0.60660105 0.70220426 0.75270759 0.77916763 0.70640271\n",
      " 0.76000205 0.75577989 0.75270759 0.79041718 0.79037915 0.77921893\n",
      " 0.77241449 0.69442489 0.64289091 0.75358097 0.69512214 0.76000205\n",
      " 0.76199464 0.76629351 0.76971961 0.64347679 0.75270759 0.69366432\n",
      " 0.70220426 0.70016367 0.65384924 0.69427555 0.76629351 0.78733032\n",
      " 0.75569006 0.64032343 0.75569006 0.76629351 0.69966863 0.69499473\n",
      " 0.52485518 0.65332718 0.76986336 0.74752141 0.75584718 0.75079091\n",
      " 0.74877483 0.76000205 0.76629351 0.69966863        nan 0.6895024\n",
      " 0.70230958 0.7164668  0.70640271 0.72017793 0.70640271 0.70695982\n",
      " 0.74366928 0.76314801 0.75270759 0.77068297 0.66015472 0.69366432\n",
      " 0.74856768 0.76000205 0.69966863 0.76693222 0.69442489 0.73210184\n",
      " 0.69301987 0.74297728        nan 0.51562733 0.69966863 0.64289091\n",
      " 0.75542877 0.70230958 0.69442489 0.70220426 0.77709608 0.76000205\n",
      " 0.75270759 0.79037915 0.65595929 0.70191917 0.70220426 0.75270759\n",
      " 0.69366432 0.74333232 0.70220426 0.70230958 0.76000205 0.79037915\n",
      " 0.76388713 0.76629351 0.65296547 0.69366432 0.74333232 0.6532676\n",
      " 0.70220426 0.70878059]\n",
      "  warnings.warn(\n"
     ]
    }
   ],
   "source": [
    "# execute search\n",
    "dt_more_result = dt_more_search.fit(features, labels)"
   ]
  },
  {
   "cell_type": "code",
   "execution_count": 50,
   "id": "9e6a3723",
   "metadata": {},
   "outputs": [
    {
     "name": "stdout",
     "output_type": "stream",
     "text": [
      "Best Score: 0.796373652263697\n",
      "Best Hyperparameters: {'splitter': 'best', 'random_state': 1, 'max_features': None, 'max_depth': 10, 'criterion': 'gini', 'class_weight': 'balanced'}\n"
     ]
    }
   ],
   "source": [
    "# summarize result\n",
    "print('Best Score: %s' % dt_more_result.best_score_)\n",
    "print('Best Hyperparameters: %s' % dt_more_result.best_params_)"
   ]
  },
  {
   "cell_type": "code",
   "execution_count": 51,
   "id": "ac93f235",
   "metadata": {},
   "outputs": [],
   "source": [
    "train_features, test_features, train_labels, test_labels = train_test_split(features, labels)"
   ]
  },
  {
   "cell_type": "code",
   "execution_count": 52,
   "id": "8c18b241",
   "metadata": {},
   "outputs": [],
   "source": [
    "best_dt_more_clf = DecisionTreeClassifier(criterion='gini', splitter='best', random_state=1,\n",
    "                                     max_features=None, max_depth=10, class_weight='balanced')"
   ]
  },
  {
   "cell_type": "code",
   "execution_count": 53,
   "id": "2a1825cf",
   "metadata": {},
   "outputs": [
    {
     "data": {
      "text/html": [
       "<style>#sk-container-id-3 {color: black;background-color: white;}#sk-container-id-3 pre{padding: 0;}#sk-container-id-3 div.sk-toggleable {background-color: white;}#sk-container-id-3 label.sk-toggleable__label {cursor: pointer;display: block;width: 100%;margin-bottom: 0;padding: 0.3em;box-sizing: border-box;text-align: center;}#sk-container-id-3 label.sk-toggleable__label-arrow:before {content: \"▸\";float: left;margin-right: 0.25em;color: #696969;}#sk-container-id-3 label.sk-toggleable__label-arrow:hover:before {color: black;}#sk-container-id-3 div.sk-estimator:hover label.sk-toggleable__label-arrow:before {color: black;}#sk-container-id-3 div.sk-toggleable__content {max-height: 0;max-width: 0;overflow: hidden;text-align: left;background-color: #f0f8ff;}#sk-container-id-3 div.sk-toggleable__content pre {margin: 0.2em;color: black;border-radius: 0.25em;background-color: #f0f8ff;}#sk-container-id-3 input.sk-toggleable__control:checked~div.sk-toggleable__content {max-height: 200px;max-width: 100%;overflow: auto;}#sk-container-id-3 input.sk-toggleable__control:checked~label.sk-toggleable__label-arrow:before {content: \"▾\";}#sk-container-id-3 div.sk-estimator input.sk-toggleable__control:checked~label.sk-toggleable__label {background-color: #d4ebff;}#sk-container-id-3 div.sk-label input.sk-toggleable__control:checked~label.sk-toggleable__label {background-color: #d4ebff;}#sk-container-id-3 input.sk-hidden--visually {border: 0;clip: rect(1px 1px 1px 1px);clip: rect(1px, 1px, 1px, 1px);height: 1px;margin: -1px;overflow: hidden;padding: 0;position: absolute;width: 1px;}#sk-container-id-3 div.sk-estimator {font-family: monospace;background-color: #f0f8ff;border: 1px dotted black;border-radius: 0.25em;box-sizing: border-box;margin-bottom: 0.5em;}#sk-container-id-3 div.sk-estimator:hover {background-color: #d4ebff;}#sk-container-id-3 div.sk-parallel-item::after {content: \"\";width: 100%;border-bottom: 1px solid gray;flex-grow: 1;}#sk-container-id-3 div.sk-label:hover label.sk-toggleable__label {background-color: #d4ebff;}#sk-container-id-3 div.sk-serial::before {content: \"\";position: absolute;border-left: 1px solid gray;box-sizing: border-box;top: 0;bottom: 0;left: 50%;z-index: 0;}#sk-container-id-3 div.sk-serial {display: flex;flex-direction: column;align-items: center;background-color: white;padding-right: 0.2em;padding-left: 0.2em;position: relative;}#sk-container-id-3 div.sk-item {position: relative;z-index: 1;}#sk-container-id-3 div.sk-parallel {display: flex;align-items: stretch;justify-content: center;background-color: white;position: relative;}#sk-container-id-3 div.sk-item::before, #sk-container-id-3 div.sk-parallel-item::before {content: \"\";position: absolute;border-left: 1px solid gray;box-sizing: border-box;top: 0;bottom: 0;left: 50%;z-index: -1;}#sk-container-id-3 div.sk-parallel-item {display: flex;flex-direction: column;z-index: 1;position: relative;background-color: white;}#sk-container-id-3 div.sk-parallel-item:first-child::after {align-self: flex-end;width: 50%;}#sk-container-id-3 div.sk-parallel-item:last-child::after {align-self: flex-start;width: 50%;}#sk-container-id-3 div.sk-parallel-item:only-child::after {width: 0;}#sk-container-id-3 div.sk-dashed-wrapped {border: 1px dashed gray;margin: 0 0.4em 0.5em 0.4em;box-sizing: border-box;padding-bottom: 0.4em;background-color: white;}#sk-container-id-3 div.sk-label label {font-family: monospace;font-weight: bold;display: inline-block;line-height: 1.2em;}#sk-container-id-3 div.sk-label-container {text-align: center;}#sk-container-id-3 div.sk-container {/* jupyter's `normalize.less` sets `[hidden] { display: none; }` but bootstrap.min.css set `[hidden] { display: none !important; }` so we also need the `!important` here to be able to override the default hidden behavior on the sphinx rendered scikit-learn.org. See: https://github.com/scikit-learn/scikit-learn/issues/21755 */display: inline-block !important;position: relative;}#sk-container-id-3 div.sk-text-repr-fallback {display: none;}</style><div id=\"sk-container-id-3\" class=\"sk-top-container\"><div class=\"sk-text-repr-fallback\"><pre>DecisionTreeClassifier(class_weight=&#x27;balanced&#x27;, max_depth=10, random_state=1)</pre><b>In a Jupyter environment, please rerun this cell to show the HTML representation or trust the notebook. <br />On GitHub, the HTML representation is unable to render, please try loading this page with nbviewer.org.</b></div><div class=\"sk-container\" hidden><div class=\"sk-item\"><div class=\"sk-estimator sk-toggleable\"><input class=\"sk-toggleable__control sk-hidden--visually\" id=\"sk-estimator-id-3\" type=\"checkbox\" checked><label for=\"sk-estimator-id-3\" class=\"sk-toggleable__label sk-toggleable__label-arrow\">DecisionTreeClassifier</label><div class=\"sk-toggleable__content\"><pre>DecisionTreeClassifier(class_weight=&#x27;balanced&#x27;, max_depth=10, random_state=1)</pre></div></div></div></div></div>"
      ],
      "text/plain": [
       "DecisionTreeClassifier(class_weight='balanced', max_depth=10, random_state=1)"
      ]
     },
     "execution_count": 53,
     "metadata": {},
     "output_type": "execute_result"
    }
   ],
   "source": [
    "best_dt_more_clf.fit(train_features, train_labels)"
   ]
  },
  {
   "cell_type": "code",
   "execution_count": 54,
   "id": "aa5c475e",
   "metadata": {},
   "outputs": [],
   "source": [
    "predictions = best_dt_more_clf.predict(test_features)\n",
    "probs = best_dt_more_clf.predict_proba(test_features)[:, 1]"
   ]
  },
  {
   "cell_type": "code",
   "execution_count": 55,
   "id": "8e39dd3f",
   "metadata": {},
   "outputs": [],
   "source": [
    "result_table = [[\"F1\", \"Accuracy\", \"AUC\"]]"
   ]
  },
  {
   "cell_type": "code",
   "execution_count": 56,
   "id": "6ea0854d",
   "metadata": {},
   "outputs": [],
   "source": [
    "result_table.append([\n",
    "    round(f1_score(test_labels, predictions), 3),\n",
    "    round(accuracy_score(test_labels, predictions), 3),\n",
    "    round(roc_auc_score(test_labels, probs), 3),\n",
    "])"
   ]
  },
  {
   "cell_type": "code",
   "execution_count": 57,
   "id": "42c94c6d",
   "metadata": {},
   "outputs": [
    {
     "data": {
      "text/plain": [
       "[['F1', 'Accuracy', 'AUC'], [0.786, 0.852, 0.823]]"
      ]
     },
     "execution_count": 57,
     "metadata": {},
     "output_type": "execute_result"
    }
   ],
   "source": [
    "result_table"
   ]
  },
  {
   "cell_type": "code",
   "execution_count": 58,
   "id": "989ac9d2",
   "metadata": {
    "scrolled": true
   },
   "outputs": [
    {
     "name": "stdout",
     "output_type": "stream",
     "text": [
      "+-------+------------+-------+\n",
      "|    F1 |   Accuracy |   AUC |\n",
      "+=======+============+=======+\n",
      "| 0.786 |      0.852 | 0.823 |\n",
      "+-------+------------+-------+\n"
     ]
    }
   ],
   "source": [
    "from tabulate import tabulate\n",
    "print(tabulate(result_table, headers=\"firstrow\", tablefmt=\"grid\"))"
   ]
  },
  {
   "cell_type": "code",
   "execution_count": null,
   "id": "25c49bc2",
   "metadata": {},
   "outputs": [],
   "source": []
  },
  {
   "cell_type": "code",
   "execution_count": null,
   "id": "7464e8e7",
   "metadata": {},
   "outputs": [],
   "source": []
  },
  {
   "cell_type": "code",
   "execution_count": null,
   "id": "c10a6905",
   "metadata": {},
   "outputs": [],
   "source": []
  },
  {
   "cell_type": "code",
   "execution_count": null,
   "id": "060549dd",
   "metadata": {},
   "outputs": [],
   "source": []
  },
  {
   "cell_type": "markdown",
   "id": "b388bc2e",
   "metadata": {},
   "source": [
    "# RF"
   ]
  },
  {
   "cell_type": "code",
   "execution_count": 9,
   "id": "21a2409d",
   "metadata": {},
   "outputs": [],
   "source": [
    "from sklearn.ensemble import RandomForestClassifier\n",
    "rf_model = RandomForestClassifier(n_jobs=-1)"
   ]
  },
  {
   "cell_type": "code",
   "execution_count": 10,
   "id": "b1278083",
   "metadata": {},
   "outputs": [],
   "source": [
    "rf_cv = RepeatedStratifiedKFold(n_splits=10, n_repeats=3, random_state=42)"
   ]
  },
  {
   "cell_type": "code",
   "execution_count": 11,
   "id": "84467e86",
   "metadata": {},
   "outputs": [],
   "source": [
    "rf_space = dict()\n",
    "rf_space['random_state'] = [1]\n",
    "rf_space['criterion'] = ['gini', 'entropy']\n",
    "rf_space['max_depth'] = list(range(1, 101))\n",
    "rf_space['n_estimators'] = list(range(1, 100))\n",
    "rf_space['class_weight'] = [None, 'balanced', 'balanced_subsample']\n",
    "rf_space['max_features'] = [None, 'auto', 'sqrt', 'log2']\n",
    "\n",
    "rf_search = RandomizedSearchCV(rf_model, rf_space, \n",
    "                                    n_iter=100, scoring='f1', n_jobs=-1, cv=rf_cv, random_state=1)"
   ]
  },
  {
   "cell_type": "code",
   "execution_count": null,
   "id": "8eca88c5",
   "metadata": {},
   "outputs": [],
   "source": [
    "rf_result = rf_search.fit(features, labels)"
   ]
  },
  {
   "cell_type": "code",
   "execution_count": null,
   "id": "c2d2a49a",
   "metadata": {},
   "outputs": [],
   "source": [
    "# summarize result\n",
    "print('Best Score: %s' % rf_result.best_score_)\n",
    "print('Best Hyperparameters: %s' % rf_result.best_params_)"
   ]
  },
  {
   "cell_type": "code",
   "execution_count": null,
   "id": "c29060e8",
   "metadata": {},
   "outputs": [],
   "source": [
    "train_features, test_features, train_labels, test_labels = train_test_split(features, labels)"
   ]
  },
  {
   "cell_type": "code",
   "execution_count": null,
   "id": "f4fe1277",
   "metadata": {},
   "outputs": [],
   "source": []
  },
  {
   "cell_type": "code",
   "execution_count": 52,
   "id": "3920b826",
   "metadata": {},
   "outputs": [],
   "source": [
    "rf_clf = RandomForestClassifier(criterion='gini', splitter='best', random_state=1,\n",
    "                                     max_features=None, max_depth=10, class_weight='balanced')"
   ]
  },
  {
   "cell_type": "code",
   "execution_count": 53,
   "id": "8825de7b",
   "metadata": {},
   "outputs": [
    {
     "data": {
      "text/html": [
       "<style>#sk-container-id-3 {color: black;background-color: white;}#sk-container-id-3 pre{padding: 0;}#sk-container-id-3 div.sk-toggleable {background-color: white;}#sk-container-id-3 label.sk-toggleable__label {cursor: pointer;display: block;width: 100%;margin-bottom: 0;padding: 0.3em;box-sizing: border-box;text-align: center;}#sk-container-id-3 label.sk-toggleable__label-arrow:before {content: \"▸\";float: left;margin-right: 0.25em;color: #696969;}#sk-container-id-3 label.sk-toggleable__label-arrow:hover:before {color: black;}#sk-container-id-3 div.sk-estimator:hover label.sk-toggleable__label-arrow:before {color: black;}#sk-container-id-3 div.sk-toggleable__content {max-height: 0;max-width: 0;overflow: hidden;text-align: left;background-color: #f0f8ff;}#sk-container-id-3 div.sk-toggleable__content pre {margin: 0.2em;color: black;border-radius: 0.25em;background-color: #f0f8ff;}#sk-container-id-3 input.sk-toggleable__control:checked~div.sk-toggleable__content {max-height: 200px;max-width: 100%;overflow: auto;}#sk-container-id-3 input.sk-toggleable__control:checked~label.sk-toggleable__label-arrow:before {content: \"▾\";}#sk-container-id-3 div.sk-estimator input.sk-toggleable__control:checked~label.sk-toggleable__label {background-color: #d4ebff;}#sk-container-id-3 div.sk-label input.sk-toggleable__control:checked~label.sk-toggleable__label {background-color: #d4ebff;}#sk-container-id-3 input.sk-hidden--visually {border: 0;clip: rect(1px 1px 1px 1px);clip: rect(1px, 1px, 1px, 1px);height: 1px;margin: -1px;overflow: hidden;padding: 0;position: absolute;width: 1px;}#sk-container-id-3 div.sk-estimator {font-family: monospace;background-color: #f0f8ff;border: 1px dotted black;border-radius: 0.25em;box-sizing: border-box;margin-bottom: 0.5em;}#sk-container-id-3 div.sk-estimator:hover {background-color: #d4ebff;}#sk-container-id-3 div.sk-parallel-item::after {content: \"\";width: 100%;border-bottom: 1px solid gray;flex-grow: 1;}#sk-container-id-3 div.sk-label:hover label.sk-toggleable__label {background-color: #d4ebff;}#sk-container-id-3 div.sk-serial::before {content: \"\";position: absolute;border-left: 1px solid gray;box-sizing: border-box;top: 0;bottom: 0;left: 50%;z-index: 0;}#sk-container-id-3 div.sk-serial {display: flex;flex-direction: column;align-items: center;background-color: white;padding-right: 0.2em;padding-left: 0.2em;position: relative;}#sk-container-id-3 div.sk-item {position: relative;z-index: 1;}#sk-container-id-3 div.sk-parallel {display: flex;align-items: stretch;justify-content: center;background-color: white;position: relative;}#sk-container-id-3 div.sk-item::before, #sk-container-id-3 div.sk-parallel-item::before {content: \"\";position: absolute;border-left: 1px solid gray;box-sizing: border-box;top: 0;bottom: 0;left: 50%;z-index: -1;}#sk-container-id-3 div.sk-parallel-item {display: flex;flex-direction: column;z-index: 1;position: relative;background-color: white;}#sk-container-id-3 div.sk-parallel-item:first-child::after {align-self: flex-end;width: 50%;}#sk-container-id-3 div.sk-parallel-item:last-child::after {align-self: flex-start;width: 50%;}#sk-container-id-3 div.sk-parallel-item:only-child::after {width: 0;}#sk-container-id-3 div.sk-dashed-wrapped {border: 1px dashed gray;margin: 0 0.4em 0.5em 0.4em;box-sizing: border-box;padding-bottom: 0.4em;background-color: white;}#sk-container-id-3 div.sk-label label {font-family: monospace;font-weight: bold;display: inline-block;line-height: 1.2em;}#sk-container-id-3 div.sk-label-container {text-align: center;}#sk-container-id-3 div.sk-container {/* jupyter's `normalize.less` sets `[hidden] { display: none; }` but bootstrap.min.css set `[hidden] { display: none !important; }` so we also need the `!important` here to be able to override the default hidden behavior on the sphinx rendered scikit-learn.org. See: https://github.com/scikit-learn/scikit-learn/issues/21755 */display: inline-block !important;position: relative;}#sk-container-id-3 div.sk-text-repr-fallback {display: none;}</style><div id=\"sk-container-id-3\" class=\"sk-top-container\"><div class=\"sk-text-repr-fallback\"><pre>DecisionTreeClassifier(class_weight=&#x27;balanced&#x27;, max_depth=10, random_state=1)</pre><b>In a Jupyter environment, please rerun this cell to show the HTML representation or trust the notebook. <br />On GitHub, the HTML representation is unable to render, please try loading this page with nbviewer.org.</b></div><div class=\"sk-container\" hidden><div class=\"sk-item\"><div class=\"sk-estimator sk-toggleable\"><input class=\"sk-toggleable__control sk-hidden--visually\" id=\"sk-estimator-id-3\" type=\"checkbox\" checked><label for=\"sk-estimator-id-3\" class=\"sk-toggleable__label sk-toggleable__label-arrow\">DecisionTreeClassifier</label><div class=\"sk-toggleable__content\"><pre>DecisionTreeClassifier(class_weight=&#x27;balanced&#x27;, max_depth=10, random_state=1)</pre></div></div></div></div></div>"
      ],
      "text/plain": [
       "DecisionTreeClassifier(class_weight='balanced', max_depth=10, random_state=1)"
      ]
     },
     "execution_count": 53,
     "metadata": {},
     "output_type": "execute_result"
    }
   ],
   "source": [
    "rf_clf.fit(train_features, train_labels)"
   ]
  },
  {
   "cell_type": "code",
   "execution_count": 54,
   "id": "d2b301ac",
   "metadata": {},
   "outputs": [],
   "source": [
    "predictions = rf_clf.predict(test_features)\n",
    "probs = rf_clf.predict_proba(test_features)[:, 1]"
   ]
  },
  {
   "cell_type": "code",
   "execution_count": 55,
   "id": "3dffb759",
   "metadata": {},
   "outputs": [],
   "source": [
    "result_table = [[\"F1\", \"Accuracy\", \"AUC\"]]"
   ]
  },
  {
   "cell_type": "code",
   "execution_count": 56,
   "id": "a6f7a47a",
   "metadata": {},
   "outputs": [],
   "source": [
    "result_table.append([\n",
    "    round(f1_score(test_labels, predictions), 3),\n",
    "    round(accuracy_score(test_labels, predictions), 3),\n",
    "    round(roc_auc_score(test_labels, probs), 3),\n",
    "])"
   ]
  },
  {
   "cell_type": "code",
   "execution_count": 57,
   "id": "7f4ab998",
   "metadata": {},
   "outputs": [
    {
     "data": {
      "text/plain": [
       "[['F1', 'Accuracy', 'AUC'], [0.786, 0.852, 0.823]]"
      ]
     },
     "execution_count": 57,
     "metadata": {},
     "output_type": "execute_result"
    }
   ],
   "source": [
    "result_table"
   ]
  },
  {
   "cell_type": "code",
   "execution_count": 58,
   "id": "b4f1a700",
   "metadata": {
    "scrolled": true
   },
   "outputs": [
    {
     "name": "stdout",
     "output_type": "stream",
     "text": [
      "+-------+------------+-------+\n",
      "|    F1 |   Accuracy |   AUC |\n",
      "+=======+============+=======+\n",
      "| 0.786 |      0.852 | 0.823 |\n",
      "+-------+------------+-------+\n"
     ]
    }
   ],
   "source": [
    "from tabulate import tabulate\n",
    "print(tabulate(result_table, headers=\"firstrow\", tablefmt=\"grid\"))"
   ]
  },
  {
   "cell_type": "code",
   "execution_count": null,
   "id": "0eff6665",
   "metadata": {},
   "outputs": [],
   "source": []
  }
 ],
 "metadata": {
  "kernelspec": {
   "display_name": "Python 3 (ipykernel)",
   "language": "python",
   "name": "python3"
  },
  "language_info": {
   "codemirror_mode": {
    "name": "ipython",
    "version": 3
   },
   "file_extension": ".py",
   "mimetype": "text/x-python",
   "name": "python",
   "nbconvert_exporter": "python",
   "pygments_lexer": "ipython3",
   "version": "3.10.9"
  }
 },
 "nbformat": 4,
 "nbformat_minor": 5
}
