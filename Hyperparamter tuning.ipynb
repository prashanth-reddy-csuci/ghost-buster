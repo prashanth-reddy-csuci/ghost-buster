{
 "cells": [
  {
   "cell_type": "code",
   "execution_count": 1,
   "id": "3d34e348",
   "metadata": {},
   "outputs": [],
   "source": [
    "import pandas as pd\n",
    "import numpy as np\n",
    "import os\n",
    "import dill as pickle\n",
    "from sklearn.model_selection import train_test_split\n",
    "from sklearn.linear_model import LogisticRegression\n",
    "from sklearn.model_selection import GridSearchCV\n",
    "from sklearn.model_selection import cross_val_score\n",
    "from sklearn.metrics import f1_score, accuracy_score, roc_auc_score\n",
    "from scipy.stats import loguniform\n",
    "from sklearn.model_selection import RepeatedStratifiedKFold\n",
    "from sklearn.model_selection import RandomizedSearchCV"
   ]
  },
  {
   "cell_type": "code",
   "execution_count": 2,
   "id": "1fce7998",
   "metadata": {},
   "outputs": [],
   "source": [
    "def load_sentence_embeddings(model='DistilBERT', features_path='features/', filename='sentence_embeddings'):\n",
    "    if model == 'DistilBERT':\n",
    "        tst_df = pd.concat([pickle.load(open(os.path.join(features_path, file), 'rb')) for file in os.listdir(features_path) if filename in file])\n",
    "        return tst_df"
   ]
  },
  {
   "cell_type": "code",
   "execution_count": 3,
   "id": "d5f2c305",
   "metadata": {},
   "outputs": [],
   "source": [
    "tst_df = load_sentence_embeddings(features_path=\"features_250/\")"
   ]
  },
  {
   "cell_type": "code",
   "execution_count": 4,
   "id": "a8631e59",
   "metadata": {},
   "outputs": [
    {
     "data": {
      "text/plain": [
       "(22332, 2)"
      ]
     },
     "execution_count": 4,
     "metadata": {},
     "output_type": "execute_result"
    }
   ],
   "source": [
    "tst_df.shape"
   ]
  },
  {
   "cell_type": "code",
   "execution_count": 5,
   "id": "9f8765a2",
   "metadata": {},
   "outputs": [
    {
     "data": {
      "text/html": [
       "<div>\n",
       "<style scoped>\n",
       "    .dataframe tbody tr th:only-of-type {\n",
       "        vertical-align: middle;\n",
       "    }\n",
       "\n",
       "    .dataframe tbody tr th {\n",
       "        vertical-align: top;\n",
       "    }\n",
       "\n",
       "    .dataframe thead th {\n",
       "        text-align: right;\n",
       "    }\n",
       "</style>\n",
       "<table border=\"1\" class=\"dataframe\">\n",
       "  <thead>\n",
       "    <tr style=\"text-align: right;\">\n",
       "      <th></th>\n",
       "      <th>sentence_embeddings</th>\n",
       "      <th>label</th>\n",
       "    </tr>\n",
       "  </thead>\n",
       "  <tbody>\n",
       "    <tr>\n",
       "      <th>0</th>\n",
       "      <td>[-0.185443714261055, -0.11448108404874802, -0....</td>\n",
       "      <td>0</td>\n",
       "    </tr>\n",
       "    <tr>\n",
       "      <th>1</th>\n",
       "      <td>[-0.3724660873413086, 0.04101637750864029, -0....</td>\n",
       "      <td>0</td>\n",
       "    </tr>\n",
       "    <tr>\n",
       "      <th>2</th>\n",
       "      <td>[-0.41084980964660645, -0.1713167279958725, -0...</td>\n",
       "      <td>0</td>\n",
       "    </tr>\n",
       "    <tr>\n",
       "      <th>3</th>\n",
       "      <td>[-0.14235153794288635, 0.19862940907478333, -0...</td>\n",
       "      <td>0</td>\n",
       "    </tr>\n",
       "    <tr>\n",
       "      <th>4</th>\n",
       "      <td>[-0.47683459520339966, -0.040994927287101746, ...</td>\n",
       "      <td>0</td>\n",
       "    </tr>\n",
       "  </tbody>\n",
       "</table>\n",
       "</div>"
      ],
      "text/plain": [
       "                                 sentence_embeddings  label\n",
       "0  [-0.185443714261055, -0.11448108404874802, -0....      0\n",
       "1  [-0.3724660873413086, 0.04101637750864029, -0....      0\n",
       "2  [-0.41084980964660645, -0.1713167279958725, -0...      0\n",
       "3  [-0.14235153794288635, 0.19862940907478333, -0...      0\n",
       "4  [-0.47683459520339966, -0.040994927287101746, ...      0"
      ]
     },
     "execution_count": 5,
     "metadata": {},
     "output_type": "execute_result"
    }
   ],
   "source": [
    "tst_df.head()"
   ]
  },
  {
   "cell_type": "code",
   "execution_count": 6,
   "id": "78faca62",
   "metadata": {},
   "outputs": [
    {
     "data": {
      "text/plain": [
       "0    14888\n",
       "1     7444\n",
       "Name: label, dtype: int64"
      ]
     },
     "execution_count": 6,
     "metadata": {},
     "output_type": "execute_result"
    }
   ],
   "source": [
    "tst_df.label.value_counts()"
   ]
  },
  {
   "cell_type": "code",
   "execution_count": 7,
   "id": "ab8b34bf",
   "metadata": {},
   "outputs": [],
   "source": [
    "features = np.array(tst_df.sentence_embeddings.tolist())"
   ]
  },
  {
   "cell_type": "code",
   "execution_count": 8,
   "id": "30449365",
   "metadata": {},
   "outputs": [],
   "source": [
    "labels = tst_df['label']"
   ]
  },
  {
   "cell_type": "code",
   "execution_count": null,
   "id": "4aa5f852",
   "metadata": {},
   "outputs": [],
   "source": []
  },
  {
   "cell_type": "code",
   "execution_count": 9,
   "id": "f23dca95",
   "metadata": {},
   "outputs": [],
   "source": [
    "model = LogisticRegression()\n",
    "cv = RepeatedStratifiedKFold(n_splits=10, n_repeats=3, random_state=42)"
   ]
  },
  {
   "cell_type": "code",
   "execution_count": 10,
   "id": "3ee54cc5",
   "metadata": {},
   "outputs": [],
   "source": [
    "space = dict()\n",
    "space['solver'] = ['newton-cg', 'lbfgs', 'liblinear']\n",
    "space['penalty'] = ['none', 'l1', 'l2', 'elasticnet']\n",
    "space['C'] = loguniform(1e-5, 100)"
   ]
  },
  {
   "cell_type": "code",
   "execution_count": 11,
   "id": "690cb95d",
   "metadata": {},
   "outputs": [],
   "source": [
    "search = RandomizedSearchCV(model, space, n_iter=500, scoring='accuracy', n_jobs=-1, cv=cv, random_state=1)"
   ]
  },
  {
   "cell_type": "code",
   "execution_count": null,
   "id": "2e0f2633",
   "metadata": {},
   "outputs": [],
   "source": []
  },
  {
   "cell_type": "code",
   "execution_count": null,
   "id": "2b5c3b09",
   "metadata": {},
   "outputs": [],
   "source": [
    "# execute search\n",
    "result = search.fit(features, labels)"
   ]
  },
  {
   "cell_type": "code",
   "execution_count": null,
   "id": "71741ce1",
   "metadata": {},
   "outputs": [],
   "source": [
    "# summarize result\n",
    "print('Best Score: %s' % result.best_score_)\n",
    "print('Best Hyperparameters: %s' % result.best_params_)"
   ]
  },
  {
   "cell_type": "code",
   "execution_count": null,
   "id": "1c631266",
   "metadata": {},
   "outputs": [],
   "source": [
    "# execute search\n",
    "result = search.fit(features, labels)"
   ]
  },
  {
   "cell_type": "code",
   "execution_count": null,
   "id": "99e9bb5e",
   "metadata": {},
   "outputs": [],
   "source": [
    "# summarize result\n",
    "print('Best Score: %s' % result.best_score_)\n",
    "print('Best Hyperparameters: %s' % result.best_params_)"
   ]
  },
  {
   "cell_type": "code",
   "execution_count": null,
   "id": "6aded01e",
   "metadata": {},
   "outputs": [],
   "source": []
  },
  {
   "cell_type": "code",
   "execution_count": null,
   "id": "a8cd34db",
   "metadata": {},
   "outputs": [],
   "source": []
  },
  {
   "cell_type": "code",
   "execution_count": null,
   "id": "a95d8466",
   "metadata": {},
   "outputs": [],
   "source": []
  },
  {
   "cell_type": "code",
   "execution_count": null,
   "id": "cb7a90cd",
   "metadata": {},
   "outputs": [],
   "source": [
    "model1 = LogisticRegression()\n",
    "cv1 = RepeatedStratifiedKFold(n_splits=10, n_repeats=3, random_state=42)"
   ]
  },
  {
   "cell_type": "code",
   "execution_count": null,
   "id": "3d26e3de",
   "metadata": {},
   "outputs": [],
   "source": [
    "space1 = dict()\n",
    "space1['solver'] = ['liblinear']\n",
    "space1['penalty'] = ['none', 'l2']\n",
    "space1['class_weight'] = [\"balanced\"]\n",
    "space1['C'] = loguniform(1e-5, 100)"
   ]
  },
  {
   "cell_type": "code",
   "execution_count": null,
   "id": "e12496e5",
   "metadata": {},
   "outputs": [],
   "source": [
    "search1 = RandomizedSearchCV(model1, space1, n_iter=100, scoring='f1', n_jobs=-1, cv=cv1, random_state=1)"
   ]
  },
  {
   "cell_type": "code",
   "execution_count": null,
   "id": "f18e5c57",
   "metadata": {},
   "outputs": [],
   "source": [
    "# execute search\n",
    "result1 = search1.fit(features, labels)"
   ]
  },
  {
   "cell_type": "code",
   "execution_count": null,
   "id": "5360cfa9",
   "metadata": {},
   "outputs": [],
   "source": [
    "# summarize result\n",
    "print('Best Score: %s' % result1.best_score_)\n",
    "print('Best Hyperparameters: %s' % result1.best_params_)"
   ]
  },
  {
   "cell_type": "code",
   "execution_count": null,
   "id": "4e4c1385",
   "metadata": {},
   "outputs": [],
   "source": []
  },
  {
   "cell_type": "code",
   "execution_count": null,
   "id": "c86d1ed3",
   "metadata": {},
   "outputs": [],
   "source": []
  },
  {
   "cell_type": "code",
   "execution_count": null,
   "id": "a4e318df",
   "metadata": {},
   "outputs": [],
   "source": [
    "train_features, test_features, train_labels, test_labels = train_test_split(features, labels)"
   ]
  },
  {
   "cell_type": "code",
   "execution_count": null,
   "id": "7bfbc570",
   "metadata": {},
   "outputs": [],
   "source": [
    "best_lr_clf = LogisticRegression(C=4.9, class_weight='balanced', penalty='l2', solver='liblinear')"
   ]
  },
  {
   "cell_type": "code",
   "execution_count": null,
   "id": "63ca1085",
   "metadata": {},
   "outputs": [],
   "source": [
    "best_lr_clf.fit(train_features, train_labels)"
   ]
  },
  {
   "cell_type": "code",
   "execution_count": null,
   "id": "c8a94872",
   "metadata": {},
   "outputs": [],
   "source": [
    "predictions = best_lr_clf.predict(test_features)\n",
    "probs = best_lr_clf.predict_proba(test_features)[:, 1]"
   ]
  },
  {
   "cell_type": "code",
   "execution_count": null,
   "id": "1654b7af",
   "metadata": {},
   "outputs": [],
   "source": [
    "result_table = [[\"Classifier\", \"F1\", \"Accuracy\", \"AUC\"]]"
   ]
  },
  {
   "cell_type": "code",
   "execution_count": null,
   "id": "f5abebb7",
   "metadata": {},
   "outputs": [],
   "source": [
    "result_table.append([\n",
    "    \"LogisticRegression(C=4.9, class_weight='balanced', penalty='l2', solver='liblinear')\",\n",
    "    round(f1_score(test_labels, predictions), 3),\n",
    "    round(accuracy_score(test_labels, predictions), 3),\n",
    "    round(roc_auc_score(test_labels, probs), 3),\n",
    "])"
   ]
  },
  {
   "cell_type": "code",
   "execution_count": null,
   "id": "0bad3b9e",
   "metadata": {},
   "outputs": [],
   "source": [
    "result_table"
   ]
  },
  {
   "cell_type": "code",
   "execution_count": null,
   "id": "188d07d9",
   "metadata": {
    "scrolled": false
   },
   "outputs": [],
   "source": [
    "from tabulate import tabulate\n",
    "print(tabulate(result_table, headers=\"firstrow\", tablefmt=\"grid\"))"
   ]
  },
  {
   "cell_type": "code",
   "execution_count": null,
   "id": "9e61b267",
   "metadata": {},
   "outputs": [],
   "source": []
  },
  {
   "cell_type": "code",
   "execution_count": null,
   "id": "916c28c9",
   "metadata": {},
   "outputs": [],
   "source": []
  },
  {
   "cell_type": "code",
   "execution_count": null,
   "id": "854ec757",
   "metadata": {},
   "outputs": [],
   "source": []
  },
  {
   "cell_type": "markdown",
   "id": "22d09812",
   "metadata": {},
   "source": [
    "# KNN"
   ]
  },
  {
   "cell_type": "code",
   "execution_count": 17,
   "id": "8a95cf1d",
   "metadata": {},
   "outputs": [],
   "source": [
    "from sklearn.neighbors import KNeighborsClassifier"
   ]
  },
  {
   "cell_type": "code",
   "execution_count": 18,
   "id": "029af6ac",
   "metadata": {},
   "outputs": [],
   "source": [
    "knn_model = KNeighborsClassifier(n_jobs=-1)"
   ]
  },
  {
   "cell_type": "code",
   "execution_count": 19,
   "id": "9521046e",
   "metadata": {},
   "outputs": [],
   "source": [
    "knn_cv = RepeatedStratifiedKFold(n_splits=10, n_repeats=3, random_state=42)"
   ]
  },
  {
   "cell_type": "code",
   "execution_count": 12,
   "id": "f713ff9b",
   "metadata": {},
   "outputs": [],
   "source": [
    "knn_space = dict()\n",
    "knn_space['weights'] = ['distance', 'uniform']\n",
    "knn_space['n_neighbors'] = list(range(5, 50, 5))\n",
    "knn_space['algorithm'] = ['auto', 'ball_tree', 'kd_tree']\n",
    "knn_space['p'] = [1, 2]"
   ]
  },
  {
   "cell_type": "code",
   "execution_count": 13,
   "id": "aa5578c2",
   "metadata": {},
   "outputs": [],
   "source": [
    "knn_search = RandomizedSearchCV(knn_model, knn_space, n_iter=100, scoring='f1', n_jobs=-1, cv=knn_cv, random_state=1)"
   ]
  },
  {
   "cell_type": "code",
   "execution_count": 14,
   "id": "f862b316",
   "metadata": {},
   "outputs": [],
   "source": [
    "# execute search\n",
    "knn_result = knn_search.fit(features, labels)"
   ]
  },
  {
   "cell_type": "code",
   "execution_count": 16,
   "id": "c6ce45c1",
   "metadata": {},
   "outputs": [
    {
     "name": "stdout",
     "output_type": "stream",
     "text": [
      "Best Score: 0.9108119417459216\n",
      "Best Hyperparameters: {'weights': 'distance', 'p': 1, 'n_neighbors': 20, 'algorithm': 'ball_tree'}\n"
     ]
    }
   ],
   "source": [
    "# summarize result\n",
    "print('Best Score: %s' % knn_result.best_score_)\n",
    "print('Best Hyperparameters: %s' % knn_result.best_params_)"
   ]
  },
  {
   "cell_type": "code",
   "execution_count": 20,
   "id": "d868793e",
   "metadata": {},
   "outputs": [],
   "source": [
    "train_features, test_features, train_labels, test_labels = train_test_split(features, labels)"
   ]
  },
  {
   "cell_type": "code",
   "execution_count": 21,
   "id": "7b961118",
   "metadata": {},
   "outputs": [],
   "source": [
    "best_knn_clf = KNeighborsClassifier(p=1, weights='distance', n_neighbors=20, algorithm='ball_tree', n_jobs=-1)"
   ]
  },
  {
   "cell_type": "code",
   "execution_count": 22,
   "id": "1e4126ef",
   "metadata": {},
   "outputs": [
    {
     "data": {
      "text/html": [
       "<style>#sk-container-id-2 {color: black;background-color: white;}#sk-container-id-2 pre{padding: 0;}#sk-container-id-2 div.sk-toggleable {background-color: white;}#sk-container-id-2 label.sk-toggleable__label {cursor: pointer;display: block;width: 100%;margin-bottom: 0;padding: 0.3em;box-sizing: border-box;text-align: center;}#sk-container-id-2 label.sk-toggleable__label-arrow:before {content: \"▸\";float: left;margin-right: 0.25em;color: #696969;}#sk-container-id-2 label.sk-toggleable__label-arrow:hover:before {color: black;}#sk-container-id-2 div.sk-estimator:hover label.sk-toggleable__label-arrow:before {color: black;}#sk-container-id-2 div.sk-toggleable__content {max-height: 0;max-width: 0;overflow: hidden;text-align: left;background-color: #f0f8ff;}#sk-container-id-2 div.sk-toggleable__content pre {margin: 0.2em;color: black;border-radius: 0.25em;background-color: #f0f8ff;}#sk-container-id-2 input.sk-toggleable__control:checked~div.sk-toggleable__content {max-height: 200px;max-width: 100%;overflow: auto;}#sk-container-id-2 input.sk-toggleable__control:checked~label.sk-toggleable__label-arrow:before {content: \"▾\";}#sk-container-id-2 div.sk-estimator input.sk-toggleable__control:checked~label.sk-toggleable__label {background-color: #d4ebff;}#sk-container-id-2 div.sk-label input.sk-toggleable__control:checked~label.sk-toggleable__label {background-color: #d4ebff;}#sk-container-id-2 input.sk-hidden--visually {border: 0;clip: rect(1px 1px 1px 1px);clip: rect(1px, 1px, 1px, 1px);height: 1px;margin: -1px;overflow: hidden;padding: 0;position: absolute;width: 1px;}#sk-container-id-2 div.sk-estimator {font-family: monospace;background-color: #f0f8ff;border: 1px dotted black;border-radius: 0.25em;box-sizing: border-box;margin-bottom: 0.5em;}#sk-container-id-2 div.sk-estimator:hover {background-color: #d4ebff;}#sk-container-id-2 div.sk-parallel-item::after {content: \"\";width: 100%;border-bottom: 1px solid gray;flex-grow: 1;}#sk-container-id-2 div.sk-label:hover label.sk-toggleable__label {background-color: #d4ebff;}#sk-container-id-2 div.sk-serial::before {content: \"\";position: absolute;border-left: 1px solid gray;box-sizing: border-box;top: 0;bottom: 0;left: 50%;z-index: 0;}#sk-container-id-2 div.sk-serial {display: flex;flex-direction: column;align-items: center;background-color: white;padding-right: 0.2em;padding-left: 0.2em;position: relative;}#sk-container-id-2 div.sk-item {position: relative;z-index: 1;}#sk-container-id-2 div.sk-parallel {display: flex;align-items: stretch;justify-content: center;background-color: white;position: relative;}#sk-container-id-2 div.sk-item::before, #sk-container-id-2 div.sk-parallel-item::before {content: \"\";position: absolute;border-left: 1px solid gray;box-sizing: border-box;top: 0;bottom: 0;left: 50%;z-index: -1;}#sk-container-id-2 div.sk-parallel-item {display: flex;flex-direction: column;z-index: 1;position: relative;background-color: white;}#sk-container-id-2 div.sk-parallel-item:first-child::after {align-self: flex-end;width: 50%;}#sk-container-id-2 div.sk-parallel-item:last-child::after {align-self: flex-start;width: 50%;}#sk-container-id-2 div.sk-parallel-item:only-child::after {width: 0;}#sk-container-id-2 div.sk-dashed-wrapped {border: 1px dashed gray;margin: 0 0.4em 0.5em 0.4em;box-sizing: border-box;padding-bottom: 0.4em;background-color: white;}#sk-container-id-2 div.sk-label label {font-family: monospace;font-weight: bold;display: inline-block;line-height: 1.2em;}#sk-container-id-2 div.sk-label-container {text-align: center;}#sk-container-id-2 div.sk-container {/* jupyter's `normalize.less` sets `[hidden] { display: none; }` but bootstrap.min.css set `[hidden] { display: none !important; }` so we also need the `!important` here to be able to override the default hidden behavior on the sphinx rendered scikit-learn.org. See: https://github.com/scikit-learn/scikit-learn/issues/21755 */display: inline-block !important;position: relative;}#sk-container-id-2 div.sk-text-repr-fallback {display: none;}</style><div id=\"sk-container-id-2\" class=\"sk-top-container\"><div class=\"sk-text-repr-fallback\"><pre>KNeighborsClassifier(algorithm=&#x27;ball_tree&#x27;, n_jobs=-1, n_neighbors=20, p=1,\n",
       "                     weights=&#x27;distance&#x27;)</pre><b>In a Jupyter environment, please rerun this cell to show the HTML representation or trust the notebook. <br />On GitHub, the HTML representation is unable to render, please try loading this page with nbviewer.org.</b></div><div class=\"sk-container\" hidden><div class=\"sk-item\"><div class=\"sk-estimator sk-toggleable\"><input class=\"sk-toggleable__control sk-hidden--visually\" id=\"sk-estimator-id-2\" type=\"checkbox\" checked><label for=\"sk-estimator-id-2\" class=\"sk-toggleable__label sk-toggleable__label-arrow\">KNeighborsClassifier</label><div class=\"sk-toggleable__content\"><pre>KNeighborsClassifier(algorithm=&#x27;ball_tree&#x27;, n_jobs=-1, n_neighbors=20, p=1,\n",
       "                     weights=&#x27;distance&#x27;)</pre></div></div></div></div></div>"
      ],
      "text/plain": [
       "KNeighborsClassifier(algorithm='ball_tree', n_jobs=-1, n_neighbors=20, p=1,\n",
       "                     weights='distance')"
      ]
     },
     "execution_count": 22,
     "metadata": {},
     "output_type": "execute_result"
    }
   ],
   "source": [
    "best_knn_clf.fit(train_features, train_labels)"
   ]
  },
  {
   "cell_type": "code",
   "execution_count": 23,
   "id": "d0cf5736",
   "metadata": {},
   "outputs": [],
   "source": [
    "predictions = best_knn_clf.predict(test_features)\n",
    "probs = best_knn_clf.predict_proba(test_features)[:, 1]"
   ]
  },
  {
   "cell_type": "code",
   "execution_count": 34,
   "id": "fd242e8d",
   "metadata": {},
   "outputs": [],
   "source": [
    "result_table = [[\"F1\", \"Accuracy\", \"AUC\"]]"
   ]
  },
  {
   "cell_type": "code",
   "execution_count": 24,
   "id": "87689e2b",
   "metadata": {},
   "outputs": [],
   "source": [
    "result_table.append([\n",
    "    \"KNeighborsClassifier(p=1, weights='distance', n_neighbors=20, algorithm='ball_tree', n_jobs=-1)\",\n",
    "    round(f1_score(test_labels, predictions), 3),\n",
    "    round(accuracy_score(test_labels, predictions), 3),\n",
    "    round(roc_auc_score(test_labels, probs), 3),\n",
    "])"
   ]
  },
  {
   "cell_type": "code",
   "execution_count": 25,
   "id": "2b5e7cf8",
   "metadata": {},
   "outputs": [
    {
     "data": {
      "text/plain": [
       "[['Classifier', 'F1', 'Accuracy', 'AUC'],\n",
       " [\"LogisticRegression(C=4.9, class_weight='balanced', penalty='l2', solver='liblinear')\",\n",
       "  0.974,\n",
       "  0.982,\n",
       "  0.998],\n",
       " [\"KNeighborsClassifier(p=1, weights='distance', n_neighbors=20, algorithm='ball_tree', n_jobs=-1)\",\n",
       "  0.903,\n",
       "  0.935,\n",
       "  0.979]]"
      ]
     },
     "execution_count": 25,
     "metadata": {},
     "output_type": "execute_result"
    }
   ],
   "source": [
    "result_table"
   ]
  },
  {
   "cell_type": "code",
   "execution_count": 26,
   "id": "eecf146b",
   "metadata": {
    "scrolled": false
   },
   "outputs": [
    {
     "name": "stdout",
     "output_type": "stream",
     "text": [
      "+-------------------------------------------------------------------------------------------------+-------+------------+-------+\n",
      "| Classifier                                                                                      |    F1 |   Accuracy |   AUC |\n",
      "+=================================================================================================+=======+============+=======+\n",
      "| LogisticRegression(C=4.9, class_weight='balanced', penalty='l2', solver='liblinear')            | 0.974 |      0.982 | 0.998 |\n",
      "+-------------------------------------------------------------------------------------------------+-------+------------+-------+\n",
      "| KNeighborsClassifier(p=1, weights='distance', n_neighbors=20, algorithm='ball_tree', n_jobs=-1) | 0.903 |      0.935 | 0.979 |\n",
      "+-------------------------------------------------------------------------------------------------+-------+------------+-------+\n"
     ]
    }
   ],
   "source": [
    "from tabulate import tabulate\n",
    "print(tabulate(result_table, headers=\"firstrow\", tablefmt=\"grid\"))"
   ]
  },
  {
   "cell_type": "code",
   "execution_count": null,
   "id": "9d0f34b2",
   "metadata": {},
   "outputs": [],
   "source": []
  },
  {
   "cell_type": "code",
   "execution_count": null,
   "id": "f7a7e7a4",
   "metadata": {},
   "outputs": [],
   "source": []
  },
  {
   "cell_type": "code",
   "execution_count": null,
   "id": "dceeaee0",
   "metadata": {},
   "outputs": [],
   "source": []
  },
  {
   "cell_type": "code",
   "execution_count": null,
   "id": "6268c0dc",
   "metadata": {},
   "outputs": [],
   "source": []
  },
  {
   "cell_type": "code",
   "execution_count": null,
   "id": "a2e00239",
   "metadata": {},
   "outputs": [],
   "source": []
  },
  {
   "cell_type": "code",
   "execution_count": null,
   "id": "b7571274",
   "metadata": {},
   "outputs": [],
   "source": []
  },
  {
   "cell_type": "markdown",
   "id": "8ef86544",
   "metadata": {},
   "source": [
    "# DT"
   ]
  },
  {
   "cell_type": "code",
   "execution_count": 27,
   "id": "272299c3",
   "metadata": {},
   "outputs": [],
   "source": [
    "from sklearn.tree import DecisionTreeClassifier\n",
    "\n",
    "dt_model = DecisionTreeClassifier()\n",
    "dt_cv = RepeatedStratifiedKFold(n_splits=10, n_repeats=3, random_state=42)"
   ]
  },
  {
   "cell_type": "code",
   "execution_count": 24,
   "id": "11615b7d",
   "metadata": {},
   "outputs": [],
   "source": [
    "dt_space = dict()\n",
    "dt_space['random_state'] = [1]\n",
    "dt_space['criterion'] = ['gini', 'entropy']\n",
    "dt_space['max_depth'] = [50, 100, 500, 1000]\n",
    "dt_space['splitter'] = ['best', 'random']\n",
    "dt_space['class_weight'] = [None, 'balanced']\n",
    "dt_space['max_features'] = [None, 'auto', 'sqrt', 'log2']"
   ]
  },
  {
   "cell_type": "code",
   "execution_count": 25,
   "id": "0c8bbde4",
   "metadata": {},
   "outputs": [],
   "source": [
    "dt_search = RandomizedSearchCV(dt_model, dt_space, n_iter=100, scoring='f1', n_jobs=-1, cv=dt_cv, random_state=1)"
   ]
  },
  {
   "cell_type": "code",
   "execution_count": 26,
   "id": "68b199b2",
   "metadata": {},
   "outputs": [],
   "source": [
    "# execute search\n",
    "dt_result = dt_search.fit(features, labels)"
   ]
  },
  {
   "cell_type": "code",
   "execution_count": 27,
   "id": "7bf673d9",
   "metadata": {},
   "outputs": [
    {
     "name": "stdout",
     "output_type": "stream",
     "text": [
      "Best Score: 0.7903791474939794\n",
      "Best Hyperparameters: {'splitter': 'best', 'random_state': 1, 'max_features': None, 'max_depth': 100, 'criterion': 'entropy', 'class_weight': 'balanced'}\n"
     ]
    }
   ],
   "source": [
    "# summarize result\n",
    "print('Best Score: %s' % dt_result.best_score_)\n",
    "print('Best Hyperparameters: %s' % dt_result.best_params_)"
   ]
  },
  {
   "cell_type": "code",
   "execution_count": 28,
   "id": "0513ede6",
   "metadata": {},
   "outputs": [],
   "source": [
    "train_features, test_features, train_labels, test_labels = train_test_split(features, labels)"
   ]
  },
  {
   "cell_type": "code",
   "execution_count": 29,
   "id": "76959c72",
   "metadata": {},
   "outputs": [],
   "source": [
    "best_dt_clf = DecisionTreeClassifier(criterion='entropy', splitter='best', random_state=1,\n",
    "                                     max_features=None, max_depth=100, class_weight='balanced')"
   ]
  },
  {
   "cell_type": "code",
   "execution_count": 30,
   "id": "a6283653",
   "metadata": {},
   "outputs": [
    {
     "data": {
      "text/html": [
       "<style>#sk-container-id-3 {color: black;background-color: white;}#sk-container-id-3 pre{padding: 0;}#sk-container-id-3 div.sk-toggleable {background-color: white;}#sk-container-id-3 label.sk-toggleable__label {cursor: pointer;display: block;width: 100%;margin-bottom: 0;padding: 0.3em;box-sizing: border-box;text-align: center;}#sk-container-id-3 label.sk-toggleable__label-arrow:before {content: \"▸\";float: left;margin-right: 0.25em;color: #696969;}#sk-container-id-3 label.sk-toggleable__label-arrow:hover:before {color: black;}#sk-container-id-3 div.sk-estimator:hover label.sk-toggleable__label-arrow:before {color: black;}#sk-container-id-3 div.sk-toggleable__content {max-height: 0;max-width: 0;overflow: hidden;text-align: left;background-color: #f0f8ff;}#sk-container-id-3 div.sk-toggleable__content pre {margin: 0.2em;color: black;border-radius: 0.25em;background-color: #f0f8ff;}#sk-container-id-3 input.sk-toggleable__control:checked~div.sk-toggleable__content {max-height: 200px;max-width: 100%;overflow: auto;}#sk-container-id-3 input.sk-toggleable__control:checked~label.sk-toggleable__label-arrow:before {content: \"▾\";}#sk-container-id-3 div.sk-estimator input.sk-toggleable__control:checked~label.sk-toggleable__label {background-color: #d4ebff;}#sk-container-id-3 div.sk-label input.sk-toggleable__control:checked~label.sk-toggleable__label {background-color: #d4ebff;}#sk-container-id-3 input.sk-hidden--visually {border: 0;clip: rect(1px 1px 1px 1px);clip: rect(1px, 1px, 1px, 1px);height: 1px;margin: -1px;overflow: hidden;padding: 0;position: absolute;width: 1px;}#sk-container-id-3 div.sk-estimator {font-family: monospace;background-color: #f0f8ff;border: 1px dotted black;border-radius: 0.25em;box-sizing: border-box;margin-bottom: 0.5em;}#sk-container-id-3 div.sk-estimator:hover {background-color: #d4ebff;}#sk-container-id-3 div.sk-parallel-item::after {content: \"\";width: 100%;border-bottom: 1px solid gray;flex-grow: 1;}#sk-container-id-3 div.sk-label:hover label.sk-toggleable__label {background-color: #d4ebff;}#sk-container-id-3 div.sk-serial::before {content: \"\";position: absolute;border-left: 1px solid gray;box-sizing: border-box;top: 0;bottom: 0;left: 50%;z-index: 0;}#sk-container-id-3 div.sk-serial {display: flex;flex-direction: column;align-items: center;background-color: white;padding-right: 0.2em;padding-left: 0.2em;position: relative;}#sk-container-id-3 div.sk-item {position: relative;z-index: 1;}#sk-container-id-3 div.sk-parallel {display: flex;align-items: stretch;justify-content: center;background-color: white;position: relative;}#sk-container-id-3 div.sk-item::before, #sk-container-id-3 div.sk-parallel-item::before {content: \"\";position: absolute;border-left: 1px solid gray;box-sizing: border-box;top: 0;bottom: 0;left: 50%;z-index: -1;}#sk-container-id-3 div.sk-parallel-item {display: flex;flex-direction: column;z-index: 1;position: relative;background-color: white;}#sk-container-id-3 div.sk-parallel-item:first-child::after {align-self: flex-end;width: 50%;}#sk-container-id-3 div.sk-parallel-item:last-child::after {align-self: flex-start;width: 50%;}#sk-container-id-3 div.sk-parallel-item:only-child::after {width: 0;}#sk-container-id-3 div.sk-dashed-wrapped {border: 1px dashed gray;margin: 0 0.4em 0.5em 0.4em;box-sizing: border-box;padding-bottom: 0.4em;background-color: white;}#sk-container-id-3 div.sk-label label {font-family: monospace;font-weight: bold;display: inline-block;line-height: 1.2em;}#sk-container-id-3 div.sk-label-container {text-align: center;}#sk-container-id-3 div.sk-container {/* jupyter's `normalize.less` sets `[hidden] { display: none; }` but bootstrap.min.css set `[hidden] { display: none !important; }` so we also need the `!important` here to be able to override the default hidden behavior on the sphinx rendered scikit-learn.org. See: https://github.com/scikit-learn/scikit-learn/issues/21755 */display: inline-block !important;position: relative;}#sk-container-id-3 div.sk-text-repr-fallback {display: none;}</style><div id=\"sk-container-id-3\" class=\"sk-top-container\"><div class=\"sk-text-repr-fallback\"><pre>DecisionTreeClassifier(class_weight=&#x27;balanced&#x27;, criterion=&#x27;entropy&#x27;,\n",
       "                       max_depth=100, random_state=1)</pre><b>In a Jupyter environment, please rerun this cell to show the HTML representation or trust the notebook. <br />On GitHub, the HTML representation is unable to render, please try loading this page with nbviewer.org.</b></div><div class=\"sk-container\" hidden><div class=\"sk-item\"><div class=\"sk-estimator sk-toggleable\"><input class=\"sk-toggleable__control sk-hidden--visually\" id=\"sk-estimator-id-3\" type=\"checkbox\" checked><label for=\"sk-estimator-id-3\" class=\"sk-toggleable__label sk-toggleable__label-arrow\">DecisionTreeClassifier</label><div class=\"sk-toggleable__content\"><pre>DecisionTreeClassifier(class_weight=&#x27;balanced&#x27;, criterion=&#x27;entropy&#x27;,\n",
       "                       max_depth=100, random_state=1)</pre></div></div></div></div></div>"
      ],
      "text/plain": [
       "DecisionTreeClassifier(class_weight='balanced', criterion='entropy',\n",
       "                       max_depth=100, random_state=1)"
      ]
     },
     "execution_count": 30,
     "metadata": {},
     "output_type": "execute_result"
    }
   ],
   "source": [
    "best_dt_clf.fit(train_features, train_labels)"
   ]
  },
  {
   "cell_type": "code",
   "execution_count": 31,
   "id": "c2a5c77b",
   "metadata": {},
   "outputs": [],
   "source": [
    "predictions = best_dt_clf.predict(test_features)\n",
    "probs = best_dt_clf.predict_proba(test_features)[:, 1]"
   ]
  },
  {
   "cell_type": "code",
   "execution_count": 42,
   "id": "47594d2e",
   "metadata": {},
   "outputs": [],
   "source": [
    "result_table = [[\"F1\", \"Accuracy\", \"AUC\"]]"
   ]
  },
  {
   "cell_type": "code",
   "execution_count": 32,
   "id": "c98f288f",
   "metadata": {},
   "outputs": [],
   "source": [
    "result_table.append([\n",
    "    \"DecisionTreeClassifier(criterion='entropy', splitter='best', random_state=1, max_features=None, max_depth=100, class_weight='balanced')\",\n",
    "    round(f1_score(test_labels, predictions), 3),\n",
    "    round(accuracy_score(test_labels, predictions), 3),\n",
    "    round(roc_auc_score(test_labels, probs), 3),\n",
    "])"
   ]
  },
  {
   "cell_type": "code",
   "execution_count": 33,
   "id": "d4556107",
   "metadata": {},
   "outputs": [
    {
     "data": {
      "text/plain": [
       "[['Classifier', 'F1', 'Accuracy', 'AUC'],\n",
       " [\"LogisticRegression(C=4.9, class_weight='balanced', penalty='l2', solver='liblinear')\",\n",
       "  0.974,\n",
       "  0.982,\n",
       "  0.998],\n",
       " [\"KNeighborsClassifier(p=1, weights='distance', n_neighbors=20, algorithm='ball_tree', n_jobs=-1)\",\n",
       "  0.903,\n",
       "  0.935,\n",
       "  0.979],\n",
       " [\"DecisionTreeClassifier(criterion='entropy', splitter='best', random_state=1, max_features=None, max_depth=100, class_weight='balanced')\",\n",
       "  0.787,\n",
       "  0.858,\n",
       "  0.839]]"
      ]
     },
     "execution_count": 33,
     "metadata": {},
     "output_type": "execute_result"
    }
   ],
   "source": [
    "result_table"
   ]
  },
  {
   "cell_type": "code",
   "execution_count": 34,
   "id": "cafbdd1c",
   "metadata": {
    "scrolled": false
   },
   "outputs": [
    {
     "name": "stdout",
     "output_type": "stream",
     "text": [
      "+-----------------------------------------------------------------------------------------------------------------------------------------+-------+------------+-------+\n",
      "| Classifier                                                                                                                              |    F1 |   Accuracy |   AUC |\n",
      "+=========================================================================================================================================+=======+============+=======+\n",
      "| LogisticRegression(C=4.9, class_weight='balanced', penalty='l2', solver='liblinear')                                                    | 0.974 |      0.982 | 0.998 |\n",
      "+-----------------------------------------------------------------------------------------------------------------------------------------+-------+------------+-------+\n",
      "| KNeighborsClassifier(p=1, weights='distance', n_neighbors=20, algorithm='ball_tree', n_jobs=-1)                                         | 0.903 |      0.935 | 0.979 |\n",
      "+-----------------------------------------------------------------------------------------------------------------------------------------+-------+------------+-------+\n",
      "| DecisionTreeClassifier(criterion='entropy', splitter='best', random_state=1, max_features=None, max_depth=100, class_weight='balanced') | 0.787 |      0.858 | 0.839 |\n",
      "+-----------------------------------------------------------------------------------------------------------------------------------------+-------+------------+-------+\n"
     ]
    }
   ],
   "source": [
    "from tabulate import tabulate\n",
    "print(tabulate(result_table, headers=\"firstrow\", tablefmt=\"grid\"))"
   ]
  },
  {
   "cell_type": "code",
   "execution_count": 45,
   "id": "e53f4174",
   "metadata": {},
   "outputs": [
    {
     "data": {
      "text/html": [
       "<div>\n",
       "<style scoped>\n",
       "    .dataframe tbody tr th:only-of-type {\n",
       "        vertical-align: middle;\n",
       "    }\n",
       "\n",
       "    .dataframe tbody tr th {\n",
       "        vertical-align: top;\n",
       "    }\n",
       "\n",
       "    .dataframe thead th {\n",
       "        text-align: right;\n",
       "    }\n",
       "</style>\n",
       "<table border=\"1\" class=\"dataframe\">\n",
       "  <thead>\n",
       "    <tr style=\"text-align: right;\">\n",
       "      <th></th>\n",
       "      <th>Classifier</th>\n",
       "      <th>F1</th>\n",
       "      <th>Accuracy</th>\n",
       "      <th>AUC</th>\n",
       "    </tr>\n",
       "  </thead>\n",
       "  <tbody>\n",
       "    <tr>\n",
       "      <th>0</th>\n",
       "      <td>LogisticRegression(C=4.9, class_weight='balanced', penalty='l2', solver='liblinear')</td>\n",
       "      <td>0.974</td>\n",
       "      <td>0.982</td>\n",
       "      <td>0.998</td>\n",
       "    </tr>\n",
       "    <tr>\n",
       "      <th>1</th>\n",
       "      <td>KNeighborsClassifier(p=1, weights='distance', n_neighbors=20, algorithm='ball_tree', n_jobs=-1)</td>\n",
       "      <td>0.903</td>\n",
       "      <td>0.935</td>\n",
       "      <td>0.979</td>\n",
       "    </tr>\n",
       "    <tr>\n",
       "      <th>2</th>\n",
       "      <td>DecisionTreeClassifier(criterion='entropy', splitter='best', random_state=1, max_features=None, max_depth=100, class_weight='balanced')</td>\n",
       "      <td>0.787</td>\n",
       "      <td>0.858</td>\n",
       "      <td>0.839</td>\n",
       "    </tr>\n",
       "  </tbody>\n",
       "</table>\n",
       "</div>"
      ],
      "text/plain": [
       "                                                                                                                                Classifier  \\\n",
       "0                                                     LogisticRegression(C=4.9, class_weight='balanced', penalty='l2', solver='liblinear')   \n",
       "1                                          KNeighborsClassifier(p=1, weights='distance', n_neighbors=20, algorithm='ball_tree', n_jobs=-1)   \n",
       "2  DecisionTreeClassifier(criterion='entropy', splitter='best', random_state=1, max_features=None, max_depth=100, class_weight='balanced')   \n",
       "\n",
       "      F1  Accuracy    AUC  \n",
       "0  0.974     0.982  0.998  \n",
       "1  0.903     0.935  0.979  \n",
       "2  0.787     0.858  0.839  "
      ]
     },
     "execution_count": 45,
     "metadata": {},
     "output_type": "execute_result"
    }
   ],
   "source": [
    "pd.set_option('display.max_colwidth', None)\n",
    "pd.set_option('display.max_rows', None)\n",
    "pd.DataFrame(result_table[1:], columns=['Classifier', 'F1', 'Accuracy', 'AUC'])"
   ]
  },
  {
   "cell_type": "code",
   "execution_count": null,
   "id": "809ff7ea",
   "metadata": {},
   "outputs": [],
   "source": []
  },
  {
   "cell_type": "code",
   "execution_count": null,
   "id": "94a00cdc",
   "metadata": {},
   "outputs": [],
   "source": []
  },
  {
   "cell_type": "markdown",
   "id": "3e923b42",
   "metadata": {},
   "source": [
    "# more iter on dt"
   ]
  },
  {
   "cell_type": "code",
   "execution_count": 46,
   "id": "e3765b38",
   "metadata": {},
   "outputs": [],
   "source": [
    "from sklearn.tree import DecisionTreeClassifier\n",
    "\n",
    "dt_more_model = DecisionTreeClassifier()\n",
    "dt_more_cv = RepeatedStratifiedKFold(n_splits=10, n_repeats=3, random_state=42)"
   ]
  },
  {
   "cell_type": "code",
   "execution_count": 47,
   "id": "97543a16",
   "metadata": {},
   "outputs": [],
   "source": [
    "dt_more_space = dict()\n",
    "dt_more_space['random_state'] = [1]\n",
    "dt_more_space['criterion'] = ['gini', 'entropy']\n",
    "dt_more_space['max_depth'] = list(range(1, 101))\n",
    "dt_more_space['splitter'] = ['best', 'random']\n",
    "dt_more_space['class_weight'] = [None, 'balanced']\n",
    "dt_more_space['max_features'] = [None, 'auto', 'sqrt', 'log2']"
   ]
  },
  {
   "cell_type": "code",
   "execution_count": 48,
   "id": "66f6fa8a",
   "metadata": {},
   "outputs": [],
   "source": [
    "dt_more_search = RandomizedSearchCV(dt_more_model, dt_more_space, \n",
    "                                    n_iter=500, scoring='f1', n_jobs=-1, cv=dt_more_cv, random_state=1)"
   ]
  },
  {
   "cell_type": "code",
   "execution_count": 49,
   "id": "89107066",
   "metadata": {},
   "outputs": [
    {
     "name": "stderr",
     "output_type": "stream",
     "text": [
      "C:\\ProgramData\\Anaconda3\\lib\\site-packages\\sklearn\\model_selection\\_validation.py:378: FitFailedWarning: \n",
      "270 fits failed out of a total of 15000.\n",
      "The score on these train-test partitions for these parameters will be set to nan.\n",
      "If these failures are not expected, you can try to debug them by setting error_score='raise'.\n",
      "\n",
      "Below are more details about the failures:\n",
      "--------------------------------------------------------------------------------\n",
      "270 fits failed with the following error:\n",
      "Traceback (most recent call last):\n",
      "  File \"C:\\ProgramData\\Anaconda3\\lib\\site-packages\\sklearn\\model_selection\\_validation.py\", line 686, in _fit_and_score\n",
      "    estimator.fit(X_train, y_train, **fit_params)\n",
      "  File \"C:\\ProgramData\\Anaconda3\\lib\\site-packages\\sklearn\\tree\\_classes.py\", line 889, in fit\n",
      "    super().fit(\n",
      "  File \"C:\\ProgramData\\Anaconda3\\lib\\site-packages\\sklearn\\tree\\_classes.py\", line 177, in fit\n",
      "    self._validate_params()\n",
      "  File \"C:\\ProgramData\\Anaconda3\\lib\\site-packages\\sklearn\\base.py\", line 581, in _validate_params\n",
      "    validate_parameter_constraints(\n",
      "  File \"C:\\ProgramData\\Anaconda3\\lib\\site-packages\\sklearn\\utils\\_param_validation.py\", line 97, in validate_parameter_constraints\n",
      "    raise InvalidParameterError(\n",
      "sklearn.utils._param_validation.InvalidParameterError: The 'max_depth' parameter of DecisionTreeClassifier must be an int in the range [1, inf) or None. Got 0 instead.\n",
      "\n",
      "  warnings.warn(some_fits_failed_message, FitFailedWarning)\n",
      "C:\\ProgramData\\Anaconda3\\lib\\site-packages\\sklearn\\model_selection\\_search.py:952: UserWarning: One or more of the test scores are non-finite: [0.70220426 0.53087609 0.79369325 0.78067642 0.69442489 0.78030065\n",
      " 0.77459031 0.65296547 0.74877483 0.50460695 0.64289091 0.76629351\n",
      " 0.69442489 0.64289091 0.69120055 0.70878059 0.70878059 0.69966863\n",
      " 0.7583023  0.70220426 0.74877483 0.7619306  0.7619306  0.63857747\n",
      " 0.70220426 0.69366432 0.65428825 0.73827591 0.75438672 0.70640271\n",
      " 0.64555663 0.75569006 0.         0.69966863 0.77172998 0.79037915\n",
      " 0.71070239 0.76000205 0.75270759        nan 0.76495714 0.70398342\n",
      " 0.74919175 0.74333232 0.64347679 0.77172998 0.76354106 0.76000205\n",
      " 0.69861507 0.69366432 0.69379007 0.76629351 0.69366432 0.76629351\n",
      " 0.64289091 0.78733032 0.70230958 0.75105017 0.65296547 0.74333232\n",
      " 0.70348293 0.69966863 0.75757507 0.78975    0.7857601  0.78086692\n",
      " 0.79037915 0.70220426 0.64347679 0.76000205 0.69966863 0.70239104\n",
      " 0.4813454  0.70220426 0.75270759 0.70220426 0.75270759 0.77922651\n",
      " 0.69483163 0.70220426 0.71893724 0.7619306  0.74333232 0.75270759\n",
      " 0.76000205 0.79202738 0.65296547 0.68098597 0.6947328  0.69989857\n",
      " 0.74333232 0.71070239 0.70128134 0.7619306  0.771766   0.64279234\n",
      " 0.75270759 0.76000205 0.75757507 0.65332718 0.77462993 0.76629351\n",
      " 0.70406369 0.77172998 0.64289091 0.75569006 0.75350347 0.62864794\n",
      " 0.75270759 0.76109155 0.70230958 0.69128894 0.79037915 0.78349184\n",
      " 0.54945613 0.70878059 0.64032343 0.74877483 0.76629351 0.60742596\n",
      " 0.69366432 0.5659086         nan 0.69442489 0.7619306  0.78733032\n",
      " 0.69366432 0.70230958 0.69274151 0.7619306  0.69966863 0.69427555\n",
      " 0.69416226 0.75270759 0.74333232 0.77172998 0.7619306  0.70442489\n",
      " 0.58914711 0.69366432 0.79037915 0.69966863 0.58382249 0.70230958\n",
      " 0.79037915 0.65982486 0.70302132 0.77459031 0.70451323 0.72318204\n",
      " 0.69366432 0.69442489 0.69966863        nan 0.71070239 0.69442489\n",
      " 0.69366432 0.75623992 0.70422827 0.74333232 0.74333232 0.69211924\n",
      " 0.77459031 0.74885228 0.7121553  0.78733032 0.7517475  0.70220426\n",
      " 0.74877483 0.71070239 0.64289091 0.69442489 0.70593337 0.65698005\n",
      " 0.65296547 0.7791731  0.69344802 0.75025554 0.69966863 0.77281423\n",
      " 0.70640271 0.75610852 0.69966863 0.58382249 0.69966863 0.75569006\n",
      " 0.79062215 0.64289091 0.64347679 0.69442489 0.69966863 0.75755424\n",
      " 0.76629351 0.76000205 0.76000205 0.77465825 0.64393785 0.69622696\n",
      " 0.70349111 0.75270759 0.65332718 0.76000205 0.76629351 0.78733032\n",
      " 0.76000205 0.73727052 0.69483163 0.70220426 0.77172998 0.7619306\n",
      " 0.79037915 0.78733032 0.77459031 0.70220426 0.70878059 0.76555623\n",
      "        nan 0.7432749  0.70878059 0.64347679 0.75270759 0.74877483\n",
      " 0.69442489 0.64347679 0.75270759 0.70230958 0.75576796 0.64347679\n",
      " 0.69366432 0.75270759 0.70374547 0.65296547 0.69989857 0.79037915\n",
      " 0.65698005 0.74333232 0.75569006 0.64898656 0.70640271 0.70347302\n",
      " 0.64289091 0.76000205 0.69033222 0.75948632 0.70230958 0.79037915\n",
      " 0.63516255 0.78733032 0.76000205 0.64347679 0.69966863 0.64289091\n",
      " 0.70049384 0.70230958 0.74369591 0.69442489 0.75270759 0.79037915\n",
      " 0.74312027 0.74333232 0.75270759 0.78733032 0.69966863 0.77574729\n",
      " 0.76629351 0.76000205 0.69442489 0.69442489        nan 0.77172998\n",
      " 0.75569006 0.74333232 0.74333232 0.70878059 0.76569979 0.71070239\n",
      " 0.74874871 0.77172998 0.69930539 0.75262782 0.78733032 0.75569006\n",
      " 0.70230958 0.64330567 0.69442489 0.69492842 0.57314717 0.70230958\n",
      "        nan 0.64347679 0.70169274 0.74877483 0.69366432 0.69442489\n",
      " 0.74860194 0.71070239 0.74298343 0.7561826  0.70623576 0.71872715\n",
      " 0.77459031 0.64687832 0.78646691 0.74333232 0.75569006 0.54746283\n",
      " 0.75357969 0.76976188 0.69966863 0.76629351 0.74877483 0.78085901\n",
      " 0.77922232 0.7512642  0.70639671 0.65332718 0.75270759 0.76000205\n",
      " 0.76000205 0.65332718 0.70878059 0.65410304 0.70220426 0.74135664\n",
      " 0.74959832 0.71070239 0.74878497 0.70220426 0.70220426 0.74877483\n",
      " 0.78733032 0.64347679 0.70220426 0.69966863 0.70878059 0.76629351\n",
      " 0.69966863 0.65332718 0.76629351 0.70402463 0.69966863 0.79037915\n",
      " 0.77677191 0.70230958 0.69442489 0.69442489 0.76567129 0.78733032\n",
      " 0.7784269  0.69366432        nan 0.75270759 0.70640271 0.76000205\n",
      " 0.74877483 0.79037915 0.70282285 0.76432263 0.71015954 0.74333232\n",
      " 0.53452068 0.75270759 0.70220426 0.65296547 0.73531785 0.75743117\n",
      " 0.74333232 0.76766638 0.69366432 0.02888482 0.69442489 0.62864794\n",
      " 0.64564682 0.70640271 0.74360715 0.68924278 0.7778845  0.65332718\n",
      " 0.75270759 0.69442489 0.74877483 0.69966863 0.79637365 0.48350916\n",
      " 0.79037915 0.71070239 0.7619306  0.76005278 0.76000205 0.70220426\n",
      " 0.69366432 0.75270759 0.75989334 0.76000205 0.69966863 0.65570751\n",
      " 0.6398277  0.75270759 0.75270759 0.77172998 0.74915301 0.74333232\n",
      " 0.74915301 0.60660105 0.70220426 0.75270759 0.77916763 0.70640271\n",
      " 0.76000205 0.75577989 0.75270759 0.79041718 0.79037915 0.77921893\n",
      " 0.77241449 0.69442489 0.64289091 0.75358097 0.69512214 0.76000205\n",
      " 0.76199464 0.76629351 0.76971961 0.64347679 0.75270759 0.69366432\n",
      " 0.70220426 0.70016367 0.65384924 0.69427555 0.76629351 0.78733032\n",
      " 0.75569006 0.64032343 0.75569006 0.76629351 0.69966863 0.69499473\n",
      " 0.52485518 0.65332718 0.76986336 0.74752141 0.75584718 0.75079091\n",
      " 0.74877483 0.76000205 0.76629351 0.69966863        nan 0.6895024\n",
      " 0.70230958 0.7164668  0.70640271 0.72017793 0.70640271 0.70695982\n",
      " 0.74366928 0.76314801 0.75270759 0.77068297 0.66015472 0.69366432\n",
      " 0.74856768 0.76000205 0.69966863 0.76693222 0.69442489 0.73210184\n",
      " 0.69301987 0.74297728        nan 0.51562733 0.69966863 0.64289091\n",
      " 0.75542877 0.70230958 0.69442489 0.70220426 0.77709608 0.76000205\n",
      " 0.75270759 0.79037915 0.65595929 0.70191917 0.70220426 0.75270759\n",
      " 0.69366432 0.74333232 0.70220426 0.70230958 0.76000205 0.79037915\n",
      " 0.76388713 0.76629351 0.65296547 0.69366432 0.74333232 0.6532676\n",
      " 0.70220426 0.70878059]\n",
      "  warnings.warn(\n"
     ]
    }
   ],
   "source": [
    "# execute search\n",
    "dt_more_result = dt_more_search.fit(features, labels)"
   ]
  },
  {
   "cell_type": "code",
   "execution_count": 50,
   "id": "9e6a3723",
   "metadata": {},
   "outputs": [
    {
     "name": "stdout",
     "output_type": "stream",
     "text": [
      "Best Score: 0.796373652263697\n",
      "Best Hyperparameters: {'splitter': 'best', 'random_state': 1, 'max_features': None, 'max_depth': 10, 'criterion': 'gini', 'class_weight': 'balanced'}\n"
     ]
    }
   ],
   "source": [
    "# summarize result\n",
    "print('Best Score: %s' % dt_more_result.best_score_)\n",
    "print('Best Hyperparameters: %s' % dt_more_result.best_params_)"
   ]
  },
  {
   "cell_type": "code",
   "execution_count": 51,
   "id": "ac93f235",
   "metadata": {},
   "outputs": [],
   "source": [
    "train_features, test_features, train_labels, test_labels = train_test_split(features, labels)"
   ]
  },
  {
   "cell_type": "code",
   "execution_count": 52,
   "id": "8c18b241",
   "metadata": {},
   "outputs": [],
   "source": [
    "best_dt_more_clf = DecisionTreeClassifier(criterion='gini', splitter='best', random_state=1,\n",
    "                                     max_features=None, max_depth=10, class_weight='balanced')"
   ]
  },
  {
   "cell_type": "code",
   "execution_count": 53,
   "id": "2a1825cf",
   "metadata": {},
   "outputs": [
    {
     "data": {
      "text/html": [
       "<style>#sk-container-id-3 {color: black;background-color: white;}#sk-container-id-3 pre{padding: 0;}#sk-container-id-3 div.sk-toggleable {background-color: white;}#sk-container-id-3 label.sk-toggleable__label {cursor: pointer;display: block;width: 100%;margin-bottom: 0;padding: 0.3em;box-sizing: border-box;text-align: center;}#sk-container-id-3 label.sk-toggleable__label-arrow:before {content: \"▸\";float: left;margin-right: 0.25em;color: #696969;}#sk-container-id-3 label.sk-toggleable__label-arrow:hover:before {color: black;}#sk-container-id-3 div.sk-estimator:hover label.sk-toggleable__label-arrow:before {color: black;}#sk-container-id-3 div.sk-toggleable__content {max-height: 0;max-width: 0;overflow: hidden;text-align: left;background-color: #f0f8ff;}#sk-container-id-3 div.sk-toggleable__content pre {margin: 0.2em;color: black;border-radius: 0.25em;background-color: #f0f8ff;}#sk-container-id-3 input.sk-toggleable__control:checked~div.sk-toggleable__content {max-height: 200px;max-width: 100%;overflow: auto;}#sk-container-id-3 input.sk-toggleable__control:checked~label.sk-toggleable__label-arrow:before {content: \"▾\";}#sk-container-id-3 div.sk-estimator input.sk-toggleable__control:checked~label.sk-toggleable__label {background-color: #d4ebff;}#sk-container-id-3 div.sk-label input.sk-toggleable__control:checked~label.sk-toggleable__label {background-color: #d4ebff;}#sk-container-id-3 input.sk-hidden--visually {border: 0;clip: rect(1px 1px 1px 1px);clip: rect(1px, 1px, 1px, 1px);height: 1px;margin: -1px;overflow: hidden;padding: 0;position: absolute;width: 1px;}#sk-container-id-3 div.sk-estimator {font-family: monospace;background-color: #f0f8ff;border: 1px dotted black;border-radius: 0.25em;box-sizing: border-box;margin-bottom: 0.5em;}#sk-container-id-3 div.sk-estimator:hover {background-color: #d4ebff;}#sk-container-id-3 div.sk-parallel-item::after {content: \"\";width: 100%;border-bottom: 1px solid gray;flex-grow: 1;}#sk-container-id-3 div.sk-label:hover label.sk-toggleable__label {background-color: #d4ebff;}#sk-container-id-3 div.sk-serial::before {content: \"\";position: absolute;border-left: 1px solid gray;box-sizing: border-box;top: 0;bottom: 0;left: 50%;z-index: 0;}#sk-container-id-3 div.sk-serial {display: flex;flex-direction: column;align-items: center;background-color: white;padding-right: 0.2em;padding-left: 0.2em;position: relative;}#sk-container-id-3 div.sk-item {position: relative;z-index: 1;}#sk-container-id-3 div.sk-parallel {display: flex;align-items: stretch;justify-content: center;background-color: white;position: relative;}#sk-container-id-3 div.sk-item::before, #sk-container-id-3 div.sk-parallel-item::before {content: \"\";position: absolute;border-left: 1px solid gray;box-sizing: border-box;top: 0;bottom: 0;left: 50%;z-index: -1;}#sk-container-id-3 div.sk-parallel-item {display: flex;flex-direction: column;z-index: 1;position: relative;background-color: white;}#sk-container-id-3 div.sk-parallel-item:first-child::after {align-self: flex-end;width: 50%;}#sk-container-id-3 div.sk-parallel-item:last-child::after {align-self: flex-start;width: 50%;}#sk-container-id-3 div.sk-parallel-item:only-child::after {width: 0;}#sk-container-id-3 div.sk-dashed-wrapped {border: 1px dashed gray;margin: 0 0.4em 0.5em 0.4em;box-sizing: border-box;padding-bottom: 0.4em;background-color: white;}#sk-container-id-3 div.sk-label label {font-family: monospace;font-weight: bold;display: inline-block;line-height: 1.2em;}#sk-container-id-3 div.sk-label-container {text-align: center;}#sk-container-id-3 div.sk-container {/* jupyter's `normalize.less` sets `[hidden] { display: none; }` but bootstrap.min.css set `[hidden] { display: none !important; }` so we also need the `!important` here to be able to override the default hidden behavior on the sphinx rendered scikit-learn.org. See: https://github.com/scikit-learn/scikit-learn/issues/21755 */display: inline-block !important;position: relative;}#sk-container-id-3 div.sk-text-repr-fallback {display: none;}</style><div id=\"sk-container-id-3\" class=\"sk-top-container\"><div class=\"sk-text-repr-fallback\"><pre>DecisionTreeClassifier(class_weight=&#x27;balanced&#x27;, max_depth=10, random_state=1)</pre><b>In a Jupyter environment, please rerun this cell to show the HTML representation or trust the notebook. <br />On GitHub, the HTML representation is unable to render, please try loading this page with nbviewer.org.</b></div><div class=\"sk-container\" hidden><div class=\"sk-item\"><div class=\"sk-estimator sk-toggleable\"><input class=\"sk-toggleable__control sk-hidden--visually\" id=\"sk-estimator-id-3\" type=\"checkbox\" checked><label for=\"sk-estimator-id-3\" class=\"sk-toggleable__label sk-toggleable__label-arrow\">DecisionTreeClassifier</label><div class=\"sk-toggleable__content\"><pre>DecisionTreeClassifier(class_weight=&#x27;balanced&#x27;, max_depth=10, random_state=1)</pre></div></div></div></div></div>"
      ],
      "text/plain": [
       "DecisionTreeClassifier(class_weight='balanced', max_depth=10, random_state=1)"
      ]
     },
     "execution_count": 53,
     "metadata": {},
     "output_type": "execute_result"
    }
   ],
   "source": [
    "best_dt_more_clf.fit(train_features, train_labels)"
   ]
  },
  {
   "cell_type": "code",
   "execution_count": 54,
   "id": "aa5c475e",
   "metadata": {},
   "outputs": [],
   "source": [
    "predictions = best_dt_more_clf.predict(test_features)\n",
    "probs = best_dt_more_clf.predict_proba(test_features)[:, 1]"
   ]
  },
  {
   "cell_type": "code",
   "execution_count": 55,
   "id": "8e39dd3f",
   "metadata": {},
   "outputs": [],
   "source": [
    "result_table = [[\"F1\", \"Accuracy\", \"AUC\"]]"
   ]
  },
  {
   "cell_type": "code",
   "execution_count": 56,
   "id": "6ea0854d",
   "metadata": {},
   "outputs": [],
   "source": [
    "result_table.append([\n",
    "    round(f1_score(test_labels, predictions), 3),\n",
    "    round(accuracy_score(test_labels, predictions), 3),\n",
    "    round(roc_auc_score(test_labels, probs), 3),\n",
    "])"
   ]
  },
  {
   "cell_type": "code",
   "execution_count": 57,
   "id": "42c94c6d",
   "metadata": {},
   "outputs": [
    {
     "data": {
      "text/plain": [
       "[['F1', 'Accuracy', 'AUC'], [0.786, 0.852, 0.823]]"
      ]
     },
     "execution_count": 57,
     "metadata": {},
     "output_type": "execute_result"
    }
   ],
   "source": [
    "result_table"
   ]
  },
  {
   "cell_type": "code",
   "execution_count": 58,
   "id": "989ac9d2",
   "metadata": {
    "scrolled": true
   },
   "outputs": [
    {
     "name": "stdout",
     "output_type": "stream",
     "text": [
      "+-------+------------+-------+\n",
      "|    F1 |   Accuracy |   AUC |\n",
      "+=======+============+=======+\n",
      "| 0.786 |      0.852 | 0.823 |\n",
      "+-------+------------+-------+\n"
     ]
    }
   ],
   "source": [
    "from tabulate import tabulate\n",
    "print(tabulate(result_table, headers=\"firstrow\", tablefmt=\"grid\"))"
   ]
  },
  {
   "cell_type": "code",
   "execution_count": null,
   "id": "25c49bc2",
   "metadata": {},
   "outputs": [],
   "source": []
  },
  {
   "cell_type": "code",
   "execution_count": null,
   "id": "7464e8e7",
   "metadata": {},
   "outputs": [],
   "source": []
  },
  {
   "cell_type": "code",
   "execution_count": null,
   "id": "c10a6905",
   "metadata": {},
   "outputs": [],
   "source": []
  },
  {
   "cell_type": "code",
   "execution_count": null,
   "id": "060549dd",
   "metadata": {},
   "outputs": [],
   "source": []
  },
  {
   "cell_type": "markdown",
   "id": "b388bc2e",
   "metadata": {},
   "source": [
    "# RF"
   ]
  },
  {
   "cell_type": "code",
   "execution_count": 11,
   "id": "21a2409d",
   "metadata": {},
   "outputs": [],
   "source": [
    "from sklearn.ensemble import RandomForestClassifier\n",
    "rf_model = RandomForestClassifier(n_jobs=25)"
   ]
  },
  {
   "cell_type": "code",
   "execution_count": 10,
   "id": "b1278083",
   "metadata": {},
   "outputs": [],
   "source": [
    "rf_cv = RepeatedStratifiedKFold(n_splits=10, n_repeats=3, random_state=42)"
   ]
  },
  {
   "cell_type": "code",
   "execution_count": 19,
   "id": "84467e86",
   "metadata": {},
   "outputs": [],
   "source": [
    "rf_space = dict()\n",
    "rf_space['random_state'] = [1]\n",
    "rf_space['criterion'] = ['gini', 'entropy']\n",
    "rf_space['max_depth'] = list(range(1, 101, 10))\n",
    "rf_space['n_estimators'] = list(range(1, 100, 10))\n",
    "rf_space['class_weight'] = [None, 'balanced', 'balanced_subsample']\n",
    "rf_space['max_features'] = [None, 'auto', 'sqrt', 'log2']\n",
    "\n",
    "rf_search = RandomizedSearchCV(rf_model, rf_space, \n",
    "                                    n_iter=10, scoring='f1', cv=rf_cv, random_state=1)"
   ]
  },
  {
   "cell_type": "code",
   "execution_count": 20,
   "id": "e75a29f3",
   "metadata": {},
   "outputs": [],
   "source": [
    "from datetime import datetime"
   ]
  },
  {
   "cell_type": "code",
   "execution_count": 21,
   "id": "8eca88c5",
   "metadata": {},
   "outputs": [
    {
     "name": "stderr",
     "output_type": "stream",
     "text": [
      "C:\\ProgramData\\Anaconda3\\lib\\site-packages\\sklearn\\ensemble\\_forest.py:424: FutureWarning: `max_features='auto'` has been deprecated in 1.1 and will be removed in 1.3. To keep the past behaviour, explicitly set `max_features='sqrt'` or remove this parameter as it is also the default value for RandomForestClassifiers and ExtraTreesClassifiers.\n",
      "  warn(\n",
      "C:\\ProgramData\\Anaconda3\\lib\\site-packages\\sklearn\\ensemble\\_forest.py:424: FutureWarning: `max_features='auto'` has been deprecated in 1.1 and will be removed in 1.3. To keep the past behaviour, explicitly set `max_features='sqrt'` or remove this parameter as it is also the default value for RandomForestClassifiers and ExtraTreesClassifiers.\n",
      "  warn(\n",
      "C:\\ProgramData\\Anaconda3\\lib\\site-packages\\sklearn\\ensemble\\_forest.py:424: FutureWarning: `max_features='auto'` has been deprecated in 1.1 and will be removed in 1.3. To keep the past behaviour, explicitly set `max_features='sqrt'` or remove this parameter as it is also the default value for RandomForestClassifiers and ExtraTreesClassifiers.\n",
      "  warn(\n",
      "C:\\ProgramData\\Anaconda3\\lib\\site-packages\\sklearn\\ensemble\\_forest.py:424: FutureWarning: `max_features='auto'` has been deprecated in 1.1 and will be removed in 1.3. To keep the past behaviour, explicitly set `max_features='sqrt'` or remove this parameter as it is also the default value for RandomForestClassifiers and ExtraTreesClassifiers.\n",
      "  warn(\n",
      "C:\\ProgramData\\Anaconda3\\lib\\site-packages\\sklearn\\ensemble\\_forest.py:424: FutureWarning: `max_features='auto'` has been deprecated in 1.1 and will be removed in 1.3. To keep the past behaviour, explicitly set `max_features='sqrt'` or remove this parameter as it is also the default value for RandomForestClassifiers and ExtraTreesClassifiers.\n",
      "  warn(\n",
      "C:\\ProgramData\\Anaconda3\\lib\\site-packages\\sklearn\\ensemble\\_forest.py:424: FutureWarning: `max_features='auto'` has been deprecated in 1.1 and will be removed in 1.3. To keep the past behaviour, explicitly set `max_features='sqrt'` or remove this parameter as it is also the default value for RandomForestClassifiers and ExtraTreesClassifiers.\n",
      "  warn(\n",
      "C:\\ProgramData\\Anaconda3\\lib\\site-packages\\sklearn\\ensemble\\_forest.py:424: FutureWarning: `max_features='auto'` has been deprecated in 1.1 and will be removed in 1.3. To keep the past behaviour, explicitly set `max_features='sqrt'` or remove this parameter as it is also the default value for RandomForestClassifiers and ExtraTreesClassifiers.\n",
      "  warn(\n",
      "C:\\ProgramData\\Anaconda3\\lib\\site-packages\\sklearn\\ensemble\\_forest.py:424: FutureWarning: `max_features='auto'` has been deprecated in 1.1 and will be removed in 1.3. To keep the past behaviour, explicitly set `max_features='sqrt'` or remove this parameter as it is also the default value for RandomForestClassifiers and ExtraTreesClassifiers.\n",
      "  warn(\n",
      "C:\\ProgramData\\Anaconda3\\lib\\site-packages\\sklearn\\ensemble\\_forest.py:424: FutureWarning: `max_features='auto'` has been deprecated in 1.1 and will be removed in 1.3. To keep the past behaviour, explicitly set `max_features='sqrt'` or remove this parameter as it is also the default value for RandomForestClassifiers and ExtraTreesClassifiers.\n",
      "  warn(\n",
      "C:\\ProgramData\\Anaconda3\\lib\\site-packages\\sklearn\\ensemble\\_forest.py:424: FutureWarning: `max_features='auto'` has been deprecated in 1.1 and will be removed in 1.3. To keep the past behaviour, explicitly set `max_features='sqrt'` or remove this parameter as it is also the default value for RandomForestClassifiers and ExtraTreesClassifiers.\n",
      "  warn(\n",
      "C:\\ProgramData\\Anaconda3\\lib\\site-packages\\sklearn\\ensemble\\_forest.py:424: FutureWarning: `max_features='auto'` has been deprecated in 1.1 and will be removed in 1.3. To keep the past behaviour, explicitly set `max_features='sqrt'` or remove this parameter as it is also the default value for RandomForestClassifiers and ExtraTreesClassifiers.\n",
      "  warn(\n",
      "C:\\ProgramData\\Anaconda3\\lib\\site-packages\\sklearn\\ensemble\\_forest.py:424: FutureWarning: `max_features='auto'` has been deprecated in 1.1 and will be removed in 1.3. To keep the past behaviour, explicitly set `max_features='sqrt'` or remove this parameter as it is also the default value for RandomForestClassifiers and ExtraTreesClassifiers.\n",
      "  warn(\n",
      "C:\\ProgramData\\Anaconda3\\lib\\site-packages\\sklearn\\ensemble\\_forest.py:424: FutureWarning: `max_features='auto'` has been deprecated in 1.1 and will be removed in 1.3. To keep the past behaviour, explicitly set `max_features='sqrt'` or remove this parameter as it is also the default value for RandomForestClassifiers and ExtraTreesClassifiers.\n",
      "  warn(\n",
      "C:\\ProgramData\\Anaconda3\\lib\\site-packages\\sklearn\\ensemble\\_forest.py:424: FutureWarning: `max_features='auto'` has been deprecated in 1.1 and will be removed in 1.3. To keep the past behaviour, explicitly set `max_features='sqrt'` or remove this parameter as it is also the default value for RandomForestClassifiers and ExtraTreesClassifiers.\n",
      "  warn(\n",
      "C:\\ProgramData\\Anaconda3\\lib\\site-packages\\sklearn\\ensemble\\_forest.py:424: FutureWarning: `max_features='auto'` has been deprecated in 1.1 and will be removed in 1.3. To keep the past behaviour, explicitly set `max_features='sqrt'` or remove this parameter as it is also the default value for RandomForestClassifiers and ExtraTreesClassifiers.\n",
      "  warn(\n",
      "C:\\ProgramData\\Anaconda3\\lib\\site-packages\\sklearn\\ensemble\\_forest.py:424: FutureWarning: `max_features='auto'` has been deprecated in 1.1 and will be removed in 1.3. To keep the past behaviour, explicitly set `max_features='sqrt'` or remove this parameter as it is also the default value for RandomForestClassifiers and ExtraTreesClassifiers.\n",
      "  warn(\n",
      "C:\\ProgramData\\Anaconda3\\lib\\site-packages\\sklearn\\ensemble\\_forest.py:424: FutureWarning: `max_features='auto'` has been deprecated in 1.1 and will be removed in 1.3. To keep the past behaviour, explicitly set `max_features='sqrt'` or remove this parameter as it is also the default value for RandomForestClassifiers and ExtraTreesClassifiers.\n",
      "  warn(\n",
      "C:\\ProgramData\\Anaconda3\\lib\\site-packages\\sklearn\\ensemble\\_forest.py:424: FutureWarning: `max_features='auto'` has been deprecated in 1.1 and will be removed in 1.3. To keep the past behaviour, explicitly set `max_features='sqrt'` or remove this parameter as it is also the default value for RandomForestClassifiers and ExtraTreesClassifiers.\n",
      "  warn(\n",
      "C:\\ProgramData\\Anaconda3\\lib\\site-packages\\sklearn\\ensemble\\_forest.py:424: FutureWarning: `max_features='auto'` has been deprecated in 1.1 and will be removed in 1.3. To keep the past behaviour, explicitly set `max_features='sqrt'` or remove this parameter as it is also the default value for RandomForestClassifiers and ExtraTreesClassifiers.\n",
      "  warn(\n",
      "C:\\ProgramData\\Anaconda3\\lib\\site-packages\\sklearn\\ensemble\\_forest.py:424: FutureWarning: `max_features='auto'` has been deprecated in 1.1 and will be removed in 1.3. To keep the past behaviour, explicitly set `max_features='sqrt'` or remove this parameter as it is also the default value for RandomForestClassifiers and ExtraTreesClassifiers.\n",
      "  warn(\n",
      "C:\\ProgramData\\Anaconda3\\lib\\site-packages\\sklearn\\ensemble\\_forest.py:424: FutureWarning: `max_features='auto'` has been deprecated in 1.1 and will be removed in 1.3. To keep the past behaviour, explicitly set `max_features='sqrt'` or remove this parameter as it is also the default value for RandomForestClassifiers and ExtraTreesClassifiers.\n",
      "  warn(\n",
      "C:\\ProgramData\\Anaconda3\\lib\\site-packages\\sklearn\\ensemble\\_forest.py:424: FutureWarning: `max_features='auto'` has been deprecated in 1.1 and will be removed in 1.3. To keep the past behaviour, explicitly set `max_features='sqrt'` or remove this parameter as it is also the default value for RandomForestClassifiers and ExtraTreesClassifiers.\n",
      "  warn(\n",
      "C:\\ProgramData\\Anaconda3\\lib\\site-packages\\sklearn\\ensemble\\_forest.py:424: FutureWarning: `max_features='auto'` has been deprecated in 1.1 and will be removed in 1.3. To keep the past behaviour, explicitly set `max_features='sqrt'` or remove this parameter as it is also the default value for RandomForestClassifiers and ExtraTreesClassifiers.\n",
      "  warn(\n",
      "C:\\ProgramData\\Anaconda3\\lib\\site-packages\\sklearn\\ensemble\\_forest.py:424: FutureWarning: `max_features='auto'` has been deprecated in 1.1 and will be removed in 1.3. To keep the past behaviour, explicitly set `max_features='sqrt'` or remove this parameter as it is also the default value for RandomForestClassifiers and ExtraTreesClassifiers.\n",
      "  warn(\n"
     ]
    },
    {
     "name": "stderr",
     "output_type": "stream",
     "text": [
      "C:\\ProgramData\\Anaconda3\\lib\\site-packages\\sklearn\\ensemble\\_forest.py:424: FutureWarning: `max_features='auto'` has been deprecated in 1.1 and will be removed in 1.3. To keep the past behaviour, explicitly set `max_features='sqrt'` or remove this parameter as it is also the default value for RandomForestClassifiers and ExtraTreesClassifiers.\n",
      "  warn(\n",
      "C:\\ProgramData\\Anaconda3\\lib\\site-packages\\sklearn\\ensemble\\_forest.py:424: FutureWarning: `max_features='auto'` has been deprecated in 1.1 and will be removed in 1.3. To keep the past behaviour, explicitly set `max_features='sqrt'` or remove this parameter as it is also the default value for RandomForestClassifiers and ExtraTreesClassifiers.\n",
      "  warn(\n",
      "C:\\ProgramData\\Anaconda3\\lib\\site-packages\\sklearn\\ensemble\\_forest.py:424: FutureWarning: `max_features='auto'` has been deprecated in 1.1 and will be removed in 1.3. To keep the past behaviour, explicitly set `max_features='sqrt'` or remove this parameter as it is also the default value for RandomForestClassifiers and ExtraTreesClassifiers.\n",
      "  warn(\n",
      "C:\\ProgramData\\Anaconda3\\lib\\site-packages\\sklearn\\ensemble\\_forest.py:424: FutureWarning: `max_features='auto'` has been deprecated in 1.1 and will be removed in 1.3. To keep the past behaviour, explicitly set `max_features='sqrt'` or remove this parameter as it is also the default value for RandomForestClassifiers and ExtraTreesClassifiers.\n",
      "  warn(\n",
      "C:\\ProgramData\\Anaconda3\\lib\\site-packages\\sklearn\\ensemble\\_forest.py:424: FutureWarning: `max_features='auto'` has been deprecated in 1.1 and will be removed in 1.3. To keep the past behaviour, explicitly set `max_features='sqrt'` or remove this parameter as it is also the default value for RandomForestClassifiers and ExtraTreesClassifiers.\n",
      "  warn(\n",
      "C:\\ProgramData\\Anaconda3\\lib\\site-packages\\sklearn\\ensemble\\_forest.py:424: FutureWarning: `max_features='auto'` has been deprecated in 1.1 and will be removed in 1.3. To keep the past behaviour, explicitly set `max_features='sqrt'` or remove this parameter as it is also the default value for RandomForestClassifiers and ExtraTreesClassifiers.\n",
      "  warn(\n"
     ]
    },
    {
     "name": "stdout",
     "output_type": "stream",
     "text": [
      "2:48:44.272427\n"
     ]
    }
   ],
   "source": [
    "start = datetime.now()\n",
    "rf_result = rf_search.fit(features, labels)\n",
    "end = datetime.now()\n",
    "print(end - start)"
   ]
  },
  {
   "cell_type": "code",
   "execution_count": 23,
   "id": "9ee10b1b",
   "metadata": {},
   "outputs": [
    {
     "data": {
      "text/plain": [
       "(datetime.datetime(2023, 10, 9, 13, 19, 3, 260869),\n",
       " datetime.datetime(2023, 10, 9, 10, 30, 18, 988442))"
      ]
     },
     "execution_count": 23,
     "metadata": {},
     "output_type": "execute_result"
    }
   ],
   "source": [
    "end, start"
   ]
  },
  {
   "cell_type": "code",
   "execution_count": 24,
   "id": "c2d2a49a",
   "metadata": {},
   "outputs": [
    {
     "name": "stdout",
     "output_type": "stream",
     "text": [
      "Best Score: 0.9085199276170173\n",
      "Best Hyperparameters: {'random_state': 1, 'n_estimators': 81, 'max_features': 'log2', 'max_depth': 11, 'criterion': 'entropy', 'class_weight': 'balanced'}\n"
     ]
    }
   ],
   "source": [
    "# summarize result\n",
    "print('Best Score: %s' % rf_result.best_score_)\n",
    "print('Best Hyperparameters: %s' % rf_result.best_params_)"
   ]
  },
  {
   "cell_type": "code",
   "execution_count": 9,
   "id": "c29060e8",
   "metadata": {},
   "outputs": [],
   "source": [
    "train_features, test_features, train_labels, test_labels = train_test_split(features, labels)"
   ]
  },
  {
   "cell_type": "code",
   "execution_count": null,
   "id": "f4fe1277",
   "metadata": {},
   "outputs": [],
   "source": []
  },
  {
   "cell_type": "code",
   "execution_count": 12,
   "id": "3920b826",
   "metadata": {},
   "outputs": [],
   "source": [
    "rf_clf = RandomForestClassifier(criterion='entropy', random_state=1,\n",
    "                                n_estimators=81, max_features='log2', max_depth=11, class_weight='balanced')"
   ]
  },
  {
   "cell_type": "code",
   "execution_count": 13,
   "id": "8825de7b",
   "metadata": {},
   "outputs": [
    {
     "data": {
      "text/html": [
       "<style>#sk-container-id-1 {color: black;background-color: white;}#sk-container-id-1 pre{padding: 0;}#sk-container-id-1 div.sk-toggleable {background-color: white;}#sk-container-id-1 label.sk-toggleable__label {cursor: pointer;display: block;width: 100%;margin-bottom: 0;padding: 0.3em;box-sizing: border-box;text-align: center;}#sk-container-id-1 label.sk-toggleable__label-arrow:before {content: \"▸\";float: left;margin-right: 0.25em;color: #696969;}#sk-container-id-1 label.sk-toggleable__label-arrow:hover:before {color: black;}#sk-container-id-1 div.sk-estimator:hover label.sk-toggleable__label-arrow:before {color: black;}#sk-container-id-1 div.sk-toggleable__content {max-height: 0;max-width: 0;overflow: hidden;text-align: left;background-color: #f0f8ff;}#sk-container-id-1 div.sk-toggleable__content pre {margin: 0.2em;color: black;border-radius: 0.25em;background-color: #f0f8ff;}#sk-container-id-1 input.sk-toggleable__control:checked~div.sk-toggleable__content {max-height: 200px;max-width: 100%;overflow: auto;}#sk-container-id-1 input.sk-toggleable__control:checked~label.sk-toggleable__label-arrow:before {content: \"▾\";}#sk-container-id-1 div.sk-estimator input.sk-toggleable__control:checked~label.sk-toggleable__label {background-color: #d4ebff;}#sk-container-id-1 div.sk-label input.sk-toggleable__control:checked~label.sk-toggleable__label {background-color: #d4ebff;}#sk-container-id-1 input.sk-hidden--visually {border: 0;clip: rect(1px 1px 1px 1px);clip: rect(1px, 1px, 1px, 1px);height: 1px;margin: -1px;overflow: hidden;padding: 0;position: absolute;width: 1px;}#sk-container-id-1 div.sk-estimator {font-family: monospace;background-color: #f0f8ff;border: 1px dotted black;border-radius: 0.25em;box-sizing: border-box;margin-bottom: 0.5em;}#sk-container-id-1 div.sk-estimator:hover {background-color: #d4ebff;}#sk-container-id-1 div.sk-parallel-item::after {content: \"\";width: 100%;border-bottom: 1px solid gray;flex-grow: 1;}#sk-container-id-1 div.sk-label:hover label.sk-toggleable__label {background-color: #d4ebff;}#sk-container-id-1 div.sk-serial::before {content: \"\";position: absolute;border-left: 1px solid gray;box-sizing: border-box;top: 0;bottom: 0;left: 50%;z-index: 0;}#sk-container-id-1 div.sk-serial {display: flex;flex-direction: column;align-items: center;background-color: white;padding-right: 0.2em;padding-left: 0.2em;position: relative;}#sk-container-id-1 div.sk-item {position: relative;z-index: 1;}#sk-container-id-1 div.sk-parallel {display: flex;align-items: stretch;justify-content: center;background-color: white;position: relative;}#sk-container-id-1 div.sk-item::before, #sk-container-id-1 div.sk-parallel-item::before {content: \"\";position: absolute;border-left: 1px solid gray;box-sizing: border-box;top: 0;bottom: 0;left: 50%;z-index: -1;}#sk-container-id-1 div.sk-parallel-item {display: flex;flex-direction: column;z-index: 1;position: relative;background-color: white;}#sk-container-id-1 div.sk-parallel-item:first-child::after {align-self: flex-end;width: 50%;}#sk-container-id-1 div.sk-parallel-item:last-child::after {align-self: flex-start;width: 50%;}#sk-container-id-1 div.sk-parallel-item:only-child::after {width: 0;}#sk-container-id-1 div.sk-dashed-wrapped {border: 1px dashed gray;margin: 0 0.4em 0.5em 0.4em;box-sizing: border-box;padding-bottom: 0.4em;background-color: white;}#sk-container-id-1 div.sk-label label {font-family: monospace;font-weight: bold;display: inline-block;line-height: 1.2em;}#sk-container-id-1 div.sk-label-container {text-align: center;}#sk-container-id-1 div.sk-container {/* jupyter's `normalize.less` sets `[hidden] { display: none; }` but bootstrap.min.css set `[hidden] { display: none !important; }` so we also need the `!important` here to be able to override the default hidden behavior on the sphinx rendered scikit-learn.org. See: https://github.com/scikit-learn/scikit-learn/issues/21755 */display: inline-block !important;position: relative;}#sk-container-id-1 div.sk-text-repr-fallback {display: none;}</style><div id=\"sk-container-id-1\" class=\"sk-top-container\"><div class=\"sk-text-repr-fallback\"><pre>RandomForestClassifier(class_weight=&#x27;balanced&#x27;, criterion=&#x27;entropy&#x27;,\n",
       "                       max_depth=11, max_features=&#x27;log2&#x27;, n_estimators=81,\n",
       "                       random_state=1)</pre><b>In a Jupyter environment, please rerun this cell to show the HTML representation or trust the notebook. <br />On GitHub, the HTML representation is unable to render, please try loading this page with nbviewer.org.</b></div><div class=\"sk-container\" hidden><div class=\"sk-item\"><div class=\"sk-estimator sk-toggleable\"><input class=\"sk-toggleable__control sk-hidden--visually\" id=\"sk-estimator-id-1\" type=\"checkbox\" checked><label for=\"sk-estimator-id-1\" class=\"sk-toggleable__label sk-toggleable__label-arrow\">RandomForestClassifier</label><div class=\"sk-toggleable__content\"><pre>RandomForestClassifier(class_weight=&#x27;balanced&#x27;, criterion=&#x27;entropy&#x27;,\n",
       "                       max_depth=11, max_features=&#x27;log2&#x27;, n_estimators=81,\n",
       "                       random_state=1)</pre></div></div></div></div></div>"
      ],
      "text/plain": [
       "RandomForestClassifier(class_weight='balanced', criterion='entropy',\n",
       "                       max_depth=11, max_features='log2', n_estimators=81,\n",
       "                       random_state=1)"
      ]
     },
     "execution_count": 13,
     "metadata": {},
     "output_type": "execute_result"
    }
   ],
   "source": [
    "rf_clf.fit(train_features, train_labels)"
   ]
  },
  {
   "cell_type": "code",
   "execution_count": 14,
   "id": "d2b301ac",
   "metadata": {},
   "outputs": [],
   "source": [
    "predictions = rf_clf.predict(test_features)\n",
    "probs = rf_clf.predict_proba(test_features)[:, 1]"
   ]
  },
  {
   "cell_type": "code",
   "execution_count": 15,
   "id": "3dffb759",
   "metadata": {},
   "outputs": [],
   "source": [
    "result_table = [[\"F1\", \"Accuracy\", \"AUC\"]]"
   ]
  },
  {
   "cell_type": "code",
   "execution_count": 16,
   "id": "a6f7a47a",
   "metadata": {},
   "outputs": [],
   "source": [
    "result_table.append([\n",
    "    round(f1_score(test_labels, predictions), 3),\n",
    "    round(accuracy_score(test_labels, predictions), 3),\n",
    "    round(roc_auc_score(test_labels, probs), 3),\n",
    "])"
   ]
  },
  {
   "cell_type": "code",
   "execution_count": 31,
   "id": "7f4ab998",
   "metadata": {},
   "outputs": [
    {
     "data": {
      "text/plain": [
       "[['F1', 'Accuracy', 'AUC'], [0.91, 0.94, 0.984]]"
      ]
     },
     "execution_count": 31,
     "metadata": {},
     "output_type": "execute_result"
    }
   ],
   "source": [
    "result_table"
   ]
  },
  {
   "cell_type": "code",
   "execution_count": 32,
   "id": "b4f1a700",
   "metadata": {
    "scrolled": true
   },
   "outputs": [
    {
     "name": "stdout",
     "output_type": "stream",
     "text": [
      "+------+------------+-------+\n",
      "|   F1 |   Accuracy |   AUC |\n",
      "+======+============+=======+\n",
      "| 0.91 |       0.94 | 0.984 |\n",
      "+------+------------+-------+\n"
     ]
    }
   ],
   "source": [
    "from tabulate import tabulate\n",
    "print(tabulate(result_table, headers=\"firstrow\", tablefmt=\"grid\"))"
   ]
  },
  {
   "cell_type": "code",
   "execution_count": null,
   "id": "0eff6665",
   "metadata": {},
   "outputs": [],
   "source": [
    "b"
   ]
  },
  {
   "cell_type": "code",
   "execution_count": 17,
   "id": "2cede9ae",
   "metadata": {},
   "outputs": [
    {
     "name": "stdout",
     "output_type": "stream",
     "text": [
      "+-------+------------+-------+\n",
      "|    F1 |   Accuracy |   AUC |\n",
      "+=======+============+=======+\n",
      "| 0.902 |      0.934 | 0.983 |\n",
      "+-------+------------+-------+\n"
     ]
    }
   ],
   "source": [
    "\n",
    "from tabulate import tabulate\n",
    "print(tabulate(result_table, headers=\"firstrow\", tablefmt=\"grid\"))"
   ]
  },
  {
   "cell_type": "code",
   "execution_count": null,
   "id": "8abd478b",
   "metadata": {},
   "outputs": [],
   "source": []
  },
  {
   "cell_type": "code",
   "execution_count": null,
   "id": "36f0e166",
   "metadata": {},
   "outputs": [],
   "source": []
  },
  {
   "cell_type": "code",
   "execution_count": null,
   "id": "615b29dc",
   "metadata": {},
   "outputs": [],
   "source": []
  }
 ],
 "metadata": {
  "kernelspec": {
   "display_name": "Python 3 (ipykernel)",
   "language": "python",
   "name": "python3"
  },
  "language_info": {
   "codemirror_mode": {
    "name": "ipython",
    "version": 3
   },
   "file_extension": ".py",
   "mimetype": "text/x-python",
   "name": "python",
   "nbconvert_exporter": "python",
   "pygments_lexer": "ipython3",
   "version": "3.10.9"
  },
  "widgets": {
   "application/vnd.jupyter.widget-state+json": {
    "state": {},
    "version_major": 2,
    "version_minor": 0
   }
  }
 },
 "nbformat": 4,
 "nbformat_minor": 5
}
