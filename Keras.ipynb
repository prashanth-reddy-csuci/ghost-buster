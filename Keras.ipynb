{
 "cells": [
  {
   "cell_type": "code",
   "execution_count": 1,
   "id": "0a36f3f5",
   "metadata": {},
   "outputs": [],
   "source": [
    "from tensorflow import keras\n",
    "import pandas as pd\n",
    "import numpy as np\n",
    "import os\n",
    "import dill as pickle\n",
    "from sklearn.model_selection import train_test_split\n",
    "from sklearn.linear_model import LogisticRegression\n",
    "from sklearn.model_selection import GridSearchCV\n",
    "from sklearn.model_selection import cross_val_score\n",
    "from sklearn.metrics import f1_score, accuracy_score, roc_auc_score\n",
    "from tensorflow.keras.models import Sequential\n",
    "from tensorflow.keras.layers import Dense\n",
    "from tensorflow.keras.metrics import FalseNegatives"
   ]
  },
  {
   "cell_type": "code",
   "execution_count": 2,
   "id": "1fce7998",
   "metadata": {},
   "outputs": [],
   "source": [
    "def load_sentence_embeddings(model='DistilBERT', features_path='features/', filename='sentence_embeddings'):\n",
    "    if model == 'DistilBERT':\n",
    "        tst_df = pd.concat([pickle.load(open(os.path.join(features_path, file), 'rb')) for file in os.listdir(features_path) if filename in file])\n",
    "        return tst_df"
   ]
  },
  {
   "cell_type": "code",
   "execution_count": 3,
   "id": "d5f2c305",
   "metadata": {},
   "outputs": [],
   "source": [
    "tst_df = load_sentence_embeddings()"
   ]
  },
  {
   "cell_type": "code",
   "execution_count": 4,
   "id": "a8631e59",
   "metadata": {},
   "outputs": [
    {
     "data": {
      "text/plain": [
       "(22332, 2)"
      ]
     },
     "execution_count": 4,
     "metadata": {},
     "output_type": "execute_result"
    }
   ],
   "source": [
    "tst_df.shape"
   ]
  },
  {
   "cell_type": "code",
   "execution_count": 5,
   "id": "9f8765a2",
   "metadata": {},
   "outputs": [
    {
     "data": {
      "text/html": [
       "<div>\n",
       "<style scoped>\n",
       "    .dataframe tbody tr th:only-of-type {\n",
       "        vertical-align: middle;\n",
       "    }\n",
       "\n",
       "    .dataframe tbody tr th {\n",
       "        vertical-align: top;\n",
       "    }\n",
       "\n",
       "    .dataframe thead th {\n",
       "        text-align: right;\n",
       "    }\n",
       "</style>\n",
       "<table border=\"1\" class=\"dataframe\">\n",
       "  <thead>\n",
       "    <tr style=\"text-align: right;\">\n",
       "      <th></th>\n",
       "      <th>sentence_embeddings</th>\n",
       "      <th>label</th>\n",
       "    </tr>\n",
       "  </thead>\n",
       "  <tbody>\n",
       "    <tr>\n",
       "      <th>0</th>\n",
       "      <td>[-0.21086546778678894, -0.005486507900059223, ...</td>\n",
       "      <td>0</td>\n",
       "    </tr>\n",
       "    <tr>\n",
       "      <th>1</th>\n",
       "      <td>[-0.3340323865413666, 0.1280461549758911, -0.6...</td>\n",
       "      <td>0</td>\n",
       "    </tr>\n",
       "    <tr>\n",
       "      <th>2</th>\n",
       "      <td>[-0.4694300889968872, -0.14065003395080566, -0...</td>\n",
       "      <td>0</td>\n",
       "    </tr>\n",
       "    <tr>\n",
       "      <th>3</th>\n",
       "      <td>[-0.19011789560317993, 0.16007745265960693, -0...</td>\n",
       "      <td>0</td>\n",
       "    </tr>\n",
       "    <tr>\n",
       "      <th>4</th>\n",
       "      <td>[-0.5151359438896179, -0.09672432392835617, -0...</td>\n",
       "      <td>0</td>\n",
       "    </tr>\n",
       "  </tbody>\n",
       "</table>\n",
       "</div>"
      ],
      "text/plain": [
       "                                 sentence_embeddings  label\n",
       "0  [-0.21086546778678894, -0.005486507900059223, ...      0\n",
       "1  [-0.3340323865413666, 0.1280461549758911, -0.6...      0\n",
       "2  [-0.4694300889968872, -0.14065003395080566, -0...      0\n",
       "3  [-0.19011789560317993, 0.16007745265960693, -0...      0\n",
       "4  [-0.5151359438896179, -0.09672432392835617, -0...      0"
      ]
     },
     "execution_count": 5,
     "metadata": {},
     "output_type": "execute_result"
    }
   ],
   "source": [
    "tst_df.head()"
   ]
  },
  {
   "cell_type": "code",
   "execution_count": 6,
   "id": "354397c7",
   "metadata": {},
   "outputs": [],
   "source": [
    "features = np.array(tst_df.sentence_embeddings.tolist())\n",
    "labels = tst_df['label'].values"
   ]
  },
  {
   "cell_type": "code",
   "execution_count": null,
   "id": "55fb5eba",
   "metadata": {},
   "outputs": [],
   "source": []
  },
  {
   "cell_type": "code",
   "execution_count": 7,
   "id": "7f55c577",
   "metadata": {},
   "outputs": [],
   "source": [
    "from keras import backend as K\n",
    "\n",
    "def recall_m(y_true, y_pred):\n",
    "    true_positives = K.sum(K.round(K.clip(y_true * y_pred, 0, 1)))\n",
    "    possible_positives = K.sum(K.round(K.clip(y_true, 0, 1)))\n",
    "    recall = true_positives / (possible_positives + K.epsilon())\n",
    "    return recall\n",
    "\n",
    "def precision_m(y_true, y_pred):\n",
    "    true_positives = K.sum(K.round(K.clip(y_true * y_pred, 0, 1)))\n",
    "    predicted_positives = K.sum(K.round(K.clip(y_pred, 0, 1)))\n",
    "    precision = true_positives / (predicted_positives + K.epsilon())\n",
    "    return precision\n",
    "\n",
    "def f1_m(y_true, y_pred):\n",
    "    precision = precision_m(y_true, y_pred)\n",
    "    recall = recall_m(y_true, y_pred)\n",
    "    return 2*((precision*recall)/(precision+recall+K.epsilon()))\n"
   ]
  },
  {
   "cell_type": "code",
   "execution_count": 8,
   "id": "f732e78d",
   "metadata": {},
   "outputs": [],
   "source": [
    "model = Sequential()\n",
    "model.add(Dense(12, input_shape=(768, ), activation='relu'))\n",
    "model.add(Dense(8, activation='relu'))\n",
    "model.add(Dense(1, activation='sigmoid'))\n",
    "\n",
    "model.compile(loss='binary_crossentropy', optimizer='adam', metrics=[f1_m])"
   ]
  },
  {
   "cell_type": "code",
   "execution_count": null,
   "id": "dd06f9e5",
   "metadata": {},
   "outputs": [],
   "source": []
  },
  {
   "cell_type": "code",
   "execution_count": 9,
   "id": "ccba1532",
   "metadata": {},
   "outputs": [
    {
     "name": "stdout",
     "output_type": "stream",
     "text": [
      "Model: \"sequential\"\n",
      "_________________________________________________________________\n",
      " Layer (type)                Output Shape              Param #   \n",
      "=================================================================\n",
      " dense (Dense)               (None, 12)                9228      \n",
      "                                                                 \n",
      " dense_1 (Dense)             (None, 8)                 104       \n",
      "                                                                 \n",
      " dense_2 (Dense)             (None, 1)                 9         \n",
      "                                                                 \n",
      "=================================================================\n",
      "Total params: 9341 (36.49 KB)\n",
      "Trainable params: 9341 (36.49 KB)\n",
      "Non-trainable params: 0 (0.00 Byte)\n",
      "_________________________________________________________________\n"
     ]
    }
   ],
   "source": [
    "model.summary()"
   ]
  },
  {
   "cell_type": "code",
   "execution_count": 10,
   "id": "4a8d0945",
   "metadata": {},
   "outputs": [],
   "source": [
    "#model.fit(features, labels, epochs=150, batch_size=100)"
   ]
  },
  {
   "cell_type": "code",
   "execution_count": 11,
   "id": "8d7fbf7e",
   "metadata": {
    "scrolled": true
   },
   "outputs": [
    {
     "name": "stdout",
     "output_type": "stream",
     "text": [
      "Epoch 1/150\n",
      "224/224 [==============================] - 2s 3ms/step - loss: 0.2967 - f1_m: 0.7530\n",
      "Epoch 2/150\n",
      "224/224 [==============================] - 1s 3ms/step - loss: 0.1279 - f1_m: 0.9303\n",
      "Epoch 3/150\n",
      "224/224 [==============================] - 1s 3ms/step - loss: 0.1006 - f1_m: 0.9448\n",
      "Epoch 4/150\n",
      "224/224 [==============================] - 1s 3ms/step - loss: 0.0832 - f1_m: 0.9559\n",
      "Epoch 5/150\n",
      "224/224 [==============================] - 1s 3ms/step - loss: 0.0757 - f1_m: 0.9584\n",
      "Epoch 6/150\n",
      "224/224 [==============================] - 1s 3ms/step - loss: 0.0684 - f1_m: 0.9639\n",
      "Epoch 7/150\n",
      "224/224 [==============================] - 1s 3ms/step - loss: 0.0656 - f1_m: 0.9653\n",
      "Epoch 8/150\n",
      "224/224 [==============================] - 1s 3ms/step - loss: 0.0588 - f1_m: 0.9696\n",
      "Epoch 9/150\n",
      "224/224 [==============================] - 1s 3ms/step - loss: 0.0562 - f1_m: 0.9701\n",
      "Epoch 10/150\n",
      "224/224 [==============================] - 1s 3ms/step - loss: 0.0538 - f1_m: 0.9721\n",
      "Epoch 11/150\n",
      "224/224 [==============================] - 1s 3ms/step - loss: 0.0544 - f1_m: 0.9712\n",
      "Epoch 12/150\n",
      "224/224 [==============================] - 1s 3ms/step - loss: 0.0491 - f1_m: 0.9744\n",
      "Epoch 13/150\n",
      "224/224 [==============================] - 1s 3ms/step - loss: 0.0496 - f1_m: 0.9728\n",
      "Epoch 14/150\n",
      "224/224 [==============================] - 1s 3ms/step - loss: 0.0500 - f1_m: 0.9732\n",
      "Epoch 15/150\n",
      "224/224 [==============================] - 1s 3ms/step - loss: 0.0469 - f1_m: 0.9748\n",
      "Epoch 16/150\n",
      "224/224 [==============================] - 1s 3ms/step - loss: 0.0457 - f1_m: 0.9758\n",
      "Epoch 17/150\n",
      "224/224 [==============================] - 1s 3ms/step - loss: 0.0448 - f1_m: 0.9764\n",
      "Epoch 18/150\n",
      "224/224 [==============================] - 1s 3ms/step - loss: 0.0426 - f1_m: 0.9778\n",
      "Epoch 19/150\n",
      "224/224 [==============================] - 1s 3ms/step - loss: 0.0411 - f1_m: 0.9781\n",
      "Epoch 20/150\n",
      "224/224 [==============================] - 1s 3ms/step - loss: 0.0431 - f1_m: 0.9750\n",
      "Epoch 21/150\n",
      "224/224 [==============================] - 1s 3ms/step - loss: 0.0393 - f1_m: 0.9797\n",
      "Epoch 22/150\n",
      "224/224 [==============================] - 1s 3ms/step - loss: 0.0407 - f1_m: 0.9773\n",
      "Epoch 23/150\n",
      "224/224 [==============================] - 1s 3ms/step - loss: 0.0384 - f1_m: 0.9780\n",
      "Epoch 24/150\n",
      "224/224 [==============================] - 1s 3ms/step - loss: 0.0383 - f1_m: 0.9775\n",
      "Epoch 25/150\n",
      "224/224 [==============================] - 1s 3ms/step - loss: 0.0384 - f1_m: 0.9773\n",
      "Epoch 26/150\n",
      "224/224 [==============================] - 1s 3ms/step - loss: 0.0371 - f1_m: 0.9804\n",
      "Epoch 27/150\n",
      "224/224 [==============================] - 1s 3ms/step - loss: 0.0383 - f1_m: 0.9783\n",
      "Epoch 28/150\n",
      "224/224 [==============================] - 1s 3ms/step - loss: 0.0344 - f1_m: 0.9814\n",
      "Epoch 29/150\n",
      "224/224 [==============================] - 1s 3ms/step - loss: 0.0348 - f1_m: 0.9815\n",
      "Epoch 30/150\n",
      "224/224 [==============================] - 1s 3ms/step - loss: 0.0337 - f1_m: 0.9809\n",
      "Epoch 31/150\n",
      "224/224 [==============================] - 1s 3ms/step - loss: 0.0325 - f1_m: 0.9813\n",
      "Epoch 32/150\n",
      "224/224 [==============================] - 1s 3ms/step - loss: 0.0351 - f1_m: 0.9812\n",
      "Epoch 33/150\n",
      "224/224 [==============================] - 1s 3ms/step - loss: 0.0312 - f1_m: 0.9833\n",
      "Epoch 34/150\n",
      "224/224 [==============================] - 1s 3ms/step - loss: 0.0304 - f1_m: 0.9829\n",
      "Epoch 35/150\n",
      "224/224 [==============================] - 1s 3ms/step - loss: 0.0312 - f1_m: 0.9816\n",
      "Epoch 36/150\n",
      "224/224 [==============================] - 1s 3ms/step - loss: 0.0305 - f1_m: 0.9835\n",
      "Epoch 37/150\n",
      "224/224 [==============================] - 1s 3ms/step - loss: 0.0294 - f1_m: 0.9853\n",
      "Epoch 38/150\n",
      "224/224 [==============================] - 1s 3ms/step - loss: 0.0300 - f1_m: 0.9827\n",
      "Epoch 39/150\n",
      "224/224 [==============================] - 1s 3ms/step - loss: 0.0304 - f1_m: 0.9824\n",
      "Epoch 40/150\n",
      "224/224 [==============================] - 1s 3ms/step - loss: 0.0280 - f1_m: 0.9850\n",
      "Epoch 41/150\n",
      "224/224 [==============================] - 1s 3ms/step - loss: 0.0285 - f1_m: 0.9848\n",
      "Epoch 42/150\n",
      "224/224 [==============================] - 1s 3ms/step - loss: 0.0291 - f1_m: 0.9836\n",
      "Epoch 43/150\n",
      "224/224 [==============================] - 1s 3ms/step - loss: 0.0280 - f1_m: 0.9837\n",
      "Epoch 44/150\n",
      "224/224 [==============================] - 1s 3ms/step - loss: 0.0277 - f1_m: 0.9855\n",
      "Epoch 45/150\n",
      "224/224 [==============================] - 1s 3ms/step - loss: 0.0313 - f1_m: 0.9826\n",
      "Epoch 46/150\n",
      "224/224 [==============================] - 1s 3ms/step - loss: 0.0257 - f1_m: 0.9862\n",
      "Epoch 47/150\n",
      "224/224 [==============================] - 1s 3ms/step - loss: 0.0266 - f1_m: 0.9852\n",
      "Epoch 48/150\n",
      "224/224 [==============================] - 1s 3ms/step - loss: 0.0250 - f1_m: 0.9866\n",
      "Epoch 49/150\n",
      "224/224 [==============================] - 1s 3ms/step - loss: 0.0299 - f1_m: 0.9830\n",
      "Epoch 50/150\n",
      "224/224 [==============================] - 1s 3ms/step - loss: 0.0246 - f1_m: 0.9868\n",
      "Epoch 51/150\n",
      "224/224 [==============================] - 1s 3ms/step - loss: 0.0247 - f1_m: 0.9869\n",
      "Epoch 52/150\n",
      "224/224 [==============================] - 1s 3ms/step - loss: 0.0262 - f1_m: 0.9855\n",
      "Epoch 53/150\n",
      "224/224 [==============================] - 1s 3ms/step - loss: 0.0242 - f1_m: 0.9873\n",
      "Epoch 54/150\n",
      "224/224 [==============================] - 1s 3ms/step - loss: 0.0242 - f1_m: 0.9870\n",
      "Epoch 55/150\n",
      "224/224 [==============================] - 1s 3ms/step - loss: 0.0239 - f1_m: 0.9871\n",
      "Epoch 56/150\n",
      "224/224 [==============================] - 1s 3ms/step - loss: 0.0235 - f1_m: 0.9873\n",
      "Epoch 57/150\n",
      "224/224 [==============================] - 1s 3ms/step - loss: 0.0219 - f1_m: 0.9880\n",
      "Epoch 58/150\n",
      "224/224 [==============================] - 1s 3ms/step - loss: 0.0227 - f1_m: 0.9868\n",
      "Epoch 59/150\n",
      "224/224 [==============================] - 1s 3ms/step - loss: 0.0226 - f1_m: 0.9886\n",
      "Epoch 60/150\n",
      "224/224 [==============================] - 1s 3ms/step - loss: 0.0244 - f1_m: 0.9866\n",
      "Epoch 61/150\n",
      "224/224 [==============================] - 1s 3ms/step - loss: 0.0214 - f1_m: 0.9886\n",
      "Epoch 62/150\n",
      "224/224 [==============================] - 1s 3ms/step - loss: 0.0206 - f1_m: 0.9893\n",
      "Epoch 63/150\n",
      "224/224 [==============================] - 1s 3ms/step - loss: 0.0237 - f1_m: 0.9869\n",
      "Epoch 64/150\n",
      "224/224 [==============================] - 1s 3ms/step - loss: 0.0204 - f1_m: 0.9896\n",
      "Epoch 65/150\n",
      "224/224 [==============================] - 1s 3ms/step - loss: 0.0215 - f1_m: 0.9879\n",
      "Epoch 66/150\n",
      "224/224 [==============================] - 1s 3ms/step - loss: 0.0199 - f1_m: 0.9897\n",
      "Epoch 67/150\n",
      "224/224 [==============================] - 1s 3ms/step - loss: 0.0200 - f1_m: 0.9895\n",
      "Epoch 68/150\n",
      "224/224 [==============================] - 1s 3ms/step - loss: 0.0189 - f1_m: 0.9901\n",
      "Epoch 69/150\n",
      "224/224 [==============================] - 1s 3ms/step - loss: 0.0211 - f1_m: 0.9883\n",
      "Epoch 70/150\n",
      "224/224 [==============================] - 1s 3ms/step - loss: 0.0186 - f1_m: 0.9900\n",
      "Epoch 71/150\n",
      "224/224 [==============================] - 1s 3ms/step - loss: 0.0202 - f1_m: 0.9883\n",
      "Epoch 72/150\n",
      "224/224 [==============================] - 1s 3ms/step - loss: 0.0193 - f1_m: 0.9892\n",
      "Epoch 73/150\n",
      "224/224 [==============================] - 1s 3ms/step - loss: 0.0183 - f1_m: 0.9900\n",
      "Epoch 74/150\n",
      "224/224 [==============================] - 1s 3ms/step - loss: 0.0187 - f1_m: 0.9900\n",
      "Epoch 75/150\n",
      "224/224 [==============================] - 1s 3ms/step - loss: 0.0231 - f1_m: 0.9877\n",
      "Epoch 76/150\n",
      "224/224 [==============================] - 1s 3ms/step - loss: 0.0180 - f1_m: 0.9910\n",
      "Epoch 77/150\n",
      "224/224 [==============================] - 1s 3ms/step - loss: 0.0175 - f1_m: 0.9900\n",
      "Epoch 78/150\n",
      "224/224 [==============================] - 1s 3ms/step - loss: 0.0175 - f1_m: 0.9896\n",
      "Epoch 79/150\n",
      "224/224 [==============================] - 1s 3ms/step - loss: 0.0166 - f1_m: 0.9910\n",
      "Epoch 80/150\n",
      "224/224 [==============================] - 1s 3ms/step - loss: 0.0181 - f1_m: 0.9894\n",
      "Epoch 81/150\n",
      "224/224 [==============================] - 1s 3ms/step - loss: 0.0190 - f1_m: 0.9896\n",
      "Epoch 82/150\n",
      "224/224 [==============================] - 1s 3ms/step - loss: 0.0168 - f1_m: 0.9910\n",
      "Epoch 83/150\n",
      "224/224 [==============================] - 1s 3ms/step - loss: 0.0205 - f1_m: 0.9880\n",
      "Epoch 84/150\n"
     ]
    },
    {
     "name": "stdout",
     "output_type": "stream",
     "text": [
      "224/224 [==============================] - 1s 3ms/step - loss: 0.0157 - f1_m: 0.9917\n",
      "Epoch 85/150\n",
      "224/224 [==============================] - 1s 3ms/step - loss: 0.0166 - f1_m: 0.9904\n",
      "Epoch 86/150\n",
      "224/224 [==============================] - 1s 3ms/step - loss: 0.0192 - f1_m: 0.9883\n",
      "Epoch 87/150\n",
      "224/224 [==============================] - 1s 3ms/step - loss: 0.0144 - f1_m: 0.9923\n",
      "Epoch 88/150\n",
      "224/224 [==============================] - 1s 3ms/step - loss: 0.0166 - f1_m: 0.9911\n",
      "Epoch 89/150\n",
      "224/224 [==============================] - 1s 3ms/step - loss: 0.0155 - f1_m: 0.9920\n",
      "Epoch 90/150\n",
      "224/224 [==============================] - 1s 3ms/step - loss: 0.0165 - f1_m: 0.9903\n",
      "Epoch 91/150\n",
      "224/224 [==============================] - 1s 3ms/step - loss: 0.0139 - f1_m: 0.9921\n",
      "Epoch 92/150\n",
      "224/224 [==============================] - 1s 3ms/step - loss: 0.0138 - f1_m: 0.9933\n",
      "Epoch 93/150\n",
      "224/224 [==============================] - 1s 3ms/step - loss: 0.0153 - f1_m: 0.9919\n",
      "Epoch 94/150\n",
      "224/224 [==============================] - 1s 3ms/step - loss: 0.0153 - f1_m: 0.9918\n",
      "Epoch 95/150\n",
      "224/224 [==============================] - 1s 3ms/step - loss: 0.0144 - f1_m: 0.9924\n",
      "Epoch 96/150\n",
      "224/224 [==============================] - 1s 3ms/step - loss: 0.0136 - f1_m: 0.9920\n",
      "Epoch 97/150\n",
      "224/224 [==============================] - 1s 3ms/step - loss: 0.0146 - f1_m: 0.9912\n",
      "Epoch 98/150\n",
      "224/224 [==============================] - 1s 3ms/step - loss: 0.0131 - f1_m: 0.9931\n",
      "Epoch 99/150\n",
      "224/224 [==============================] - 1s 3ms/step - loss: 0.0112 - f1_m: 0.9942\n",
      "Epoch 100/150\n",
      "224/224 [==============================] - 1s 3ms/step - loss: 0.0134 - f1_m: 0.9931\n",
      "Epoch 101/150\n",
      "224/224 [==============================] - 1s 3ms/step - loss: 0.0137 - f1_m: 0.9925\n",
      "Epoch 102/150\n",
      "224/224 [==============================] - 1s 3ms/step - loss: 0.0118 - f1_m: 0.9932\n",
      "Epoch 103/150\n",
      "224/224 [==============================] - 1s 3ms/step - loss: 0.0130 - f1_m: 0.9922\n",
      "Epoch 104/150\n",
      "224/224 [==============================] - 1s 3ms/step - loss: 0.0143 - f1_m: 0.9912\n",
      "Epoch 105/150\n",
      "224/224 [==============================] - 1s 3ms/step - loss: 0.0129 - f1_m: 0.9931\n",
      "Epoch 106/150\n",
      "224/224 [==============================] - 1s 3ms/step - loss: 0.0114 - f1_m: 0.9939\n",
      "Epoch 107/150\n",
      "224/224 [==============================] - 1s 3ms/step - loss: 0.0120 - f1_m: 0.9937\n",
      "Epoch 108/150\n",
      "224/224 [==============================] - 1s 3ms/step - loss: 0.0124 - f1_m: 0.9935\n",
      "Epoch 109/150\n",
      "224/224 [==============================] - 1s 3ms/step - loss: 0.0103 - f1_m: 0.9954\n",
      "Epoch 110/150\n",
      "224/224 [==============================] - 1s 3ms/step - loss: 0.0094 - f1_m: 0.9952\n",
      "Epoch 111/150\n",
      "224/224 [==============================] - 1s 3ms/step - loss: 0.0099 - f1_m: 0.9949\n",
      "Epoch 112/150\n",
      "224/224 [==============================] - 1s 3ms/step - loss: 0.0112 - f1_m: 0.9937\n",
      "Epoch 113/150\n",
      "224/224 [==============================] - 1s 3ms/step - loss: 0.0103 - f1_m: 0.9943\n",
      "Epoch 114/150\n",
      "224/224 [==============================] - 1s 3ms/step - loss: 0.0139 - f1_m: 0.9923\n",
      "Epoch 115/150\n",
      "224/224 [==============================] - 1s 3ms/step - loss: 0.0098 - f1_m: 0.9946\n",
      "Epoch 116/150\n",
      "224/224 [==============================] - 1s 3ms/step - loss: 0.0095 - f1_m: 0.9949\n",
      "Epoch 117/150\n",
      "224/224 [==============================] - 1s 3ms/step - loss: 0.0156 - f1_m: 0.9913\n",
      "Epoch 118/150\n",
      "224/224 [==============================] - 1s 3ms/step - loss: 0.0108 - f1_m: 0.9947\n",
      "Epoch 119/150\n",
      "224/224 [==============================] - 1s 3ms/step - loss: 0.0101 - f1_m: 0.9942\n",
      "Epoch 120/150\n",
      "224/224 [==============================] - 1s 3ms/step - loss: 0.0097 - f1_m: 0.9939\n",
      "Epoch 121/150\n",
      "224/224 [==============================] - 1s 3ms/step - loss: 0.0076 - f1_m: 0.9965\n",
      "Epoch 122/150\n",
      "224/224 [==============================] - 1s 3ms/step - loss: 0.0071 - f1_m: 0.9967\n",
      "Epoch 123/150\n",
      "224/224 [==============================] - 1s 3ms/step - loss: 0.0074 - f1_m: 0.9970\n",
      "Epoch 124/150\n",
      "224/224 [==============================] - 1s 3ms/step - loss: 0.0116 - f1_m: 0.9939\n",
      "Epoch 125/150\n",
      "224/224 [==============================] - 1s 3ms/step - loss: 0.0119 - f1_m: 0.9935\n",
      "Epoch 126/150\n",
      "224/224 [==============================] - 1s 3ms/step - loss: 0.0085 - f1_m: 0.9950\n",
      "Epoch 127/150\n",
      "224/224 [==============================] - 1s 3ms/step - loss: 0.0093 - f1_m: 0.9950\n",
      "Epoch 128/150\n",
      "224/224 [==============================] - 1s 3ms/step - loss: 0.0071 - f1_m: 0.9962\n",
      "Epoch 129/150\n",
      "224/224 [==============================] - 1s 3ms/step - loss: 0.0076 - f1_m: 0.9963\n",
      "Epoch 130/150\n",
      "224/224 [==============================] - 1s 3ms/step - loss: 0.0094 - f1_m: 0.9952\n",
      "Epoch 131/150\n",
      "224/224 [==============================] - 1s 3ms/step - loss: 0.0077 - f1_m: 0.9960\n",
      "Epoch 132/150\n",
      "224/224 [==============================] - 1s 3ms/step - loss: 0.0099 - f1_m: 0.9950\n",
      "Epoch 133/150\n",
      "224/224 [==============================] - 1s 3ms/step - loss: 0.0068 - f1_m: 0.9967\n",
      "Epoch 134/150\n",
      "224/224 [==============================] - 1s 3ms/step - loss: 0.0086 - f1_m: 0.9951\n",
      "Epoch 135/150\n",
      "224/224 [==============================] - 1s 3ms/step - loss: 0.0051 - f1_m: 0.9975\n",
      "Epoch 136/150\n",
      "224/224 [==============================] - 1s 3ms/step - loss: 0.0048 - f1_m: 0.9982\n",
      "Epoch 137/150\n",
      "224/224 [==============================] - 1s 3ms/step - loss: 0.0046 - f1_m: 0.9983\n",
      "Epoch 138/150\n",
      "224/224 [==============================] - 1s 3ms/step - loss: 0.0052 - f1_m: 0.9975\n",
      "Epoch 139/150\n",
      "224/224 [==============================] - 1s 3ms/step - loss: 0.0082 - f1_m: 0.9957\n",
      "Epoch 140/150\n",
      "224/224 [==============================] - 1s 3ms/step - loss: 0.0082 - f1_m: 0.9952\n",
      "Epoch 141/150\n",
      "224/224 [==============================] - 1s 3ms/step - loss: 0.0068 - f1_m: 0.9968\n",
      "Epoch 142/150\n",
      "224/224 [==============================] - 1s 3ms/step - loss: 0.0047 - f1_m: 0.9982\n",
      "Epoch 143/150\n",
      "224/224 [==============================] - 1s 3ms/step - loss: 0.0046 - f1_m: 0.9979\n",
      "Epoch 144/150\n",
      "224/224 [==============================] - 1s 3ms/step - loss: 0.0068 - f1_m: 0.9961\n",
      "Epoch 145/150\n",
      "224/224 [==============================] - 1s 3ms/step - loss: 0.0111 - f1_m: 0.9937\n",
      "Epoch 146/150\n",
      "224/224 [==============================] - 1s 3ms/step - loss: 0.0042 - f1_m: 0.9980\n",
      "Epoch 147/150\n",
      "224/224 [==============================] - 1s 3ms/step - loss: 0.0068 - f1_m: 0.9967\n",
      "Epoch 148/150\n",
      "224/224 [==============================] - 1s 3ms/step - loss: 0.0055 - f1_m: 0.9973\n",
      "Epoch 149/150\n",
      "224/224 [==============================] - 1s 3ms/step - loss: 0.0033 - f1_m: 0.9988\n",
      "Epoch 150/150\n",
      "224/224 [==============================] - 1s 3ms/step - loss: 0.0041 - f1_m: 0.9984\n"
     ]
    },
    {
     "data": {
      "text/plain": [
       "<keras.src.callbacks.History at 0x2276a0bbd30>"
      ]
     },
     "execution_count": 11,
     "metadata": {},
     "output_type": "execute_result"
    }
   ],
   "source": [
    "model.fit(features, labels, epochs=150, batch_size=100, workers=32, use_multiprocessing=True)"
   ]
  },
  {
   "cell_type": "code",
   "execution_count": 12,
   "id": "0f5e4fee",
   "metadata": {},
   "outputs": [],
   "source": [
    "loss, f1_score = model.evaluate(features, labels, verbose=0)"
   ]
  },
  {
   "cell_type": "code",
   "execution_count": 15,
   "id": "a222fd29",
   "metadata": {},
   "outputs": [
    {
     "data": {
      "text/plain": [
       "(0.0040576765313744545, 0.33626389503479004)"
      ]
     },
     "execution_count": 15,
     "metadata": {},
     "output_type": "execute_result"
    }
   ],
   "source": [
    "loss, f1_score"
   ]
  },
  {
   "cell_type": "code",
   "execution_count": 16,
   "id": "03c62f55",
   "metadata": {},
   "outputs": [
    {
     "name": "stdout",
     "output_type": "stream",
     "text": [
      "698/698 [==============================] - 1s 2ms/step\n"
     ]
    }
   ],
   "source": [
    "predictions = (model.predict(features) > 0.5).astype(int)\n"
   ]
  },
  {
   "cell_type": "code",
   "execution_count": 17,
   "id": "23e942ab",
   "metadata": {},
   "outputs": [
    {
     "name": "stdout",
     "output_type": "stream",
     "text": [
      "2359 [0]\n",
      "5465 [0]\n",
      "5491 [0]\n",
      "5505 [0]\n",
      "5559 [0]\n",
      "5613 [0]\n",
      "5653 [0]\n",
      "5661 [0]\n",
      "5813 [0]\n",
      "5946 [0]\n",
      "5993 [0]\n",
      "6162 [0]\n",
      "6184 [0]\n",
      "12416 [0]\n",
      "14890 [0]\n",
      "14892 [0]\n",
      "14893 [0]\n",
      "15174 [0]\n",
      "17990 [1]\n",
      "19796 [1]\n",
      "20878 [1]\n",
      "21221 [1]\n",
      "21709 [1]\n",
      "21790 [1]\n",
      "22023 [1]\n",
      "22315 [1]\n"
     ]
    }
   ],
   "source": [
    "for i in range(len(predictions)):\n",
    "    if predictions[i] != labels[i]:\n",
    "        print(i, predictions[i])"
   ]
  },
  {
   "cell_type": "code",
   "execution_count": 18,
   "id": "8453439c",
   "metadata": {},
   "outputs": [
    {
     "ename": "NameError",
     "evalue": "name 'test_features' is not defined",
     "output_type": "error",
     "traceback": [
      "\u001b[1;31m---------------------------------------------------------------------------\u001b[0m",
      "\u001b[1;31mNameError\u001b[0m                                 Traceback (most recent call last)",
      "Cell \u001b[1;32mIn[18], line 1\u001b[0m\n\u001b[1;32m----> 1\u001b[0m score \u001b[38;5;241m=\u001b[39m model\u001b[38;5;241m.\u001b[39mevaluate(\u001b[43mtest_features\u001b[49m, test_labels, verbose\u001b[38;5;241m=\u001b[39m\u001b[38;5;241m0\u001b[39m)\n",
      "\u001b[1;31mNameError\u001b[0m: name 'test_features' is not defined"
     ]
    }
   ],
   "source": [
    "score = model.evaluate(test_features, test_labels, verbose=0)"
   ]
  },
  {
   "cell_type": "code",
   "execution_count": null,
   "id": "9dd3da9e",
   "metadata": {},
   "outputs": [],
   "source": []
  },
  {
   "cell_type": "code",
   "execution_count": null,
   "id": "4ab90d39",
   "metadata": {},
   "outputs": [],
   "source": []
  },
  {
   "cell_type": "code",
   "execution_count": 20,
   "id": "6190ffa3",
   "metadata": {},
   "outputs": [],
   "source": [
    "model = Sequential()\n",
    "model.add(Dense(12, input_shape=(768, ), activation='relu'))\n",
    "model.add(Dense(8, activation='relu'))\n",
    "model.add(Dense(1, activation='sigmoid'))\n",
    "\n",
    "model.compile(loss='binary_crossentropy', optimizer='adam', metrics=['accuracy', FalseNegatives()])"
   ]
  },
  {
   "cell_type": "code",
   "execution_count": 13,
   "id": "1d4e6dc3",
   "metadata": {},
   "outputs": [
    {
     "data": {
      "text/plain": [
       "[0.9998656511306763, 3.0]"
      ]
     },
     "execution_count": 13,
     "metadata": {},
     "output_type": "execute_result"
    }
   ],
   "source": [
    "accuracy"
   ]
  },
  {
   "cell_type": "code",
   "execution_count": null,
   "id": "16db95f6",
   "metadata": {},
   "outputs": [],
   "source": []
  },
  {
   "cell_type": "code",
   "execution_count": null,
   "id": "e1e9e3f1",
   "metadata": {},
   "outputs": [],
   "source": []
  },
  {
   "cell_type": "code",
   "execution_count": null,
   "id": "92a034eb",
   "metadata": {},
   "outputs": [],
   "source": [
    "\n",
    "# compile the model\n",
    "model.compile(optimizer='adam', loss='binary_crossentropy', metrics=['acc',f1_m,precision_m, recall_m])\n"
   ]
  }
 ],
 "metadata": {
  "kernelspec": {
   "display_name": "Python 3 (ipykernel)",
   "language": "python",
   "name": "python3"
  },
  "language_info": {
   "codemirror_mode": {
    "name": "ipython",
    "version": 3
   },
   "file_extension": ".py",
   "mimetype": "text/x-python",
   "name": "python",
   "nbconvert_exporter": "python",
   "pygments_lexer": "ipython3",
   "version": "3.10.9"
  }
 },
 "nbformat": 4,
 "nbformat_minor": 5
}
