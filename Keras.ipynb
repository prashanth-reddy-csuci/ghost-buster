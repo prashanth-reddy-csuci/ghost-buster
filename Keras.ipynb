{
 "cells": [
  {
   "cell_type": "code",
   "execution_count": 1,
   "id": "0a36f3f5",
   "metadata": {},
   "outputs": [],
   "source": [
    "from tensorflow import keras\n",
    "import pandas as pd\n",
    "import numpy as np\n",
    "import os\n",
    "import dill as pickle\n",
    "from sklearn.model_selection import train_test_split\n",
    "from sklearn.linear_model import LogisticRegression\n",
    "from sklearn.model_selection import GridSearchCV\n",
    "from sklearn.model_selection import cross_val_score\n",
    "from sklearn.metrics import f1_score, accuracy_score, roc_auc_score\n",
    "from tensorflow.keras.models import Sequential\n",
    "from tensorflow.keras.layers import Dense\n",
    "from tensorflow.keras.metrics import FalseNegatives"
   ]
  },
  {
   "cell_type": "code",
   "execution_count": 2,
   "id": "1fce7998",
   "metadata": {},
   "outputs": [],
   "source": [
    "def load_sentence_embeddings(model='DistilBERT', features_path='features/', filename='sentence_embeddings'):\n",
    "    if model == 'DistilBERT':\n",
    "        tst_df = pd.concat([pickle.load(open(os.path.join(features_path, file), 'rb')) for file in os.listdir(features_path) if filename in file])\n",
    "        return tst_df"
   ]
  },
  {
   "cell_type": "code",
   "execution_count": 3,
   "id": "d5f2c305",
   "metadata": {},
   "outputs": [],
   "source": [
    "tst_df = load_sentence_embeddings()"
   ]
  },
  {
   "cell_type": "code",
   "execution_count": 4,
   "id": "a8631e59",
   "metadata": {},
   "outputs": [
    {
     "data": {
      "text/plain": [
       "(22332, 2)"
      ]
     },
     "execution_count": 4,
     "metadata": {},
     "output_type": "execute_result"
    }
   ],
   "source": [
    "tst_df.shape"
   ]
  },
  {
   "cell_type": "code",
   "execution_count": 5,
   "id": "9f8765a2",
   "metadata": {},
   "outputs": [
    {
     "data": {
      "text/html": [
       "<div>\n",
       "<style scoped>\n",
       "    .dataframe tbody tr th:only-of-type {\n",
       "        vertical-align: middle;\n",
       "    }\n",
       "\n",
       "    .dataframe tbody tr th {\n",
       "        vertical-align: top;\n",
       "    }\n",
       "\n",
       "    .dataframe thead th {\n",
       "        text-align: right;\n",
       "    }\n",
       "</style>\n",
       "<table border=\"1\" class=\"dataframe\">\n",
       "  <thead>\n",
       "    <tr style=\"text-align: right;\">\n",
       "      <th></th>\n",
       "      <th>sentence_embeddings</th>\n",
       "      <th>label</th>\n",
       "    </tr>\n",
       "  </thead>\n",
       "  <tbody>\n",
       "    <tr>\n",
       "      <th>0</th>\n",
       "      <td>[-0.21086546778678894, -0.005486507900059223, ...</td>\n",
       "      <td>0</td>\n",
       "    </tr>\n",
       "    <tr>\n",
       "      <th>1</th>\n",
       "      <td>[-0.3340323865413666, 0.1280461549758911, -0.6...</td>\n",
       "      <td>0</td>\n",
       "    </tr>\n",
       "    <tr>\n",
       "      <th>2</th>\n",
       "      <td>[-0.4694300889968872, -0.14065003395080566, -0...</td>\n",
       "      <td>0</td>\n",
       "    </tr>\n",
       "    <tr>\n",
       "      <th>3</th>\n",
       "      <td>[-0.19011789560317993, 0.16007745265960693, -0...</td>\n",
       "      <td>0</td>\n",
       "    </tr>\n",
       "    <tr>\n",
       "      <th>4</th>\n",
       "      <td>[-0.5151359438896179, -0.09672432392835617, -0...</td>\n",
       "      <td>0</td>\n",
       "    </tr>\n",
       "  </tbody>\n",
       "</table>\n",
       "</div>"
      ],
      "text/plain": [
       "                                 sentence_embeddings  label\n",
       "0  [-0.21086546778678894, -0.005486507900059223, ...      0\n",
       "1  [-0.3340323865413666, 0.1280461549758911, -0.6...      0\n",
       "2  [-0.4694300889968872, -0.14065003395080566, -0...      0\n",
       "3  [-0.19011789560317993, 0.16007745265960693, -0...      0\n",
       "4  [-0.5151359438896179, -0.09672432392835617, -0...      0"
      ]
     },
     "execution_count": 5,
     "metadata": {},
     "output_type": "execute_result"
    }
   ],
   "source": [
    "tst_df.head()"
   ]
  },
  {
   "cell_type": "code",
   "execution_count": 6,
   "id": "354397c7",
   "metadata": {},
   "outputs": [],
   "source": [
    "features = np.array(tst_df.sentence_embeddings.tolist())\n",
    "labels = tst_df['label'].values"
   ]
  },
  {
   "cell_type": "code",
   "execution_count": null,
   "id": "55fb5eba",
   "metadata": {},
   "outputs": [],
   "source": []
  },
  {
   "cell_type": "code",
   "execution_count": null,
   "id": "7f55c577",
   "metadata": {},
   "outputs": [],
   "source": []
  },
  {
   "cell_type": "code",
   "execution_count": null,
   "id": "159f2cb8",
   "metadata": {},
   "outputs": [],
   "source": [
    "model = Sequential()\n",
    "model.add(Dense(12, input_shape=(768, ), activation='relu'))\n",
    "model.add(Dense(8, activation='relu'))\n",
    "model.add(Dense(1, activation='sigmoid'))\n",
    "\n",
    "model.compile(loss='binary_crossentropy', optimizer='adam', metrics=['accuracy', FalseNegatives()])"
   ]
  },
  {
   "cell_type": "code",
   "execution_count": 9,
   "id": "d6ac8c93",
   "metadata": {},
   "outputs": [
    {
     "name": "stdout",
     "output_type": "stream",
     "text": [
      "Model: \"sequential\"\n",
      "_________________________________________________________________\n",
      " Layer (type)                Output Shape              Param #   \n",
      "=================================================================\n",
      " dense (Dense)               (None, 12)                9228      \n",
      "                                                                 \n",
      " dense_1 (Dense)             (None, 8)                 104       \n",
      "                                                                 \n",
      " dense_2 (Dense)             (None, 1)                 9         \n",
      "                                                                 \n",
      "=================================================================\n",
      "Total params: 9341 (36.49 KB)\n",
      "Trainable params: 9341 (36.49 KB)\n",
      "Non-trainable params: 0 (0.00 Byte)\n",
      "_________________________________________________________________\n"
     ]
    }
   ],
   "source": [
    "model.summary()"
   ]
  },
  {
   "cell_type": "code",
   "execution_count": 10,
   "id": "4a8d0945",
   "metadata": {},
   "outputs": [],
   "source": [
    "#model.fit(features, labels, epochs=150, batch_size=100)"
   ]
  },
  {
   "cell_type": "code",
   "execution_count": 11,
   "id": "a31c7a13",
   "metadata": {
    "scrolled": true
   },
   "outputs": [
    {
     "name": "stdout",
     "output_type": "stream",
     "text": [
      "Epoch 1/150\n",
      "224/224 [==============================] - 2s 3ms/step - loss: 0.2939 - accuracy: 0.8682 - false_negatives: 2635.0000\n",
      "Epoch 2/150\n",
      "224/224 [==============================] - 1s 3ms/step - loss: 0.1151 - accuracy: 0.9591 - false_negatives: 476.0000\n",
      "Epoch 3/150\n",
      "224/224 [==============================] - 1s 3ms/step - loss: 0.0885 - accuracy: 0.9682 - false_negatives: 366.0000\n",
      "Epoch 4/150\n",
      "224/224 [==============================] - 1s 3ms/step - loss: 0.0775 - accuracy: 0.9723 - false_negatives: 308.0000\n",
      "Epoch 5/150\n",
      "224/224 [==============================] - 1s 3ms/step - loss: 0.0707 - accuracy: 0.9735 - false_negatives: 300.0000\n",
      "Epoch 6/150\n",
      "224/224 [==============================] - 1s 3ms/step - loss: 0.0598 - accuracy: 0.9785 - false_negatives: 235.0000\n",
      "Epoch 7/150\n",
      "224/224 [==============================] - 1s 3ms/step - loss: 0.0571 - accuracy: 0.9799 - false_negatives: 217.0000\n",
      "Epoch 8/150\n",
      "224/224 [==============================] - 1s 3ms/step - loss: 0.0580 - accuracy: 0.9780 - false_negatives: 243.0000\n",
      "Epoch 9/150\n",
      "224/224 [==============================] - 1s 3ms/step - loss: 0.0518 - accuracy: 0.9809 - false_negatives: 203.0000\n",
      "Epoch 10/150\n",
      "224/224 [==============================] - 1s 3ms/step - loss: 0.0507 - accuracy: 0.9821 - false_negatives: 195.0000\n",
      "Epoch 11/150\n",
      "224/224 [==============================] - 1s 3ms/step - loss: 0.0473 - accuracy: 0.9829 - false_negatives: 195.0000\n",
      "Epoch 12/150\n",
      "224/224 [==============================] - 1s 3ms/step - loss: 0.0466 - accuracy: 0.9829 - false_negatives: 192.0000\n",
      "Epoch 13/150\n",
      "224/224 [==============================] - 1s 3ms/step - loss: 0.0438 - accuracy: 0.9834 - false_negatives: 186.0000\n",
      "Epoch 14/150\n",
      "224/224 [==============================] - 1s 3ms/step - loss: 0.0450 - accuracy: 0.9828 - false_negatives: 184.0000\n",
      "Epoch 15/150\n",
      "224/224 [==============================] - 1s 3ms/step - loss: 0.0398 - accuracy: 0.9857 - false_negatives: 157.0000\n",
      "Epoch 16/150\n",
      "224/224 [==============================] - 1s 3ms/step - loss: 0.0407 - accuracy: 0.9853 - false_negatives: 163.0000\n",
      "Epoch 17/150\n",
      "224/224 [==============================] - 1s 3ms/step - loss: 0.0387 - accuracy: 0.9859 - false_negatives: 144.0000\n",
      "Epoch 18/150\n",
      "224/224 [==============================] - 1s 3ms/step - loss: 0.0388 - accuracy: 0.9856 - false_negatives: 157.0000\n",
      "Epoch 19/150\n",
      "224/224 [==============================] - 1s 3ms/step - loss: 0.0361 - accuracy: 0.9865 - false_negatives: 148.0000\n",
      "Epoch 20/150\n",
      "224/224 [==============================] - 1s 3ms/step - loss: 0.0353 - accuracy: 0.9868 - false_negatives: 147.0000\n",
      "Epoch 21/150\n",
      "224/224 [==============================] - 1s 3ms/step - loss: 0.0354 - accuracy: 0.9870 - false_negatives: 130.0000\n",
      "Epoch 22/150\n",
      "224/224 [==============================] - 1s 3ms/step - loss: 0.0326 - accuracy: 0.9876 - false_negatives: 138.0000\n",
      "Epoch 23/150\n",
      "224/224 [==============================] - 1s 3ms/step - loss: 0.0345 - accuracy: 0.9871 - false_negatives: 143.0000\n",
      "Epoch 24/150\n",
      "224/224 [==============================] - 1s 3ms/step - loss: 0.0302 - accuracy: 0.9888 - false_negatives: 118.0000\n",
      "Epoch 25/150\n",
      "224/224 [==============================] - 1s 3ms/step - loss: 0.0298 - accuracy: 0.9886 - false_negatives: 127.0000\n",
      "Epoch 26/150\n",
      "224/224 [==============================] - 1s 3ms/step - loss: 0.0307 - accuracy: 0.9885 - false_negatives: 116.0000\n",
      "Epoch 27/150\n",
      "224/224 [==============================] - 1s 3ms/step - loss: 0.0267 - accuracy: 0.9899 - false_negatives: 109.0000\n",
      "Epoch 28/150\n",
      "224/224 [==============================] - 1s 3ms/step - loss: 0.0270 - accuracy: 0.9904 - false_negatives: 107.0000\n",
      "Epoch 29/150\n",
      "224/224 [==============================] - 1s 3ms/step - loss: 0.0268 - accuracy: 0.9901 - false_negatives: 106.0000\n",
      "Epoch 30/150\n",
      "224/224 [==============================] - 1s 3ms/step - loss: 0.0253 - accuracy: 0.9908 - false_negatives: 108.0000\n",
      "Epoch 31/150\n",
      "224/224 [==============================] - 1s 3ms/step - loss: 0.0254 - accuracy: 0.9912 - false_negatives: 88.0000\n",
      "Epoch 32/150\n",
      "224/224 [==============================] - 1s 3ms/step - loss: 0.0243 - accuracy: 0.9909 - false_negatives: 90.0000\n",
      "Epoch 33/150\n",
      "224/224 [==============================] - 1s 3ms/step - loss: 0.0281 - accuracy: 0.9891 - false_negatives: 116.0000\n",
      "Epoch 34/150\n",
      "224/224 [==============================] - 1s 3ms/step - loss: 0.0259 - accuracy: 0.9903 - false_negatives: 104.0000\n",
      "Epoch 35/150\n",
      "224/224 [==============================] - 1s 3ms/step - loss: 0.0228 - accuracy: 0.9918 - false_negatives: 88.0000\n",
      "Epoch 36/150\n",
      "224/224 [==============================] - 1s 3ms/step - loss: 0.0204 - accuracy: 0.9928 - false_negatives: 78.0000\n",
      "Epoch 37/150\n",
      "224/224 [==============================] - 1s 3ms/step - loss: 0.0208 - accuracy: 0.9922 - false_negatives: 80.0000\n",
      "Epoch 38/150\n",
      "224/224 [==============================] - 1s 3ms/step - loss: 0.0192 - accuracy: 0.9930 - false_negatives: 77.0000\n",
      "Epoch 39/150\n",
      "224/224 [==============================] - 1s 3ms/step - loss: 0.0234 - accuracy: 0.9919 - false_negatives: 80.0000\n",
      "Epoch 40/150\n",
      "224/224 [==============================] - 1s 3ms/step - loss: 0.0186 - accuracy: 0.9931 - false_negatives: 74.0000\n",
      "Epoch 41/150\n",
      "224/224 [==============================] - 1s 3ms/step - loss: 0.0178 - accuracy: 0.9940 - false_negatives: 63.0000\n",
      "Epoch 42/150\n",
      "224/224 [==============================] - 1s 3ms/step - loss: 0.0191 - accuracy: 0.9928 - false_negatives: 79.0000\n",
      "Epoch 43/150\n",
      "224/224 [==============================] - 1s 3ms/step - loss: 0.0178 - accuracy: 0.9936 - false_negatives: 63.0000\n",
      "Epoch 44/150\n",
      "224/224 [==============================] - 1s 3ms/step - loss: 0.0165 - accuracy: 0.9944 - false_negatives: 59.0000\n",
      "Epoch 45/150\n",
      "224/224 [==============================] - 1s 3ms/step - loss: 0.0176 - accuracy: 0.9936 - false_negatives: 70.0000\n",
      "Epoch 46/150\n",
      "224/224 [==============================] - 1s 3ms/step - loss: 0.0140 - accuracy: 0.9952 - false_negatives: 49.0000\n",
      "Epoch 47/150\n",
      "224/224 [==============================] - 1s 3ms/step - loss: 0.0158 - accuracy: 0.9943 - false_negatives: 61.0000\n",
      "Epoch 48/150\n",
      "224/224 [==============================] - 1s 3ms/step - loss: 0.0139 - accuracy: 0.9952 - false_negatives: 56.0000\n",
      "Epoch 49/150\n",
      "224/224 [==============================] - 1s 3ms/step - loss: 0.0162 - accuracy: 0.9935 - false_negatives: 71.0000\n",
      "Epoch 50/150\n",
      "224/224 [==============================] - 1s 3ms/step - loss: 0.0150 - accuracy: 0.9944 - false_negatives: 57.0000\n",
      "Epoch 51/150\n",
      "224/224 [==============================] - 1s 3ms/step - loss: 0.0127 - accuracy: 0.9954 - false_negatives: 49.0000\n",
      "Epoch 52/150\n",
      "224/224 [==============================] - 1s 3ms/step - loss: 0.0128 - accuracy: 0.9957 - false_negatives: 45.0000\n",
      "Epoch 53/150\n",
      "224/224 [==============================] - 1s 3ms/step - loss: 0.0159 - accuracy: 0.9939 - false_negatives: 63.0000\n",
      "Epoch 54/150\n",
      "224/224 [==============================] - 1s 3ms/step - loss: 0.0128 - accuracy: 0.9950 - false_negatives: 50.0000\n",
      "Epoch 55/150\n",
      "224/224 [==============================] - 1s 3ms/step - loss: 0.0111 - accuracy: 0.9961 - false_negatives: 39.0000\n",
      "Epoch 56/150\n",
      "224/224 [==============================] - 1s 3ms/step - loss: 0.0133 - accuracy: 0.9951 - false_negatives: 51.0000\n",
      "Epoch 57/150\n",
      "224/224 [==============================] - 1s 3ms/step - loss: 0.0104 - accuracy: 0.9963 - false_negatives: 33.0000\n",
      "Epoch 58/150\n",
      "224/224 [==============================] - 1s 3ms/step - loss: 0.0096 - accuracy: 0.9970 - false_negatives: 31.0000\n",
      "Epoch 59/150\n",
      "224/224 [==============================] - 1s 3ms/step - loss: 0.0121 - accuracy: 0.9951 - false_negatives: 50.0000\n",
      "Epoch 60/150\n",
      "224/224 [==============================] - 1s 3ms/step - loss: 0.0151 - accuracy: 0.9943 - false_negatives: 58.0000\n",
      "Epoch 61/150\n",
      "224/224 [==============================] - 1s 3ms/step - loss: 0.0106 - accuracy: 0.9963 - false_negatives: 42.0000\n",
      "Epoch 62/150\n",
      "224/224 [==============================] - 1s 3ms/step - loss: 0.0092 - accuracy: 0.9969 - false_negatives: 30.0000\n",
      "Epoch 63/150\n",
      "224/224 [==============================] - 1s 3ms/step - loss: 0.0076 - accuracy: 0.9977 - false_negatives: 27.0000\n",
      "Epoch 64/150\n"
     ]
    },
    {
     "name": "stdout",
     "output_type": "stream",
     "text": [
      "224/224 [==============================] - 1s 3ms/step - loss: 0.0091 - accuracy: 0.9967 - false_negatives: 36.0000\n",
      "Epoch 65/150\n",
      "224/224 [==============================] - 1s 3ms/step - loss: 0.0120 - accuracy: 0.9955 - false_negatives: 52.0000\n",
      "Epoch 66/150\n",
      "224/224 [==============================] - 1s 3ms/step - loss: 0.0101 - accuracy: 0.9963 - false_negatives: 40.0000\n",
      "Epoch 67/150\n",
      "224/224 [==============================] - 1s 3ms/step - loss: 0.0114 - accuracy: 0.9961 - false_negatives: 44.0000\n",
      "Epoch 68/150\n",
      "224/224 [==============================] - 1s 3ms/step - loss: 0.0098 - accuracy: 0.9966 - false_negatives: 35.0000\n",
      "Epoch 69/150\n",
      "224/224 [==============================] - 1s 3ms/step - loss: 0.0097 - accuracy: 0.9966 - false_negatives: 39.0000\n",
      "Epoch 70/150\n",
      "224/224 [==============================] - 1s 3ms/step - loss: 0.0094 - accuracy: 0.9964 - false_negatives: 44.0000\n",
      "Epoch 71/150\n",
      "224/224 [==============================] - 1s 3ms/step - loss: 0.0091 - accuracy: 0.9966 - false_negatives: 37.0000\n",
      "Epoch 72/150\n",
      "224/224 [==============================] - 1s 3ms/step - loss: 0.0083 - accuracy: 0.9972 - false_negatives: 30.0000\n",
      "Epoch 73/150\n",
      "224/224 [==============================] - 1s 3ms/step - loss: 0.0059 - accuracy: 0.9982 - false_negatives: 22.0000\n",
      "Epoch 74/150\n",
      "224/224 [==============================] - 1s 3ms/step - loss: 0.0075 - accuracy: 0.9978 - false_negatives: 23.0000\n",
      "Epoch 75/150\n",
      "224/224 [==============================] - 1s 3ms/step - loss: 0.0075 - accuracy: 0.9974 - false_negatives: 23.0000\n",
      "Epoch 76/150\n",
      "224/224 [==============================] - 1s 3ms/step - loss: 0.0086 - accuracy: 0.9970 - false_negatives: 35.0000\n",
      "Epoch 77/150\n",
      "224/224 [==============================] - 1s 3ms/step - loss: 0.0062 - accuracy: 0.9979 - false_negatives: 20.0000\n",
      "Epoch 78/150\n",
      "224/224 [==============================] - 1s 3ms/step - loss: 0.0117 - accuracy: 0.9953 - false_negatives: 47.0000\n",
      "Epoch 79/150\n",
      "224/224 [==============================] - 1s 3ms/step - loss: 0.0067 - accuracy: 0.9978 - false_negatives: 25.0000\n",
      "Epoch 80/150\n",
      "224/224 [==============================] - 1s 3ms/step - loss: 0.0056 - accuracy: 0.9985 - false_negatives: 15.0000\n",
      "Epoch 81/150\n",
      "224/224 [==============================] - 1s 3ms/step - loss: 0.0079 - accuracy: 0.9974 - false_negatives: 26.0000\n",
      "Epoch 82/150\n",
      "224/224 [==============================] - 1s 3ms/step - loss: 0.0074 - accuracy: 0.9973 - false_negatives: 31.0000\n",
      "Epoch 83/150\n",
      "224/224 [==============================] - 1s 3ms/step - loss: 0.0056 - accuracy: 0.9983 - false_negatives: 22.0000\n",
      "Epoch 84/150\n",
      "224/224 [==============================] - 1s 3ms/step - loss: 0.0068 - accuracy: 0.9979 - false_negatives: 22.0000\n",
      "Epoch 85/150\n",
      "224/224 [==============================] - 1s 3ms/step - loss: 0.0060 - accuracy: 0.9980 - false_negatives: 26.0000\n",
      "Epoch 86/150\n",
      "224/224 [==============================] - 1s 3ms/step - loss: 0.0039 - accuracy: 0.9987 - false_negatives: 13.0000\n",
      "Epoch 87/150\n",
      "224/224 [==============================] - 1s 3ms/step - loss: 0.0076 - accuracy: 0.9973 - false_negatives: 28.0000\n",
      "Epoch 88/150\n",
      "224/224 [==============================] - 1s 3ms/step - loss: 0.0109 - accuracy: 0.9957 - false_negatives: 50.0000\n",
      "Epoch 89/150\n",
      "224/224 [==============================] - 1s 3ms/step - loss: 0.0073 - accuracy: 0.9976 - false_negatives: 27.0000\n",
      "Epoch 90/150\n",
      "224/224 [==============================] - 1s 3ms/step - loss: 0.0035 - accuracy: 0.9989 - false_negatives: 10.0000\n",
      "Epoch 91/150\n",
      "224/224 [==============================] - 1s 3ms/step - loss: 0.0090 - accuracy: 0.9969 - false_negatives: 40.0000\n",
      "Epoch 92/150\n",
      "224/224 [==============================] - 1s 3ms/step - loss: 0.0078 - accuracy: 0.9970 - false_negatives: 34.0000\n",
      "Epoch 93/150\n",
      "224/224 [==============================] - 1s 3ms/step - loss: 0.0044 - accuracy: 0.9984 - false_negatives: 20.0000\n",
      "Epoch 94/150\n",
      "224/224 [==============================] - 1s 3ms/step - loss: 0.0032 - accuracy: 0.9993 - false_negatives: 5.0000\n",
      "Epoch 95/150\n",
      "224/224 [==============================] - 1s 3ms/step - loss: 0.0020 - accuracy: 0.9997 - false_negatives: 3.0000\n",
      "Epoch 96/150\n",
      "224/224 [==============================] - 1s 3ms/step - loss: 0.0056 - accuracy: 0.9983 - false_negatives: 16.0000\n",
      "Epoch 97/150\n",
      "224/224 [==============================] - 1s 3ms/step - loss: 0.0136 - accuracy: 0.9950 - false_negatives: 57.0000\n",
      "Epoch 98/150\n",
      "224/224 [==============================] - 1s 3ms/step - loss: 0.0042 - accuracy: 0.9987 - false_negatives: 16.0000\n",
      "Epoch 99/150\n",
      "224/224 [==============================] - 1s 3ms/step - loss: 0.0049 - accuracy: 0.9979 - false_negatives: 22.0000\n",
      "Epoch 100/150\n",
      "224/224 [==============================] - 1s 3ms/step - loss: 0.0055 - accuracy: 0.9980 - false_negatives: 22.0000\n",
      "Epoch 101/150\n",
      "224/224 [==============================] - 1s 3ms/step - loss: 0.0058 - accuracy: 0.9978 - false_negatives: 23.0000\n",
      "Epoch 102/150\n",
      "224/224 [==============================] - 1s 3ms/step - loss: 0.0035 - accuracy: 0.9988 - false_negatives: 11.0000\n",
      "Epoch 103/150\n",
      "224/224 [==============================] - 1s 3ms/step - loss: 0.0051 - accuracy: 0.9982 - false_negatives: 24.0000\n",
      "Epoch 104/150\n",
      "224/224 [==============================] - 1s 3ms/step - loss: 0.0028 - accuracy: 0.9993 - false_negatives: 6.0000\n",
      "Epoch 105/150\n",
      "224/224 [==============================] - 1s 3ms/step - loss: 0.0014 - accuracy: 0.9999 - false_negatives: 1.0000\n",
      "Epoch 106/150\n",
      "224/224 [==============================] - 1s 3ms/step - loss: 0.0016 - accuracy: 0.9998 - false_negatives: 3.0000\n",
      "Epoch 107/150\n",
      "224/224 [==============================] - 1s 3ms/step - loss: 0.0182 - accuracy: 0.9941 - false_negatives: 65.0000\n",
      "Epoch 108/150\n",
      "224/224 [==============================] - 1s 3ms/step - loss: 0.0075 - accuracy: 0.9974 - false_negatives: 32.0000\n",
      "Epoch 109/150\n",
      "224/224 [==============================] - 1s 3ms/step - loss: 0.0024 - accuracy: 0.9994 - false_negatives: 3.0000\n",
      "Epoch 110/150\n",
      "224/224 [==============================] - 1s 3ms/step - loss: 0.0033 - accuracy: 0.9990 - false_negatives: 11.0000\n",
      "Epoch 111/150\n",
      "224/224 [==============================] - 1s 3ms/step - loss: 0.0015 - accuracy: 0.9998 - false_negatives: 3.0000\n",
      "Epoch 112/150\n",
      "224/224 [==============================] - 1s 3ms/step - loss: 0.0063 - accuracy: 0.9974 - false_negatives: 27.0000\n",
      "Epoch 113/150\n",
      "224/224 [==============================] - 1s 3ms/step - loss: 0.0053 - accuracy: 0.9983 - false_negatives: 18.0000\n",
      "Epoch 114/150\n",
      "224/224 [==============================] - 1s 3ms/step - loss: 0.0062 - accuracy: 0.9979 - false_negatives: 21.0000\n",
      "Epoch 115/150\n",
      "224/224 [==============================] - 1s 3ms/step - loss: 0.0019 - accuracy: 0.9996 - false_negatives: 6.0000\n",
      "Epoch 116/150\n",
      "224/224 [==============================] - 1s 3ms/step - loss: 0.0015 - accuracy: 0.9998 - false_negatives: 2.0000\n",
      "Epoch 117/150\n",
      "224/224 [==============================] - 1s 3ms/step - loss: 0.0054 - accuracy: 0.9978 - false_negatives: 23.0000\n",
      "Epoch 118/150\n",
      "224/224 [==============================] - 1s 3ms/step - loss: 0.0039 - accuracy: 0.9985 - false_negatives: 16.0000\n",
      "Epoch 119/150\n",
      "224/224 [==============================] - 1s 3ms/step - loss: 0.0060 - accuracy: 0.9977 - false_negatives: 22.0000\n",
      "Epoch 120/150\n",
      "224/224 [==============================] - 1s 3ms/step - loss: 0.0036 - accuracy: 0.9987 - false_negatives: 14.0000\n",
      "Epoch 121/150\n",
      "224/224 [==============================] - 1s 3ms/step - loss: 0.0024 - accuracy: 0.9992 - false_negatives: 9.0000\n",
      "Epoch 122/150\n",
      "224/224 [==============================] - 1s 3ms/step - loss: 0.0013 - accuracy: 0.9997 - false_negatives: 2.0000\n",
      "Epoch 123/150\n",
      "224/224 [==============================] - 1s 3ms/step - loss: 8.5256e-04 - accuracy: 1.0000 - false_negatives: 0.0000e+00\n",
      "Epoch 124/150\n",
      "224/224 [==============================] - 1s 3ms/step - loss: 0.0081 - accuracy: 0.9973 - false_negatives: 29.0000\n",
      "Epoch 125/150\n",
      "224/224 [==============================] - 1s 3ms/step - loss: 0.0025 - accuracy: 0.9992 - false_negatives: 11.0000\n",
      "Epoch 126/150\n",
      "224/224 [==============================] - 1s 3ms/step - loss: 0.0088 - accuracy: 0.9972 - false_negatives: 28.0000\n",
      "Epoch 127/150\n"
     ]
    },
    {
     "name": "stdout",
     "output_type": "stream",
     "text": [
      "224/224 [==============================] - 1s 3ms/step - loss: 0.0025 - accuracy: 0.9994 - false_negatives: 6.0000\n",
      "Epoch 128/150\n",
      "224/224 [==============================] - 1s 3ms/step - loss: 0.0058 - accuracy: 0.9981 - false_negatives: 23.0000\n",
      "Epoch 129/150\n",
      "224/224 [==============================] - 1s 3ms/step - loss: 0.0117 - accuracy: 0.9962 - false_negatives: 44.0000\n",
      "Epoch 130/150\n",
      "224/224 [==============================] - 1s 3ms/step - loss: 0.0014 - accuracy: 0.9998 - false_negatives: 3.0000\n",
      "Epoch 131/150\n",
      "224/224 [==============================] - 1s 3ms/step - loss: 0.0010 - accuracy: 1.0000 - false_negatives: 1.0000\n",
      "Epoch 132/150\n",
      "224/224 [==============================] - 1s 3ms/step - loss: 6.9302e-04 - accuracy: 1.0000 - false_negatives: 0.0000e+00\n",
      "Epoch 133/150\n",
      "224/224 [==============================] - 1s 3ms/step - loss: 5.7690e-04 - accuracy: 1.0000 - false_negatives: 0.0000e+00\n",
      "Epoch 134/150\n",
      "224/224 [==============================] - 1s 3ms/step - loss: 5.5395e-04 - accuracy: 1.0000 - false_negatives: 0.0000e+00\n",
      "Epoch 135/150\n",
      "224/224 [==============================] - 1s 3ms/step - loss: 5.2769e-04 - accuracy: 1.0000 - false_negatives: 0.0000e+00\n",
      "Epoch 136/150\n",
      "224/224 [==============================] - 1s 3ms/step - loss: 0.0086 - accuracy: 0.9973 - false_negatives: 30.0000\n",
      "Epoch 137/150\n",
      "224/224 [==============================] - 1s 3ms/step - loss: 0.0100 - accuracy: 0.9967 - false_negatives: 34.0000\n",
      "Epoch 138/150\n",
      "224/224 [==============================] - 1s 3ms/step - loss: 0.0030 - accuracy: 0.9990 - false_negatives: 11.0000\n",
      "Epoch 139/150\n",
      "224/224 [==============================] - 1s 3ms/step - loss: 9.9633e-04 - accuracy: 0.9998 - false_negatives: 2.0000\n",
      "Epoch 140/150\n",
      "224/224 [==============================] - 1s 3ms/step - loss: 7.6449e-04 - accuracy: 0.9999 - false_negatives: 1.0000\n",
      "Epoch 141/150\n",
      "224/224 [==============================] - 1s 3ms/step - loss: 0.0013 - accuracy: 0.9998 - false_negatives: 2.0000\n",
      "Epoch 142/150\n",
      "224/224 [==============================] - 1s 3ms/step - loss: 7.2081e-04 - accuracy: 1.0000 - false_negatives: 0.0000e+00\n",
      "Epoch 143/150\n",
      "224/224 [==============================] - 1s 3ms/step - loss: 4.6513e-04 - accuracy: 1.0000 - false_negatives: 0.0000e+00\n",
      "Epoch 144/150\n",
      "224/224 [==============================] - 1s 3ms/step - loss: 3.6162e-04 - accuracy: 1.0000 - false_negatives: 0.0000e+00\n",
      "Epoch 145/150\n",
      "224/224 [==============================] - 1s 3ms/step - loss: 5.3201e-04 - accuracy: 1.0000 - false_negatives: 0.0000e+00\n",
      "Epoch 146/150\n",
      "224/224 [==============================] - 1s 3ms/step - loss: 0.0146 - accuracy: 0.9954 - false_negatives: 51.0000\n",
      "Epoch 147/150\n",
      "224/224 [==============================] - 1s 3ms/step - loss: 0.0061 - accuracy: 0.9974 - false_negatives: 29.0000\n",
      "Epoch 148/150\n",
      "224/224 [==============================] - 1s 3ms/step - loss: 0.0031 - accuracy: 0.9987 - false_negatives: 14.0000\n",
      "Epoch 149/150\n",
      "224/224 [==============================] - 1s 3ms/step - loss: 0.0043 - accuracy: 0.9985 - false_negatives: 19.0000\n",
      "Epoch 150/150\n",
      "224/224 [==============================] - 1s 3ms/step - loss: 9.4779e-04 - accuracy: 0.9998 - false_negatives: 3.0000\n"
     ]
    },
    {
     "data": {
      "text/plain": [
       "<keras.src.callbacks.History at 0x211c1ac1b70>"
      ]
     },
     "execution_count": 11,
     "metadata": {},
     "output_type": "execute_result"
    }
   ],
   "source": [
    "model.fit(features, labels, epochs=150, batch_size=100, workers=32, use_multiprocessing=True)"
   ]
  },
  {
   "cell_type": "code",
   "execution_count": 12,
   "id": "0f5e4fee",
   "metadata": {},
   "outputs": [],
   "source": [
    "loss, *accuracy = model.evaluate(features, labels, verbose=0)"
   ]
  },
  {
   "cell_type": "code",
   "execution_count": 13,
   "id": "a222fd29",
   "metadata": {},
   "outputs": [
    {
     "data": {
      "text/plain": [
       "[0.9998656511306763, 3.0]"
      ]
     },
     "execution_count": 13,
     "metadata": {},
     "output_type": "execute_result"
    }
   ],
   "source": [
    "accuracy"
   ]
  },
  {
   "cell_type": "code",
   "execution_count": 14,
   "id": "c3560eb5",
   "metadata": {
    "collapsed": true
   },
   "outputs": [
    {
     "name": "stdout",
     "output_type": "stream",
     "text": [
      "698/698 [==============================] - 1s 2ms/step\n",
      "[0] (expected 0)\n",
      "[0] (expected 0)\n",
      "[0] (expected 0)\n",
      "[0] (expected 0)\n",
      "[0] (expected 0)\n",
      "[0] (expected 0)\n",
      "[0] (expected 0)\n",
      "[0] (expected 0)\n",
      "[0] (expected 0)\n",
      "[0] (expected 0)\n",
      "[0] (expected 0)\n",
      "[0] (expected 0)\n",
      "[0] (expected 0)\n",
      "[0] (expected 0)\n",
      "[0] (expected 0)\n"
     ]
    }
   ],
   "source": [
    "predictions = (model.predict(features) > 0.5).astype(int)\n",
    "\n",
    "\n",
    "for i in range(15):\n",
    "    print('{0} (expected {1})'.format(predictions[i], labels[i]))"
   ]
  },
  {
   "cell_type": "code",
   "execution_count": 19,
   "id": "23e942ab",
   "metadata": {},
   "outputs": [
    {
     "name": "stdout",
     "output_type": "stream",
     "text": [
      "5528 [0] 1\n",
      "5568 [0] 1\n",
      "5700 [0] 1\n"
     ]
    }
   ],
   "source": [
    "for i in range(len(predictions)):\n",
    "    if predictions[i] != labels[i]:\n",
    "        print(i, predictions[i])"
   ]
  },
  {
   "cell_type": "code",
   "execution_count": null,
   "id": "9d21f487",
   "metadata": {},
   "outputs": [],
   "source": []
  }
 ],
 "metadata": {
  "kernelspec": {
   "display_name": "Python 3 (ipykernel)",
   "language": "python",
   "name": "python3"
  },
  "language_info": {
   "codemirror_mode": {
    "name": "ipython",
    "version": 3
   },
   "file_extension": ".py",
   "mimetype": "text/x-python",
   "name": "python",
   "nbconvert_exporter": "python",
   "pygments_lexer": "ipython3",
   "version": "3.10.9"
  }
 },
 "nbformat": 4,
 "nbformat_minor": 5
}
